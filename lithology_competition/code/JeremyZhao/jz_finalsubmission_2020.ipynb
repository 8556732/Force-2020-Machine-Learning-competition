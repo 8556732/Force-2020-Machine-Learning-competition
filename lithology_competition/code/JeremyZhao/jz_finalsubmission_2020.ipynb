{
 "cells": [
  {
   "cell_type": "markdown",
   "metadata": {},
   "source": [
    "## FORCE-2020: Machine Predicted Lithology"
   ]
  },
  {
   "cell_type": "markdown",
   "metadata": {},
   "source": [
    "By: Jeremy Zhao\n",
    "\n",
    "This is my very first machine learning submission. This challenge was to take data provided by Xeek to predict the lithology from well logs. There was a training set and a test set that was provided, along with a custom penalty matrix provided by Xeek. In the training and test set, the lithology was interpreted manually in order to see how close the machine algorithm would get. \n",
    "\n",
    "This particular Jupyter notebook is derived from the starter notebook as it was my first time with machine learning. I have also added many references in order to help myself learn more about machine learning. I hope this may be of help to those who are just starting to learn ML like I did, and to see the struggles I went through."
   ]
  },
  {
   "cell_type": "markdown",
   "metadata": {},
   "source": [
    "### Credit Information"
   ]
  },
  {
   "cell_type": "markdown",
   "metadata": {},
   "source": [
    "Lithofacies data was provided by the FORCE Machine Learning competition with well logs and seismic 2020\n",
    "\n",
    "Bormann P., Aursand P., Dilib F., Dischington P., Manral S. 2020. 2020 FORCE Machine Learning Contest. https://github.com/bolgebrygg/Force-2020-Machine-Learning-competition"
   ]
  },
  {
   "cell_type": "markdown",
   "metadata": {},
   "source": [
    "### 1. Importing Data"
   ]
  },
  {
   "cell_type": "code",
   "execution_count": 1,
   "metadata": {},
   "outputs": [],
   "source": [
    "import warnings\n",
    "warnings.filterwarnings('ignore')\n",
    "\n",
    "import numpy as np\n",
    "import pandas as pd\n",
    "import pickle\n",
    "import matplotlib.pyplot as plt\n",
    "import seaborn as sns\n",
    "from scipy.stats import spearmanr\n",
    "from scipy.cluster import hierarchy\n",
    "\n",
    "import time\n",
    "import operator\n",
    "import missingno\n",
    "from collections import defaultdict\n",
    "\n",
    "from sklearn.model_selection import train_test_split\n",
    "from sklearn.preprocessing import StandardScaler\n",
    "from sklearn.utils import shuffle\n",
    "from sklearn.preprocessing import LabelEncoder, OrdinalEncoder\n",
    "from sklearn.ensemble import RandomForestClassifier\n",
    "from sklearn.model_selection import GridSearchCV\n",
    "from sklearn.preprocessing import power_transform\n",
    "from sklearn.inspection import permutation_importance\n",
    "from sklearn.metrics import fbeta_score, make_scorer\n",
    "from sklearn.experimental import enable_iterative_imputer  \n",
    "from sklearn.impute import IterativeImputer\n",
    "from sklearn.linear_model import BayesianRidge\n",
    "from sklearn.linear_model import RidgeClassifier\n",
    "\n",
    "import featuretools as ft\n",
    "\n",
    "#import xgboost as xgb\n",
    "#from xgboost.sklearn import XGBClassifier"
   ]
  },
  {
   "cell_type": "markdown",
   "metadata": {},
   "source": [
    "### 2. Load training data"
   ]
  },
  {
   "cell_type": "code",
   "execution_count": 2,
   "metadata": {},
   "outputs": [],
   "source": [
    "data = pd.read_csv(r'train.csv', sep=';')\n",
    "pd.options.display.max_columns = None"
   ]
  },
  {
   "cell_type": "code",
   "execution_count": 3,
   "metadata": {},
   "outputs": [
    {
     "data": {
      "text/html": [
       "<div>\n",
       "<style scoped>\n",
       "    .dataframe tbody tr th:only-of-type {\n",
       "        vertical-align: middle;\n",
       "    }\n",
       "\n",
       "    .dataframe tbody tr th {\n",
       "        vertical-align: top;\n",
       "    }\n",
       "\n",
       "    .dataframe thead th {\n",
       "        text-align: right;\n",
       "    }\n",
       "</style>\n",
       "<table border=\"1\" class=\"dataframe\">\n",
       "  <thead>\n",
       "    <tr style=\"text-align: right;\">\n",
       "      <th></th>\n",
       "      <th>WELL</th>\n",
       "      <th>DEPTH_MD</th>\n",
       "      <th>X_LOC</th>\n",
       "      <th>Y_LOC</th>\n",
       "      <th>Z_LOC</th>\n",
       "      <th>GROUP</th>\n",
       "      <th>FORMATION</th>\n",
       "      <th>CALI</th>\n",
       "      <th>RSHA</th>\n",
       "      <th>RMED</th>\n",
       "      <th>RDEP</th>\n",
       "      <th>RHOB</th>\n",
       "      <th>GR</th>\n",
       "      <th>SGR</th>\n",
       "      <th>NPHI</th>\n",
       "      <th>PEF</th>\n",
       "      <th>DTC</th>\n",
       "      <th>SP</th>\n",
       "      <th>BS</th>\n",
       "      <th>ROP</th>\n",
       "      <th>DTS</th>\n",
       "      <th>DCAL</th>\n",
       "      <th>DRHO</th>\n",
       "      <th>MUDWEIGHT</th>\n",
       "      <th>RMIC</th>\n",
       "      <th>ROPA</th>\n",
       "      <th>RXO</th>\n",
       "      <th>FORCE_2020_LITHOFACIES_LITHOLOGY</th>\n",
       "      <th>FORCE_2020_LITHOFACIES_CONFIDENCE</th>\n",
       "    </tr>\n",
       "  </thead>\n",
       "  <tbody>\n",
       "    <tr>\n",
       "      <th>0</th>\n",
       "      <td>15/9-13</td>\n",
       "      <td>494.5280</td>\n",
       "      <td>437641.96875</td>\n",
       "      <td>6470972.5</td>\n",
       "      <td>-469.501831</td>\n",
       "      <td>NORDLAND GP.</td>\n",
       "      <td>NaN</td>\n",
       "      <td>19.480835</td>\n",
       "      <td>NaN</td>\n",
       "      <td>1.611410</td>\n",
       "      <td>1.798681</td>\n",
       "      <td>1.884186</td>\n",
       "      <td>80.200851</td>\n",
       "      <td>NaN</td>\n",
       "      <td>NaN</td>\n",
       "      <td>20.915468</td>\n",
       "      <td>161.131180</td>\n",
       "      <td>24.612379</td>\n",
       "      <td>NaN</td>\n",
       "      <td>34.636410</td>\n",
       "      <td>NaN</td>\n",
       "      <td>NaN</td>\n",
       "      <td>-0.574928</td>\n",
       "      <td>NaN</td>\n",
       "      <td>NaN</td>\n",
       "      <td>NaN</td>\n",
       "      <td>NaN</td>\n",
       "      <td>65000</td>\n",
       "      <td>1.0</td>\n",
       "    </tr>\n",
       "    <tr>\n",
       "      <th>1</th>\n",
       "      <td>15/9-13</td>\n",
       "      <td>494.6800</td>\n",
       "      <td>437641.96875</td>\n",
       "      <td>6470972.5</td>\n",
       "      <td>-469.653809</td>\n",
       "      <td>NORDLAND GP.</td>\n",
       "      <td>NaN</td>\n",
       "      <td>19.468800</td>\n",
       "      <td>NaN</td>\n",
       "      <td>1.618070</td>\n",
       "      <td>1.795641</td>\n",
       "      <td>1.889794</td>\n",
       "      <td>79.262886</td>\n",
       "      <td>NaN</td>\n",
       "      <td>NaN</td>\n",
       "      <td>19.383013</td>\n",
       "      <td>160.603470</td>\n",
       "      <td>23.895531</td>\n",
       "      <td>NaN</td>\n",
       "      <td>34.636410</td>\n",
       "      <td>NaN</td>\n",
       "      <td>NaN</td>\n",
       "      <td>-0.570188</td>\n",
       "      <td>NaN</td>\n",
       "      <td>NaN</td>\n",
       "      <td>NaN</td>\n",
       "      <td>NaN</td>\n",
       "      <td>65000</td>\n",
       "      <td>1.0</td>\n",
       "    </tr>\n",
       "    <tr>\n",
       "      <th>2</th>\n",
       "      <td>15/9-13</td>\n",
       "      <td>494.8320</td>\n",
       "      <td>437641.96875</td>\n",
       "      <td>6470972.5</td>\n",
       "      <td>-469.805786</td>\n",
       "      <td>NORDLAND GP.</td>\n",
       "      <td>NaN</td>\n",
       "      <td>19.468800</td>\n",
       "      <td>NaN</td>\n",
       "      <td>1.626459</td>\n",
       "      <td>1.800733</td>\n",
       "      <td>1.896523</td>\n",
       "      <td>74.821999</td>\n",
       "      <td>NaN</td>\n",
       "      <td>NaN</td>\n",
       "      <td>22.591518</td>\n",
       "      <td>160.173615</td>\n",
       "      <td>23.916357</td>\n",
       "      <td>NaN</td>\n",
       "      <td>34.779556</td>\n",
       "      <td>NaN</td>\n",
       "      <td>NaN</td>\n",
       "      <td>-0.574245</td>\n",
       "      <td>NaN</td>\n",
       "      <td>NaN</td>\n",
       "      <td>NaN</td>\n",
       "      <td>NaN</td>\n",
       "      <td>65000</td>\n",
       "      <td>1.0</td>\n",
       "    </tr>\n",
       "    <tr>\n",
       "      <th>3</th>\n",
       "      <td>15/9-13</td>\n",
       "      <td>494.9840</td>\n",
       "      <td>437641.96875</td>\n",
       "      <td>6470972.5</td>\n",
       "      <td>-469.957794</td>\n",
       "      <td>NORDLAND GP.</td>\n",
       "      <td>NaN</td>\n",
       "      <td>19.459282</td>\n",
       "      <td>NaN</td>\n",
       "      <td>1.621594</td>\n",
       "      <td>1.801517</td>\n",
       "      <td>1.891913</td>\n",
       "      <td>72.878922</td>\n",
       "      <td>NaN</td>\n",
       "      <td>NaN</td>\n",
       "      <td>32.191910</td>\n",
       "      <td>160.149429</td>\n",
       "      <td>23.793688</td>\n",
       "      <td>NaN</td>\n",
       "      <td>39.965164</td>\n",
       "      <td>NaN</td>\n",
       "      <td>NaN</td>\n",
       "      <td>-0.586315</td>\n",
       "      <td>NaN</td>\n",
       "      <td>NaN</td>\n",
       "      <td>NaN</td>\n",
       "      <td>NaN</td>\n",
       "      <td>65000</td>\n",
       "      <td>1.0</td>\n",
       "    </tr>\n",
       "    <tr>\n",
       "      <th>4</th>\n",
       "      <td>15/9-13</td>\n",
       "      <td>495.1360</td>\n",
       "      <td>437641.96875</td>\n",
       "      <td>6470972.5</td>\n",
       "      <td>-470.109772</td>\n",
       "      <td>NORDLAND GP.</td>\n",
       "      <td>NaN</td>\n",
       "      <td>19.453100</td>\n",
       "      <td>NaN</td>\n",
       "      <td>1.602679</td>\n",
       "      <td>1.795299</td>\n",
       "      <td>1.880034</td>\n",
       "      <td>71.729141</td>\n",
       "      <td>NaN</td>\n",
       "      <td>NaN</td>\n",
       "      <td>38.495632</td>\n",
       "      <td>160.128342</td>\n",
       "      <td>24.104078</td>\n",
       "      <td>NaN</td>\n",
       "      <td>57.483765</td>\n",
       "      <td>NaN</td>\n",
       "      <td>NaN</td>\n",
       "      <td>-0.597914</td>\n",
       "      <td>NaN</td>\n",
       "      <td>NaN</td>\n",
       "      <td>NaN</td>\n",
       "      <td>NaN</td>\n",
       "      <td>65000</td>\n",
       "      <td>1.0</td>\n",
       "    </tr>\n",
       "    <tr>\n",
       "      <th>...</th>\n",
       "      <td>...</td>\n",
       "      <td>...</td>\n",
       "      <td>...</td>\n",
       "      <td>...</td>\n",
       "      <td>...</td>\n",
       "      <td>...</td>\n",
       "      <td>...</td>\n",
       "      <td>...</td>\n",
       "      <td>...</td>\n",
       "      <td>...</td>\n",
       "      <td>...</td>\n",
       "      <td>...</td>\n",
       "      <td>...</td>\n",
       "      <td>...</td>\n",
       "      <td>...</td>\n",
       "      <td>...</td>\n",
       "      <td>...</td>\n",
       "      <td>...</td>\n",
       "      <td>...</td>\n",
       "      <td>...</td>\n",
       "      <td>...</td>\n",
       "      <td>...</td>\n",
       "      <td>...</td>\n",
       "      <td>...</td>\n",
       "      <td>...</td>\n",
       "      <td>...</td>\n",
       "      <td>...</td>\n",
       "      <td>...</td>\n",
       "      <td>...</td>\n",
       "    </tr>\n",
       "    <tr>\n",
       "      <th>1170506</th>\n",
       "      <td>7/1-2 S</td>\n",
       "      <td>3169.3124</td>\n",
       "      <td>NaN</td>\n",
       "      <td>NaN</td>\n",
       "      <td>NaN</td>\n",
       "      <td>VESTLAND GP.</td>\n",
       "      <td>Bryne Fm.</td>\n",
       "      <td>8.423170</td>\n",
       "      <td>NaN</td>\n",
       "      <td>NaN</td>\n",
       "      <td>NaN</td>\n",
       "      <td>2.527984</td>\n",
       "      <td>77.654900</td>\n",
       "      <td>NaN</td>\n",
       "      <td>NaN</td>\n",
       "      <td>4.586425</td>\n",
       "      <td>NaN</td>\n",
       "      <td>NaN</td>\n",
       "      <td>8.5</td>\n",
       "      <td>27.674368</td>\n",
       "      <td>NaN</td>\n",
       "      <td>NaN</td>\n",
       "      <td>-0.001763</td>\n",
       "      <td>NaN</td>\n",
       "      <td>NaN</td>\n",
       "      <td>26.673708</td>\n",
       "      <td>NaN</td>\n",
       "      <td>30000</td>\n",
       "      <td>2.0</td>\n",
       "    </tr>\n",
       "    <tr>\n",
       "      <th>1170507</th>\n",
       "      <td>7/1-2 S</td>\n",
       "      <td>3169.4644</td>\n",
       "      <td>NaN</td>\n",
       "      <td>NaN</td>\n",
       "      <td>NaN</td>\n",
       "      <td>VESTLAND GP.</td>\n",
       "      <td>Bryne Fm.</td>\n",
       "      <td>8.379244</td>\n",
       "      <td>NaN</td>\n",
       "      <td>NaN</td>\n",
       "      <td>NaN</td>\n",
       "      <td>2.537613</td>\n",
       "      <td>75.363937</td>\n",
       "      <td>NaN</td>\n",
       "      <td>NaN</td>\n",
       "      <td>7.019858</td>\n",
       "      <td>NaN</td>\n",
       "      <td>NaN</td>\n",
       "      <td>8.5</td>\n",
       "      <td>28.024338</td>\n",
       "      <td>NaN</td>\n",
       "      <td>NaN</td>\n",
       "      <td>-0.007600</td>\n",
       "      <td>NaN</td>\n",
       "      <td>NaN</td>\n",
       "      <td>26.840818</td>\n",
       "      <td>NaN</td>\n",
       "      <td>65030</td>\n",
       "      <td>2.0</td>\n",
       "    </tr>\n",
       "    <tr>\n",
       "      <th>1170508</th>\n",
       "      <td>7/1-2 S</td>\n",
       "      <td>3169.6164</td>\n",
       "      <td>NaN</td>\n",
       "      <td>NaN</td>\n",
       "      <td>NaN</td>\n",
       "      <td>VESTLAND GP.</td>\n",
       "      <td>Bryne Fm.</td>\n",
       "      <td>8.350248</td>\n",
       "      <td>NaN</td>\n",
       "      <td>NaN</td>\n",
       "      <td>NaN</td>\n",
       "      <td>2.491860</td>\n",
       "      <td>66.452843</td>\n",
       "      <td>NaN</td>\n",
       "      <td>NaN</td>\n",
       "      <td>9.049782</td>\n",
       "      <td>NaN</td>\n",
       "      <td>NaN</td>\n",
       "      <td>8.5</td>\n",
       "      <td>28.091282</td>\n",
       "      <td>NaN</td>\n",
       "      <td>NaN</td>\n",
       "      <td>-0.018297</td>\n",
       "      <td>NaN</td>\n",
       "      <td>NaN</td>\n",
       "      <td>27.007942</td>\n",
       "      <td>NaN</td>\n",
       "      <td>65030</td>\n",
       "      <td>2.0</td>\n",
       "    </tr>\n",
       "    <tr>\n",
       "      <th>1170509</th>\n",
       "      <td>7/1-2 S</td>\n",
       "      <td>3169.7684</td>\n",
       "      <td>NaN</td>\n",
       "      <td>NaN</td>\n",
       "      <td>NaN</td>\n",
       "      <td>VESTLAND GP.</td>\n",
       "      <td>Bryne Fm.</td>\n",
       "      <td>8.313779</td>\n",
       "      <td>NaN</td>\n",
       "      <td>NaN</td>\n",
       "      <td>NaN</td>\n",
       "      <td>2.447539</td>\n",
       "      <td>55.784817</td>\n",
       "      <td>NaN</td>\n",
       "      <td>NaN</td>\n",
       "      <td>8.903917</td>\n",
       "      <td>NaN</td>\n",
       "      <td>NaN</td>\n",
       "      <td>8.5</td>\n",
       "      <td>28.019775</td>\n",
       "      <td>NaN</td>\n",
       "      <td>NaN</td>\n",
       "      <td>-0.011438</td>\n",
       "      <td>NaN</td>\n",
       "      <td>NaN</td>\n",
       "      <td>27.175179</td>\n",
       "      <td>NaN</td>\n",
       "      <td>65030</td>\n",
       "      <td>2.0</td>\n",
       "    </tr>\n",
       "    <tr>\n",
       "      <th>1170510</th>\n",
       "      <td>7/1-2 S</td>\n",
       "      <td>3169.9204</td>\n",
       "      <td>NaN</td>\n",
       "      <td>NaN</td>\n",
       "      <td>NaN</td>\n",
       "      <td>VESTLAND GP.</td>\n",
       "      <td>Bryne Fm.</td>\n",
       "      <td>8.294910</td>\n",
       "      <td>NaN</td>\n",
       "      <td>NaN</td>\n",
       "      <td>NaN</td>\n",
       "      <td>2.430716</td>\n",
       "      <td>48.432129</td>\n",
       "      <td>NaN</td>\n",
       "      <td>NaN</td>\n",
       "      <td>9.150043</td>\n",
       "      <td>NaN</td>\n",
       "      <td>NaN</td>\n",
       "      <td>8.5</td>\n",
       "      <td>25.985943</td>\n",
       "      <td>NaN</td>\n",
       "      <td>NaN</td>\n",
       "      <td>-0.011398</td>\n",
       "      <td>NaN</td>\n",
       "      <td>NaN</td>\n",
       "      <td>27.342442</td>\n",
       "      <td>NaN</td>\n",
       "      <td>65030</td>\n",
       "      <td>2.0</td>\n",
       "    </tr>\n",
       "  </tbody>\n",
       "</table>\n",
       "<p>1170511 rows × 29 columns</p>\n",
       "</div>"
      ],
      "text/plain": [
       "            WELL   DEPTH_MD         X_LOC      Y_LOC       Z_LOC  \\\n",
       "0        15/9-13   494.5280  437641.96875  6470972.5 -469.501831   \n",
       "1        15/9-13   494.6800  437641.96875  6470972.5 -469.653809   \n",
       "2        15/9-13   494.8320  437641.96875  6470972.5 -469.805786   \n",
       "3        15/9-13   494.9840  437641.96875  6470972.5 -469.957794   \n",
       "4        15/9-13   495.1360  437641.96875  6470972.5 -470.109772   \n",
       "...          ...        ...           ...        ...         ...   \n",
       "1170506  7/1-2 S  3169.3124           NaN        NaN         NaN   \n",
       "1170507  7/1-2 S  3169.4644           NaN        NaN         NaN   \n",
       "1170508  7/1-2 S  3169.6164           NaN        NaN         NaN   \n",
       "1170509  7/1-2 S  3169.7684           NaN        NaN         NaN   \n",
       "1170510  7/1-2 S  3169.9204           NaN        NaN         NaN   \n",
       "\n",
       "                GROUP  FORMATION       CALI  RSHA      RMED      RDEP  \\\n",
       "0        NORDLAND GP.        NaN  19.480835   NaN  1.611410  1.798681   \n",
       "1        NORDLAND GP.        NaN  19.468800   NaN  1.618070  1.795641   \n",
       "2        NORDLAND GP.        NaN  19.468800   NaN  1.626459  1.800733   \n",
       "3        NORDLAND GP.        NaN  19.459282   NaN  1.621594  1.801517   \n",
       "4        NORDLAND GP.        NaN  19.453100   NaN  1.602679  1.795299   \n",
       "...               ...        ...        ...   ...       ...       ...   \n",
       "1170506  VESTLAND GP.  Bryne Fm.   8.423170   NaN       NaN       NaN   \n",
       "1170507  VESTLAND GP.  Bryne Fm.   8.379244   NaN       NaN       NaN   \n",
       "1170508  VESTLAND GP.  Bryne Fm.   8.350248   NaN       NaN       NaN   \n",
       "1170509  VESTLAND GP.  Bryne Fm.   8.313779   NaN       NaN       NaN   \n",
       "1170510  VESTLAND GP.  Bryne Fm.   8.294910   NaN       NaN       NaN   \n",
       "\n",
       "             RHOB         GR  SGR  NPHI        PEF         DTC         SP  \\\n",
       "0        1.884186  80.200851  NaN   NaN  20.915468  161.131180  24.612379   \n",
       "1        1.889794  79.262886  NaN   NaN  19.383013  160.603470  23.895531   \n",
       "2        1.896523  74.821999  NaN   NaN  22.591518  160.173615  23.916357   \n",
       "3        1.891913  72.878922  NaN   NaN  32.191910  160.149429  23.793688   \n",
       "4        1.880034  71.729141  NaN   NaN  38.495632  160.128342  24.104078   \n",
       "...           ...        ...  ...   ...        ...         ...        ...   \n",
       "1170506  2.527984  77.654900  NaN   NaN   4.586425         NaN        NaN   \n",
       "1170507  2.537613  75.363937  NaN   NaN   7.019858         NaN        NaN   \n",
       "1170508  2.491860  66.452843  NaN   NaN   9.049782         NaN        NaN   \n",
       "1170509  2.447539  55.784817  NaN   NaN   8.903917         NaN        NaN   \n",
       "1170510  2.430716  48.432129  NaN   NaN   9.150043         NaN        NaN   \n",
       "\n",
       "          BS        ROP  DTS  DCAL      DRHO  MUDWEIGHT  RMIC       ROPA  RXO  \\\n",
       "0        NaN  34.636410  NaN   NaN -0.574928        NaN   NaN        NaN  NaN   \n",
       "1        NaN  34.636410  NaN   NaN -0.570188        NaN   NaN        NaN  NaN   \n",
       "2        NaN  34.779556  NaN   NaN -0.574245        NaN   NaN        NaN  NaN   \n",
       "3        NaN  39.965164  NaN   NaN -0.586315        NaN   NaN        NaN  NaN   \n",
       "4        NaN  57.483765  NaN   NaN -0.597914        NaN   NaN        NaN  NaN   \n",
       "...      ...        ...  ...   ...       ...        ...   ...        ...  ...   \n",
       "1170506  8.5  27.674368  NaN   NaN -0.001763        NaN   NaN  26.673708  NaN   \n",
       "1170507  8.5  28.024338  NaN   NaN -0.007600        NaN   NaN  26.840818  NaN   \n",
       "1170508  8.5  28.091282  NaN   NaN -0.018297        NaN   NaN  27.007942  NaN   \n",
       "1170509  8.5  28.019775  NaN   NaN -0.011438        NaN   NaN  27.175179  NaN   \n",
       "1170510  8.5  25.985943  NaN   NaN -0.011398        NaN   NaN  27.342442  NaN   \n",
       "\n",
       "         FORCE_2020_LITHOFACIES_LITHOLOGY  FORCE_2020_LITHOFACIES_CONFIDENCE  \n",
       "0                                   65000                                1.0  \n",
       "1                                   65000                                1.0  \n",
       "2                                   65000                                1.0  \n",
       "3                                   65000                                1.0  \n",
       "4                                   65000                                1.0  \n",
       "...                                   ...                                ...  \n",
       "1170506                             30000                                2.0  \n",
       "1170507                             65030                                2.0  \n",
       "1170508                             65030                                2.0  \n",
       "1170509                             65030                                2.0  \n",
       "1170510                             65030                                2.0  \n",
       "\n",
       "[1170511 rows x 29 columns]"
      ]
     },
     "execution_count": 3,
     "metadata": {},
     "output_type": "execute_result"
    }
   ],
   "source": [
    "data"
   ]
  },
  {
   "cell_type": "code",
   "execution_count": 4,
   "metadata": {},
   "outputs": [
    {
     "data": {
      "text/html": [
       "<div>\n",
       "<style scoped>\n",
       "    .dataframe tbody tr th:only-of-type {\n",
       "        vertical-align: middle;\n",
       "    }\n",
       "\n",
       "    .dataframe tbody tr th {\n",
       "        vertical-align: top;\n",
       "    }\n",
       "\n",
       "    .dataframe thead th {\n",
       "        text-align: right;\n",
       "    }\n",
       "</style>\n",
       "<table border=\"1\" class=\"dataframe\">\n",
       "  <thead>\n",
       "    <tr style=\"text-align: right;\">\n",
       "      <th></th>\n",
       "      <th>WELL</th>\n",
       "      <th>DEPTH_MD</th>\n",
       "      <th>X_LOC</th>\n",
       "      <th>Y_LOC</th>\n",
       "      <th>Z_LOC</th>\n",
       "      <th>GROUP</th>\n",
       "      <th>FORMATION</th>\n",
       "      <th>CALI</th>\n",
       "      <th>RSHA</th>\n",
       "      <th>RMED</th>\n",
       "      <th>RDEP</th>\n",
       "      <th>RHOB</th>\n",
       "      <th>GR</th>\n",
       "      <th>SGR</th>\n",
       "      <th>NPHI</th>\n",
       "      <th>PEF</th>\n",
       "      <th>DTC</th>\n",
       "      <th>SP</th>\n",
       "      <th>BS</th>\n",
       "      <th>ROP</th>\n",
       "      <th>DTS</th>\n",
       "      <th>DCAL</th>\n",
       "      <th>DRHO</th>\n",
       "      <th>MUDWEIGHT</th>\n",
       "      <th>RMIC</th>\n",
       "      <th>ROPA</th>\n",
       "      <th>RXO</th>\n",
       "      <th>FORCE_2020_LITHOFACIES_LITHOLOGY</th>\n",
       "      <th>FORCE_2020_LITHOFACIES_CONFIDENCE</th>\n",
       "    </tr>\n",
       "  </thead>\n",
       "  <tbody>\n",
       "    <tr>\n",
       "      <th>88709</th>\n",
       "      <td>16/10-3</td>\n",
       "      <td>1920.517599</td>\n",
       "      <td>460430.31250</td>\n",
       "      <td>6453747.0</td>\n",
       "      <td>-1880.387329</td>\n",
       "      <td>ROGALAND GP.</td>\n",
       "      <td>Lista Fm.</td>\n",
       "      <td>13.110950</td>\n",
       "      <td>0.516617</td>\n",
       "      <td>0.519686</td>\n",
       "      <td>0.603463</td>\n",
       "      <td>2.166190</td>\n",
       "      <td>91.668030</td>\n",
       "      <td>NaN</td>\n",
       "      <td>NaN</td>\n",
       "      <td>5.049998</td>\n",
       "      <td>129.487595</td>\n",
       "      <td>87.816154</td>\n",
       "      <td>12.250001</td>\n",
       "      <td>39.700001</td>\n",
       "      <td>NaN</td>\n",
       "      <td>0.991008</td>\n",
       "      <td>0.012113</td>\n",
       "      <td>0.167757</td>\n",
       "      <td>NaN</td>\n",
       "      <td>NaN</td>\n",
       "      <td>NaN</td>\n",
       "      <td>65000</td>\n",
       "      <td>1.0</td>\n",
       "    </tr>\n",
       "    <tr>\n",
       "      <th>199852</th>\n",
       "      <td>17/11-1</td>\n",
       "      <td>1398.049016</td>\n",
       "      <td>520153.18750</td>\n",
       "      <td>6452287.5</td>\n",
       "      <td>-1371.049072</td>\n",
       "      <td>SHETLAND GP.</td>\n",
       "      <td>Hod Fm.</td>\n",
       "      <td>13.105332</td>\n",
       "      <td>4.634409</td>\n",
       "      <td>3.376395</td>\n",
       "      <td>3.900920</td>\n",
       "      <td>2.450104</td>\n",
       "      <td>26.314533</td>\n",
       "      <td>NaN</td>\n",
       "      <td>0.148479</td>\n",
       "      <td>NaN</td>\n",
       "      <td>79.125534</td>\n",
       "      <td>30.889002</td>\n",
       "      <td>NaN</td>\n",
       "      <td>29.891888</td>\n",
       "      <td>NaN</td>\n",
       "      <td>NaN</td>\n",
       "      <td>-0.008249</td>\n",
       "      <td>1.168307</td>\n",
       "      <td>NaN</td>\n",
       "      <td>NaN</td>\n",
       "      <td>NaN</td>\n",
       "      <td>70032</td>\n",
       "      <td>1.0</td>\n",
       "    </tr>\n",
       "    <tr>\n",
       "      <th>103909</th>\n",
       "      <td>16/11-1 ST3</td>\n",
       "      <td>1652.977201</td>\n",
       "      <td>474584.59375</td>\n",
       "      <td>6436504.0</td>\n",
       "      <td>-1623.950684</td>\n",
       "      <td>SHETLAND GP.</td>\n",
       "      <td>Tor Fm.</td>\n",
       "      <td>12.650887</td>\n",
       "      <td>NaN</td>\n",
       "      <td>0.887320</td>\n",
       "      <td>0.604027</td>\n",
       "      <td>NaN</td>\n",
       "      <td>11.818420</td>\n",
       "      <td>NaN</td>\n",
       "      <td>NaN</td>\n",
       "      <td>NaN</td>\n",
       "      <td>88.316589</td>\n",
       "      <td>41.083427</td>\n",
       "      <td>12.250001</td>\n",
       "      <td>13.212258</td>\n",
       "      <td>NaN</td>\n",
       "      <td>NaN</td>\n",
       "      <td>NaN</td>\n",
       "      <td>1.162316</td>\n",
       "      <td>NaN</td>\n",
       "      <td>NaN</td>\n",
       "      <td>NaN</td>\n",
       "      <td>70032</td>\n",
       "      <td>2.0</td>\n",
       "    </tr>\n",
       "    <tr>\n",
       "      <th>183134</th>\n",
       "      <td>16/7-5</td>\n",
       "      <td>2609.583985</td>\n",
       "      <td>446270.37500</td>\n",
       "      <td>6468388.0</td>\n",
       "      <td>-2582.653564</td>\n",
       "      <td>VIKING GP.</td>\n",
       "      <td>Skagerrak Fm.</td>\n",
       "      <td>8.319789</td>\n",
       "      <td>0.594725</td>\n",
       "      <td>0.562036</td>\n",
       "      <td>0.370376</td>\n",
       "      <td>2.206233</td>\n",
       "      <td>40.574306</td>\n",
       "      <td>NaN</td>\n",
       "      <td>0.266853</td>\n",
       "      <td>3.918453</td>\n",
       "      <td>66.272774</td>\n",
       "      <td>61.171162</td>\n",
       "      <td>NaN</td>\n",
       "      <td>10.086158</td>\n",
       "      <td>NaN</td>\n",
       "      <td>NaN</td>\n",
       "      <td>-0.026926</td>\n",
       "      <td>1.330073</td>\n",
       "      <td>NaN</td>\n",
       "      <td>NaN</td>\n",
       "      <td>NaN</td>\n",
       "      <td>30000</td>\n",
       "      <td>1.0</td>\n",
       "    </tr>\n",
       "    <tr>\n",
       "      <th>388147</th>\n",
       "      <td>25/7-2</td>\n",
       "      <td>1696.720000</td>\n",
       "      <td>454805.21875</td>\n",
       "      <td>6571039.0</td>\n",
       "      <td>-1671.575562</td>\n",
       "      <td>HORDALAND GP.</td>\n",
       "      <td>Skade Fm.</td>\n",
       "      <td>18.930027</td>\n",
       "      <td>0.934750</td>\n",
       "      <td>0.616358</td>\n",
       "      <td>0.623533</td>\n",
       "      <td>2.100364</td>\n",
       "      <td>30.319147</td>\n",
       "      <td>NaN</td>\n",
       "      <td>NaN</td>\n",
       "      <td>NaN</td>\n",
       "      <td>142.798141</td>\n",
       "      <td>35.409088</td>\n",
       "      <td>17.500000</td>\n",
       "      <td>20.000000</td>\n",
       "      <td>NaN</td>\n",
       "      <td>1.647684</td>\n",
       "      <td>-0.025410</td>\n",
       "      <td>NaN</td>\n",
       "      <td>0.66877</td>\n",
       "      <td>NaN</td>\n",
       "      <td>0.655979</td>\n",
       "      <td>65000</td>\n",
       "      <td>1.0</td>\n",
       "    </tr>\n",
       "    <tr>\n",
       "      <th>876583</th>\n",
       "      <td>34/4-10 R</td>\n",
       "      <td>4048.178467</td>\n",
       "      <td>450935.84375</td>\n",
       "      <td>6832992.0</td>\n",
       "      <td>-4022.436523</td>\n",
       "      <td>SHETLAND GP.</td>\n",
       "      <td>Kyrre Fm.</td>\n",
       "      <td>8.472857</td>\n",
       "      <td>NaN</td>\n",
       "      <td>3.268561</td>\n",
       "      <td>3.969168</td>\n",
       "      <td>2.583423</td>\n",
       "      <td>104.104156</td>\n",
       "      <td>NaN</td>\n",
       "      <td>0.204639</td>\n",
       "      <td>6.136071</td>\n",
       "      <td>81.927910</td>\n",
       "      <td>NaN</td>\n",
       "      <td>8.500000</td>\n",
       "      <td>10.237500</td>\n",
       "      <td>156.760986</td>\n",
       "      <td>NaN</td>\n",
       "      <td>-0.021573</td>\n",
       "      <td>NaN</td>\n",
       "      <td>NaN</td>\n",
       "      <td>0.203935</td>\n",
       "      <td>NaN</td>\n",
       "      <td>65000</td>\n",
       "      <td>1.0</td>\n",
       "    </tr>\n",
       "    <tr>\n",
       "      <th>221141</th>\n",
       "      <td>25/11-5</td>\n",
       "      <td>1397.112719</td>\n",
       "      <td>463756.00000</td>\n",
       "      <td>6562935.0</td>\n",
       "      <td>-1373.612671</td>\n",
       "      <td>HORDALAND GP.</td>\n",
       "      <td>Skade Fm.</td>\n",
       "      <td>12.553437</td>\n",
       "      <td>NaN</td>\n",
       "      <td>0.805033</td>\n",
       "      <td>0.639763</td>\n",
       "      <td>2.197442</td>\n",
       "      <td>43.679905</td>\n",
       "      <td>NaN</td>\n",
       "      <td>0.575371</td>\n",
       "      <td>NaN</td>\n",
       "      <td>155.308456</td>\n",
       "      <td>49.933697</td>\n",
       "      <td>12.250001</td>\n",
       "      <td>69.826248</td>\n",
       "      <td>NaN</td>\n",
       "      <td>0.303437</td>\n",
       "      <td>-0.272000</td>\n",
       "      <td>1.126368</td>\n",
       "      <td>NaN</td>\n",
       "      <td>NaN</td>\n",
       "      <td>NaN</td>\n",
       "      <td>65000</td>\n",
       "      <td>2.0</td>\n",
       "    </tr>\n",
       "    <tr>\n",
       "      <th>698488</th>\n",
       "      <td>33/5-2</td>\n",
       "      <td>3995.864069</td>\n",
       "      <td>426954.40625</td>\n",
       "      <td>6837592.5</td>\n",
       "      <td>-3969.545166</td>\n",
       "      <td>VIKING GP.</td>\n",
       "      <td>Draupne Fm.</td>\n",
       "      <td>9.338177</td>\n",
       "      <td>11.061895</td>\n",
       "      <td>13.869134</td>\n",
       "      <td>5.258344</td>\n",
       "      <td>2.641514</td>\n",
       "      <td>258.304382</td>\n",
       "      <td>NaN</td>\n",
       "      <td>0.234706</td>\n",
       "      <td>NaN</td>\n",
       "      <td>90.511848</td>\n",
       "      <td>64.021454</td>\n",
       "      <td>8.500000</td>\n",
       "      <td>NaN</td>\n",
       "      <td>NaN</td>\n",
       "      <td>NaN</td>\n",
       "      <td>0.010716</td>\n",
       "      <td>NaN</td>\n",
       "      <td>NaN</td>\n",
       "      <td>NaN</td>\n",
       "      <td>NaN</td>\n",
       "      <td>65000</td>\n",
       "      <td>1.0</td>\n",
       "    </tr>\n",
       "    <tr>\n",
       "      <th>1130066</th>\n",
       "      <td>35/9-2</td>\n",
       "      <td>2801.264358</td>\n",
       "      <td>550268.50000</td>\n",
       "      <td>6800636.0</td>\n",
       "      <td>-2768.401123</td>\n",
       "      <td>DUNLIN GP.</td>\n",
       "      <td>Statfjord Fm.</td>\n",
       "      <td>8.403306</td>\n",
       "      <td>NaN</td>\n",
       "      <td>7.198225</td>\n",
       "      <td>10.876161</td>\n",
       "      <td>2.499469</td>\n",
       "      <td>83.516891</td>\n",
       "      <td>85.022713</td>\n",
       "      <td>0.095638</td>\n",
       "      <td>NaN</td>\n",
       "      <td>NaN</td>\n",
       "      <td>144.791458</td>\n",
       "      <td>8.500000</td>\n",
       "      <td>NaN</td>\n",
       "      <td>NaN</td>\n",
       "      <td>-0.096694</td>\n",
       "      <td>0.006528</td>\n",
       "      <td>NaN</td>\n",
       "      <td>NaN</td>\n",
       "      <td>NaN</td>\n",
       "      <td>NaN</td>\n",
       "      <td>30000</td>\n",
       "      <td>1.0</td>\n",
       "    </tr>\n",
       "    <tr>\n",
       "      <th>819866</th>\n",
       "      <td>34/11-2 S</td>\n",
       "      <td>1800.376000</td>\n",
       "      <td>466833.87500</td>\n",
       "      <td>6788245.5</td>\n",
       "      <td>-1775.142334</td>\n",
       "      <td>HORDALAND GP.</td>\n",
       "      <td>Utsira Fm.</td>\n",
       "      <td>17.668823</td>\n",
       "      <td>NaN</td>\n",
       "      <td>0.765920</td>\n",
       "      <td>0.965941</td>\n",
       "      <td>2.153285</td>\n",
       "      <td>94.177971</td>\n",
       "      <td>NaN</td>\n",
       "      <td>NaN</td>\n",
       "      <td>9.922971</td>\n",
       "      <td>139.756485</td>\n",
       "      <td>-2.062652</td>\n",
       "      <td>NaN</td>\n",
       "      <td>NaN</td>\n",
       "      <td>NaN</td>\n",
       "      <td>NaN</td>\n",
       "      <td>0.003016</td>\n",
       "      <td>NaN</td>\n",
       "      <td>NaN</td>\n",
       "      <td>25.612480</td>\n",
       "      <td>-999.000000</td>\n",
       "      <td>65000</td>\n",
       "      <td>1.0</td>\n",
       "    </tr>\n",
       "  </tbody>\n",
       "</table>\n",
       "</div>"
      ],
      "text/plain": [
       "                WELL     DEPTH_MD         X_LOC      Y_LOC        Z_LOC  \\\n",
       "88709        16/10-3  1920.517599  460430.31250  6453747.0 -1880.387329   \n",
       "199852       17/11-1  1398.049016  520153.18750  6452287.5 -1371.049072   \n",
       "103909   16/11-1 ST3  1652.977201  474584.59375  6436504.0 -1623.950684   \n",
       "183134        16/7-5  2609.583985  446270.37500  6468388.0 -2582.653564   \n",
       "388147        25/7-2  1696.720000  454805.21875  6571039.0 -1671.575562   \n",
       "876583     34/4-10 R  4048.178467  450935.84375  6832992.0 -4022.436523   \n",
       "221141       25/11-5  1397.112719  463756.00000  6562935.0 -1373.612671   \n",
       "698488        33/5-2  3995.864069  426954.40625  6837592.5 -3969.545166   \n",
       "1130066       35/9-2  2801.264358  550268.50000  6800636.0 -2768.401123   \n",
       "819866     34/11-2 S  1800.376000  466833.87500  6788245.5 -1775.142334   \n",
       "\n",
       "                 GROUP      FORMATION       CALI       RSHA       RMED  \\\n",
       "88709     ROGALAND GP.      Lista Fm.  13.110950   0.516617   0.519686   \n",
       "199852    SHETLAND GP.        Hod Fm.  13.105332   4.634409   3.376395   \n",
       "103909    SHETLAND GP.        Tor Fm.  12.650887        NaN   0.887320   \n",
       "183134      VIKING GP.  Skagerrak Fm.   8.319789   0.594725   0.562036   \n",
       "388147   HORDALAND GP.      Skade Fm.  18.930027   0.934750   0.616358   \n",
       "876583    SHETLAND GP.      Kyrre Fm.   8.472857        NaN   3.268561   \n",
       "221141   HORDALAND GP.      Skade Fm.  12.553437        NaN   0.805033   \n",
       "698488      VIKING GP.    Draupne Fm.   9.338177  11.061895  13.869134   \n",
       "1130066     DUNLIN GP.  Statfjord Fm.   8.403306        NaN   7.198225   \n",
       "819866   HORDALAND GP.     Utsira Fm.  17.668823        NaN   0.765920   \n",
       "\n",
       "              RDEP      RHOB          GR        SGR      NPHI       PEF  \\\n",
       "88709     0.603463  2.166190   91.668030        NaN       NaN  5.049998   \n",
       "199852    3.900920  2.450104   26.314533        NaN  0.148479       NaN   \n",
       "103909    0.604027       NaN   11.818420        NaN       NaN       NaN   \n",
       "183134    0.370376  2.206233   40.574306        NaN  0.266853  3.918453   \n",
       "388147    0.623533  2.100364   30.319147        NaN       NaN       NaN   \n",
       "876583    3.969168  2.583423  104.104156        NaN  0.204639  6.136071   \n",
       "221141    0.639763  2.197442   43.679905        NaN  0.575371       NaN   \n",
       "698488    5.258344  2.641514  258.304382        NaN  0.234706       NaN   \n",
       "1130066  10.876161  2.499469   83.516891  85.022713  0.095638       NaN   \n",
       "819866    0.965941  2.153285   94.177971        NaN       NaN  9.922971   \n",
       "\n",
       "                DTC          SP         BS        ROP         DTS      DCAL  \\\n",
       "88709    129.487595   87.816154  12.250001  39.700001         NaN  0.991008   \n",
       "199852    79.125534   30.889002        NaN  29.891888         NaN       NaN   \n",
       "103909    88.316589   41.083427  12.250001  13.212258         NaN       NaN   \n",
       "183134    66.272774   61.171162        NaN  10.086158         NaN       NaN   \n",
       "388147   142.798141   35.409088  17.500000  20.000000         NaN  1.647684   \n",
       "876583    81.927910         NaN   8.500000  10.237500  156.760986       NaN   \n",
       "221141   155.308456   49.933697  12.250001  69.826248         NaN  0.303437   \n",
       "698488    90.511848   64.021454   8.500000        NaN         NaN       NaN   \n",
       "1130066         NaN  144.791458   8.500000        NaN         NaN -0.096694   \n",
       "819866   139.756485   -2.062652        NaN        NaN         NaN       NaN   \n",
       "\n",
       "             DRHO  MUDWEIGHT     RMIC       ROPA         RXO  \\\n",
       "88709    0.012113   0.167757      NaN        NaN         NaN   \n",
       "199852  -0.008249   1.168307      NaN        NaN         NaN   \n",
       "103909        NaN   1.162316      NaN        NaN         NaN   \n",
       "183134  -0.026926   1.330073      NaN        NaN         NaN   \n",
       "388147  -0.025410        NaN  0.66877        NaN    0.655979   \n",
       "876583  -0.021573        NaN      NaN   0.203935         NaN   \n",
       "221141  -0.272000   1.126368      NaN        NaN         NaN   \n",
       "698488   0.010716        NaN      NaN        NaN         NaN   \n",
       "1130066  0.006528        NaN      NaN        NaN         NaN   \n",
       "819866   0.003016        NaN      NaN  25.612480 -999.000000   \n",
       "\n",
       "         FORCE_2020_LITHOFACIES_LITHOLOGY  FORCE_2020_LITHOFACIES_CONFIDENCE  \n",
       "88709                               65000                                1.0  \n",
       "199852                              70032                                1.0  \n",
       "103909                              70032                                2.0  \n",
       "183134                              30000                                1.0  \n",
       "388147                              65000                                1.0  \n",
       "876583                              65000                                1.0  \n",
       "221141                              65000                                2.0  \n",
       "698488                              65000                                1.0  \n",
       "1130066                             30000                                1.0  \n",
       "819866                              65000                                1.0  "
      ]
     },
     "execution_count": 4,
     "metadata": {},
     "output_type": "execute_result"
    }
   ],
   "source": [
    "data.sample(10)"
   ]
  },
  {
   "cell_type": "markdown",
   "metadata": {},
   "source": [
    "### 3. Inspecting available logs and interpretations"
   ]
  },
  {
   "cell_type": "markdown",
   "metadata": {},
   "source": [
    "The following is taken from the starter Jupyter notebook as a description of the available logs and its variable definitions."
   ]
  },
  {
   "cell_type": "markdown",
   "metadata": {},
   "source": [
    "*The data contains the metadata columns*\n",
    "* *WELL: well name*\n",
    "* *DEPTH_MD: measured depth*\n",
    "* *X_LOC: UTM X coordinate* \n",
    "* *Y_LOC: UTM Y coordinate*\n",
    "* *Z_LOC: DEPTH*\n",
    "* *GROUP: NPD lithostratigraphy group*\n",
    "* *FORMATION: NPD lithostratgraphy formation*\n",
    "\n",
    "*The data contains the well log curves. For example the following:*\n",
    "* *BS: Bit Size*\n",
    "* *CALI: Caliper*\n",
    "* *RDEP: Deep Resistivity*\n",
    "* *RHOB: Bulk Density*\n",
    "* *GR: Raw gamma data*\n",
    "* *SGR: Spectral Gamma Ray*\n",
    "* *RMED: Medium Resistivity*\n",
    "* *ROP: Rate of Penetration*\n",
    "* *NPHI: Neutron Porosity*\n",
    "* *PEF: Photoelectric Absorption Factor*\n",
    "* *RSHA: Shallow Resistivity*\n",
    "* *DTS: Sonic (Sheer Slowness)*\n",
    "* *DTC: Sonic (Compressional Slowness)*\n",
    "* *FORCE_2020_LITHOFACIES_LITHOLOGY: lithology class label*\n",
    "* *FORCE_2020_LITHOFACIES_CONFIDENCE: confidence in lithology interpretation (1: high, 2: medium, 3: low)*"
   ]
  },
  {
   "cell_type": "markdown",
   "metadata": {},
   "source": [
    "*There is a total of 83 wells in the training dataset. The `WELL` column is included so the data can be separated per well. This will be necessary for any \"windowed\" approaches where we use non-local information in the ML features.* "
   ]
  },
  {
   "cell_type": "code",
   "execution_count": 5,
   "metadata": {
    "scrolled": true
   },
   "outputs": [],
   "source": [
    "wells = data['WELL'].unique()"
   ]
  },
  {
   "cell_type": "code",
   "execution_count": 6,
   "metadata": {},
   "outputs": [
    {
     "data": {
      "text/plain": [
       "array(['15/9-13', '15/9-15', '15/9-17', '16/1-2', '16/1-6 A', '16/10-1',\n",
       "       '16/10-2', '16/10-3', '16/10-5', '16/11-1 ST3', '16/2-11 A',\n",
       "       '16/2-16', '16/2-6', '16/4-1', '16/5-3', '16/7-4', '16/7-5',\n",
       "       '16/8-1', '17/11-1', '25/11-15', '25/11-19 S', '25/11-5',\n",
       "       '25/2-13 T4', '25/2-14', '25/2-7', '25/3-1', '25/4-5', '25/5-1',\n",
       "       '25/5-4', '25/6-1', '25/6-2', '25/6-3', '25/7-2', '25/8-5 S',\n",
       "       '25/8-7', '25/9-1', '26/4-1', '29/6-1', '30/3-3', '30/3-5 S',\n",
       "       '30/6-5', '31/2-1', '31/2-19 S', '31/2-7', '31/2-8', '31/2-9',\n",
       "       '31/3-1', '31/3-2', '31/3-3', '31/3-4', '31/4-10', '31/4-5',\n",
       "       '31/5-4 S', '31/6-5', '31/6-8', '32/2-1', '33/5-2', '33/6-3 S',\n",
       "       '33/9-1', '33/9-17', '34/10-19', '34/10-21', '34/10-33',\n",
       "       '34/10-35', '34/11-1', '34/11-2 S', '34/12-1', '34/2-4',\n",
       "       '34/3-1 A', '34/4-10 R', '34/5-1 A', '34/5-1 S', '34/7-13',\n",
       "       '34/7-20', '34/7-21', '34/8-1', '34/8-3', '34/8-7 R', '35/11-1',\n",
       "       '35/11-10', '35/11-11', '35/11-12', '35/11-13', '35/11-15 S',\n",
       "       '35/11-6', '35/11-7', '35/12-1', '35/3-7 S', '35/4-1', '35/8-4',\n",
       "       '35/8-6 S', '35/9-10 S', '35/9-2', '35/9-5', '35/9-6 S', '36/7-3',\n",
       "       '7/1-1', '7/1-2 S'], dtype=object)"
      ]
     },
     "execution_count": 6,
     "metadata": {},
     "output_type": "execute_result"
    }
   ],
   "source": [
    "wells"
   ]
  },
  {
   "cell_type": "code",
   "execution_count": 7,
   "metadata": {},
   "outputs": [
    {
     "data": {
      "text/plain": [
       "98"
      ]
     },
     "execution_count": 7,
     "metadata": {},
     "output_type": "execute_result"
    }
   ],
   "source": [
    "len(wells)"
   ]
  },
  {
   "cell_type": "markdown",
   "metadata": {},
   "source": [
    "### 4. Exploratory Data Analysis (EDA)"
   ]
  },
  {
   "cell_type": "markdown",
   "metadata": {},
   "source": [
    "Exploratory Data Analysis or EDA is an initial first step in determining basic statistics about the data that you are dealing with. In particular, with added knowledge about lithologies, one can spot trends, outliers, distribution of data, and other interesting information about the data. This is best displayed in a graphical environment."
   ]
  },
  {
   "cell_type": "markdown",
   "metadata": {},
   "source": [
    "#### 4.1 Missing logs"
   ]
  },
  {
   "cell_type": "markdown",
   "metadata": {},
   "source": [
    "The following was noted by the competition:\n",
    "\n",
    "**Notice that some of the curves are NaN. This is an imporant aspect of this dataset and of this competition.** The only log columns that are **guaranteed** to be present are WELL, DEPT, and GR. All other logs can (and will) be missing from some parts of the dataset."
   ]
  },
  {
   "cell_type": "code",
   "execution_count": 8,
   "metadata": {},
   "outputs": [
    {
     "data": {
      "text/plain": [
       "WELL                                 False\n",
       "DEPTH_MD                             False\n",
       "X_LOC                                 True\n",
       "Y_LOC                                 True\n",
       "Z_LOC                                 True\n",
       "GROUP                                 True\n",
       "FORMATION                             True\n",
       "CALI                                  True\n",
       "RSHA                                  True\n",
       "RMED                                  True\n",
       "RDEP                                  True\n",
       "RHOB                                  True\n",
       "GR                                   False\n",
       "SGR                                   True\n",
       "NPHI                                  True\n",
       "PEF                                   True\n",
       "DTC                                   True\n",
       "SP                                    True\n",
       "BS                                    True\n",
       "ROP                                   True\n",
       "DTS                                   True\n",
       "DCAL                                  True\n",
       "DRHO                                  True\n",
       "MUDWEIGHT                             True\n",
       "RMIC                                  True\n",
       "ROPA                                  True\n",
       "RXO                                   True\n",
       "FORCE_2020_LITHOFACIES_LITHOLOGY     False\n",
       "FORCE_2020_LITHOFACIES_CONFIDENCE     True\n",
       "dtype: bool"
      ]
     },
     "execution_count": 8,
     "metadata": {},
     "output_type": "execute_result"
    }
   ],
   "source": [
    "data.isna().any()"
   ]
  },
  {
   "cell_type": "code",
   "execution_count": 9,
   "metadata": {
    "scrolled": true
   },
   "outputs": [
    {
     "data": {
      "text/plain": [
       "WELL                                       0\n",
       "DEPTH_MD                                   0\n",
       "X_LOC                                  10775\n",
       "Y_LOC                                  10775\n",
       "Z_LOC                                  10775\n",
       "GROUP                                   1278\n",
       "FORMATION                             136994\n",
       "CALI                                   87877\n",
       "RSHA                                  539861\n",
       "RMED                                   38993\n",
       "RDEP                                   11015\n",
       "RHOB                                  161269\n",
       "GR                                         0\n",
       "SGR                                  1101158\n",
       "NPHI                                  405102\n",
       "PEF                                   498819\n",
       "DTC                                    80863\n",
       "SP                                    306264\n",
       "BS                                    487854\n",
       "ROP                                   635440\n",
       "DTS                                   995898\n",
       "DCAL                                  871678\n",
       "DRHO                                  182654\n",
       "MUDWEIGHT                             854360\n",
       "RMIC                                  994351\n",
       "ROPA                                  978186\n",
       "RXO                                   843084\n",
       "FORCE_2020_LITHOFACIES_LITHOLOGY           0\n",
       "FORCE_2020_LITHOFACIES_CONFIDENCE        179\n",
       "dtype: int64"
      ]
     },
     "execution_count": 9,
     "metadata": {},
     "output_type": "execute_result"
    }
   ],
   "source": [
    "data.isna().sum()"
   ]
  },
  {
   "cell_type": "markdown",
   "metadata": {},
   "source": [
    "(Noted from starter notebook)\n",
    "\n",
    "The following plot shows how large a percentage of training data wells contain at least some depth interval with the given logs. As you can see a couple of logs like RT and DTS are present in less than half of the training wells. **Remember, the test data will have a similar distribution of available logs**"
   ]
  },
  {
   "cell_type": "code",
   "execution_count": 10,
   "metadata": {},
   "outputs": [
    {
     "data": {
      "image/png": "[encoded data removed]",
      "text/plain": [
       "<Figure size 1008x504 with 1 Axes>"
      ]
     },
     "metadata": {
      "needs_background": "light"
     },
     "output_type": "display_data"
    }
   ],
   "source": [
    "occurences = np.zeros(27)\n",
    "for well in data['WELL'].unique():\n",
    "    occurences += data[data['WELL'] == well].isna().all().astype(int).values[2:]\n",
    "fig, ax = plt.subplots(1, 1, figsize=(14, 7))\n",
    "ax.bar(x=np.arange(occurences.shape[0]), height=(data.WELL.unique().shape[0]-occurences)/data.WELL.unique().shape[0]*100.0)\n",
    "ax.set_xticklabels(data.columns[2:], rotation=90)\n",
    "ax.set_xticks(np.arange(occurences.shape[0]))\n",
    "ax.set_ylabel('Well presence (\\%)')\n",
    "ax.set_xlabel('Variable of interest')\n",
    "ax.set_title('Percentage of training data wells that contain the variables used in well logs')\n",
    "plt.show()"
   ]
  },
  {
   "cell_type": "markdown",
   "metadata": {},
   "source": [
    "#### 4.2 Missing logs (Using MissingNo Module)"
   ]
  },
  {
   "cell_type": "markdown",
   "metadata": {},
   "source": [
    "I tried to use the MissingNo module to see what was missing from the dataset. "
   ]
  },
  {
   "cell_type": "code",
   "execution_count": 11,
   "metadata": {},
   "outputs": [
    {
     "data": {
      "text/plain": [
       "<matplotlib.axes._subplots.AxesSubplot at 0x24238c78c88>"
      ]
     },
     "execution_count": 11,
     "metadata": {},
     "output_type": "execute_result"
    },
    {
     "data": {
      "image/png": "[encoded data removed]",
      "text/plain": [
       "<Figure size 1800x720 with 2 Axes>"
      ]
     },
     "metadata": {
      "needs_background": "light"
     },
     "output_type": "display_data"
    }
   ],
   "source": [
    "missingno.matrix(data)"
   ]
  },
  {
   "cell_type": "code",
   "execution_count": 12,
   "metadata": {},
   "outputs": [],
   "source": [
    "# trial = pd.DataFrame(columns = ['Well','Percent Missing'])\n",
    "# for well in data['WELL'].unique():\n",
    "#     display(well)\n",
    "#     display(data[data['WELL'] == well].isnull().sum().sum() / data[data['WELL'] == well].isnull().size)"
   ]
  },
  {
   "cell_type": "markdown",
   "metadata": {},
   "source": [
    "#### 4.3 Look at some log curves for a couple of wells"
   ]
  },
  {
   "cell_type": "code",
   "execution_count": 13,
   "metadata": {},
   "outputs": [],
   "source": [
    "# well_data = data[data['WELL'] == wells[0]]\n",
    "# fig, axs = plt.subplots(1, len(well_data.columns)-9, figsize=(14, 10), sharey=True)\n",
    "# for ic, col in enumerate(set(well_data.columns)-set(['DEPTH_MD', 'FORCE_2020_LITHOFACIES_LITHOLOGY',\n",
    "#                                                      'FORCE_2020_LITHOFACIES_CONFIDENCE', 'WELL', 'GROUP', 'FORMATION',\n",
    "#                                                     'X_LOC', 'Y_LOC', 'Z_LOC'])):\n",
    "#     axs[ic].plot(well_data[col], well_data['DEPTH_MD'])\n",
    "#     axs[ic].set_xlabel(col)\n",
    "# axs[0].set_ylim(well_data['DEPTH_MD'].values[-1], well_data['DEPTH_MD'].values[0])"
   ]
  },
  {
   "cell_type": "code",
   "execution_count": 14,
   "metadata": {},
   "outputs": [],
   "source": [
    "# well_data = data[data['WELL'] == wells[57]]\n",
    "# fig, axs = plt.subplots(1, len(well_data.columns)-9, figsize=(14, 10), sharey=True)\n",
    "# for ic, col in enumerate(set(well_data.columns)-set(['DEPTH_MD', 'FORCE_2020_LITHOFACIES_LITHOLOGY',\n",
    "#                                                      'FORCE_2020_LITHOFACIES_CONFIDENCE', 'WELL', 'GROUP', 'FORMATION',\n",
    "#                                                     'X_LOC', 'Y_LOC', 'Z_LOC'])):\n",
    "#     axs[ic].plot(well_data[col], well_data['DEPTH_MD'])\n",
    "#     axs[ic].set_xlabel(col)\n",
    "# axs[0].set_ylim(well_data['DEPTH_MD'].values[-1], well_data['DEPTH_MD'].values[0])"
   ]
  },
  {
   "cell_type": "markdown",
   "metadata": {},
   "source": [
    "#### 4.4 Well Data Box Plots"
   ]
  },
  {
   "cell_type": "markdown",
   "metadata": {},
   "source": [
    "The following box plots are based on the starter notebook recommended variables. I also did a log scale of the variables to get a better sense of the data distribution."
   ]
  },
  {
   "cell_type": "code",
   "execution_count": 15,
   "metadata": {},
   "outputs": [
    {
     "data": {
      "image/png": "[encoded data removed]",
      "text/plain": [
       "<Figure size 1440x720 with 1 Axes>"
      ]
     },
     "metadata": {
      "needs_background": "light"
     },
     "output_type": "display_data"
    }
   ],
   "source": [
    "df_prim_boxplot = pd.melt(data[['CALI', 'RSHA', 'RMED', 'RDEP', 'RHOB', 'GR', 'NPHI', 'PEF', 'DTC', 'SP', 'BS']])\n",
    "\n",
    "plt.figure(figsize=(20,10))\n",
    "ax = sns.boxplot(x=df_prim_boxplot[\"variable\"], y=df_prim_boxplot[\"value\"], showfliers = True, width=0.5)\n",
    "ax.set(xlabel='Lithology Variable', ylabel='Lithology Value')\n",
    "ax.set_title(\"Boxplot of Primary Lithology Variables\")\n",
    "plt.show()"
   ]
  },
  {
   "cell_type": "code",
   "execution_count": 16,
   "metadata": {},
   "outputs": [
    {
     "data": {
      "image/png": "[encoded data removed]",
      "text/plain": [
       "<Figure size 1440x720 with 1 Axes>"
      ]
     },
     "metadata": {
      "needs_background": "light"
     },
     "output_type": "display_data"
    }
   ],
   "source": [
    "df_prim_log_boxplot = pd.melt(np.log(data[['CALI', 'RSHA', 'RMED', 'RDEP', 'RHOB', 'GR', 'NPHI', 'PEF', 'DTC', 'SP', 'BS']])) \n",
    "\n",
    "plt.figure(figsize=(20,10))\n",
    "ax = sns.boxplot(x=df_prim_log_boxplot[\"variable\"], y=df_prim_log_boxplot[\"value\"], showfliers = True, width=0.5)\n",
    "ax.set(xlabel='Lithology Variable', ylabel='Lithology Value (Log Scale)')\n",
    "ax.set_title(\"Boxplot of Primary Lithology Variables on a Log Scale\")\n",
    "plt.show()"
   ]
  },
  {
   "cell_type": "markdown",
   "metadata": {},
   "source": [
    "Looked at the other variables that didn't have large representation in the dataset: SGR, DTC, ROP, DTS, DCAL, DRHO, RMIC, ROPA, RXO"
   ]
  },
  {
   "cell_type": "code",
   "execution_count": 17,
   "metadata": {},
   "outputs": [
    {
     "data": {
      "image/png": "[encoded data removed]",
      "text/plain": [
       "<Figure size 1440x720 with 1 Axes>"
      ]
     },
     "metadata": {
      "needs_background": "light"
     },
     "output_type": "display_data"
    }
   ],
   "source": [
    "df_sec_boxplot = pd.melt(data[['SGR','DTC','ROP','DTS','DCAL','DRHO','RMIC','ROPA','RXO']])\n",
    "\n",
    "plt.figure(figsize=(20,10))\n",
    "ax = sns.boxplot(x=df_sec_boxplot[\"variable\"], y=df_sec_boxplot[\"value\"], showfliers = True, width=0.5)\n",
    "ax.set(xlabel='Lithology Variable', ylabel='Lithology Value')\n",
    "ax.set_title(\"Boxplot of Secondary Lithology Variables\")\n",
    "plt.show()"
   ]
  },
  {
   "cell_type": "code",
   "execution_count": 18,
   "metadata": {},
   "outputs": [
    {
     "data": {
      "image/png": "[encoded data removed]",
      "text/plain": [
       "<Figure size 1440x720 with 1 Axes>"
      ]
     },
     "metadata": {
      "needs_background": "light"
     },
     "output_type": "display_data"
    }
   ],
   "source": [
    "df_sec_log_boxplot = pd.melt(np.log(data[['SGR','DTC','ROP','DTS','DCAL','DRHO','RMIC','ROPA','RXO']]))\n",
    "\n",
    "plt.figure(figsize=(20,10))\n",
    "ax = sns.boxplot(x=df_sec_log_boxplot[\"variable\"], y=df_sec_log_boxplot[\"value\"], showfliers = True, width=0.5)\n",
    "ax.set(xlabel='Lithology Variable', ylabel='Lithology Value (Log Scale)')\n",
    "ax.set_title(\"Boxplot of Primary Lithology Variables on a Log Scale\")\n",
    "plt.show()"
   ]
  },
  {
   "cell_type": "markdown",
   "metadata": {},
   "source": [
    "#### 4.5 Well Data Histograms"
   ]
  },
  {
   "cell_type": "markdown",
   "metadata": {},
   "source": [
    "Below are some histograms I made of all the variables in order to see what the distribution of the values look like. Some variables, like resistivity, probably will look a lot better on a log scale.\n",
    "\n",
    "As you can also see, I have left a link to help me remember how I made this particular loop. You will find many of these random links as I am a beginner and well on my way to learning how to use Google and Stack Overflow for almost everything."
   ]
  },
  {
   "cell_type": "markdown",
   "metadata": {},
   "source": [
    "https://stackoverflow.com/questions/50773877/create-for-loop-to-plot-histograms-for-individual-columns-of-dataframe-with-seab"
   ]
  },
  {
   "cell_type": "code",
   "execution_count": 19,
   "metadata": {},
   "outputs": [],
   "source": [
    "def histograms_plot(dataframe, features, rows, cols):\n",
    "    fig=plt.figure(figsize=(20,20))\n",
    "    for i, feature in enumerate(features):\n",
    "        ax=fig.add_subplot(rows,cols,i+1)\n",
    "        dataframe[feature].hist(bins=20,ax=ax)\n",
    "        ax.set_title(feature+\" Distribution\")\n",
    "\n",
    "    fig.tight_layout()  \n",
    "    plt.show()"
   ]
  },
  {
   "cell_type": "code",
   "execution_count": 20,
   "metadata": {},
   "outputs": [
    {
     "data": {
      "image/png": "[encoded data removed]",
      "text/plain": [
       "<Figure size 1440x1440 with 11 Axes>"
      ]
     },
     "metadata": {
      "needs_background": "light"
     },
     "output_type": "display_data"
    }
   ],
   "source": [
    "histograms_plot(data,data[['CALI', 'RSHA', 'RMED', 'RDEP', 'RHOB', 'GR', 'NPHI', 'PEF', 'DTC', 'SP', 'BS']].columns,6,3)"
   ]
  },
  {
   "cell_type": "markdown",
   "metadata": {},
   "source": [
    "The following is a repeat of the above but on a log scale for all the primary variables."
   ]
  },
  {
   "cell_type": "code",
   "execution_count": 21,
   "metadata": {},
   "outputs": [],
   "source": [
    "def histograms_log_plot(dataframe, features, rows, cols):\n",
    "    fig=plt.figure(figsize=(20,20))\n",
    "    for i, feature in enumerate(features):\n",
    "        ax=fig.add_subplot(rows,cols,i+1)\n",
    "        try:\n",
    "            np.log(dataframe[feature]).hist(bins=50,ax=ax)\n",
    "        except:\n",
    "            pass\n",
    "        ax.set_title(feature+\" Distribution\")\n",
    "\n",
    "    fig.tight_layout()  \n",
    "    plt.show()"
   ]
  },
  {
   "cell_type": "code",
   "execution_count": 22,
   "metadata": {},
   "outputs": [
    {
     "data": {
      "image/png": "[encoded data removed]",
      "text/plain": [
       "<Figure size 1440x1440 with 11 Axes>"
      ]
     },
     "metadata": {
      "needs_background": "light"
     },
     "output_type": "display_data"
    }
   ],
   "source": [
    "histograms_log_plot(data,data[['CALI', 'RSHA', 'RMED', 'RDEP', 'RHOB', 'GR', 'NPHI', 'PEF', 'DTC', 'SP', 'BS']].columns,6,3)"
   ]
  },
  {
   "cell_type": "markdown",
   "metadata": {},
   "source": [
    "Histogram plots for secondary variables SGR, DTC, ROP, DTS, DCAL, DRHO, RMIC, ROPA, RXO"
   ]
  },
  {
   "cell_type": "code",
   "execution_count": 23,
   "metadata": {},
   "outputs": [
    {
     "data": {
      "image/png": "[encoded data removed]",
      "text/plain": [
       "<Figure size 1440x1440 with 9 Axes>"
      ]
     },
     "metadata": {
      "needs_background": "light"
     },
     "output_type": "display_data"
    }
   ],
   "source": [
    "histograms_plot(data,data[['SGR','DTC','ROP','DTS','DCAL','DRHO','RMIC','ROPA','RXO']].columns,6,3)"
   ]
  },
  {
   "cell_type": "code",
   "execution_count": 24,
   "metadata": {},
   "outputs": [
    {
     "data": {
      "image/png": "[encoded data removed]",
      "text/plain": [
       "<Figure size 1440x1440 with 9 Axes>"
      ]
     },
     "metadata": {
      "needs_background": "light"
     },
     "output_type": "display_data"
    }
   ],
   "source": [
    "histograms_log_plot(data,data[['SGR','DTC','ROP','DTS','DCAL','DRHO','RMIC','ROPA','RXO']].columns,6,3)"
   ]
  },
  {
   "cell_type": "markdown",
   "metadata": {},
   "source": [
    "#### 4.6 Statistical Analyses"
   ]
  },
  {
   "cell_type": "markdown",
   "metadata": {},
   "source": [
    "There are certain variables that I want to take a closer look at because certain outliers will be considered not valid as they will be out of range based on discussions I have had with individuals who are petrophysicists. "
   ]
  },
  {
   "cell_type": "code",
   "execution_count": 25,
   "metadata": {},
   "outputs": [
    {
     "data": {
      "text/html": [
       "<div>\n",
       "<style scoped>\n",
       "    .dataframe tbody tr th:only-of-type {\n",
       "        vertical-align: middle;\n",
       "    }\n",
       "\n",
       "    .dataframe tbody tr th {\n",
       "        vertical-align: top;\n",
       "    }\n",
       "\n",
       "    .dataframe thead th {\n",
       "        text-align: right;\n",
       "    }\n",
       "</style>\n",
       "<table border=\"1\" class=\"dataframe\">\n",
       "  <thead>\n",
       "    <tr style=\"text-align: right;\">\n",
       "      <th></th>\n",
       "      <th>CALI</th>\n",
       "      <th>RSHA</th>\n",
       "      <th>RMED</th>\n",
       "      <th>RDEP</th>\n",
       "      <th>RHOB</th>\n",
       "      <th>GR</th>\n",
       "      <th>NPHI</th>\n",
       "      <th>PEF</th>\n",
       "      <th>DTC</th>\n",
       "      <th>SP</th>\n",
       "      <th>BS</th>\n",
       "    </tr>\n",
       "  </thead>\n",
       "  <tbody>\n",
       "    <tr>\n",
       "      <th>count</th>\n",
       "      <td>1082634.00</td>\n",
       "      <td>630650.00</td>\n",
       "      <td>1131518.00</td>\n",
       "      <td>1159496.00</td>\n",
       "      <td>1009242.00</td>\n",
       "      <td>1170511.00</td>\n",
       "      <td>765409.00</td>\n",
       "      <td>671692.00</td>\n",
       "      <td>1089648.00</td>\n",
       "      <td>864247.00</td>\n",
       "      <td>682657.00</td>\n",
       "    </tr>\n",
       "    <tr>\n",
       "      <th>mean</th>\n",
       "      <td>13.19</td>\n",
       "      <td>10.69</td>\n",
       "      <td>4.99</td>\n",
       "      <td>10.69</td>\n",
       "      <td>2.28</td>\n",
       "      <td>70.91</td>\n",
       "      <td>0.33</td>\n",
       "      <td>6.32</td>\n",
       "      <td>113.36</td>\n",
       "      <td>60.03</td>\n",
       "      <td>11.93</td>\n",
       "    </tr>\n",
       "    <tr>\n",
       "      <th>std</th>\n",
       "      <td>3.80</td>\n",
       "      <td>100.64</td>\n",
       "      <td>54.67</td>\n",
       "      <td>113.95</td>\n",
       "      <td>0.25</td>\n",
       "      <td>34.23</td>\n",
       "      <td>0.13</td>\n",
       "      <td>10.96</td>\n",
       "      <td>29.99</td>\n",
       "      <td>76.57</td>\n",
       "      <td>3.33</td>\n",
       "    </tr>\n",
       "    <tr>\n",
       "      <th>min</th>\n",
       "      <td>2.34</td>\n",
       "      <td>0.00</td>\n",
       "      <td>-0.01</td>\n",
       "      <td>0.03</td>\n",
       "      <td>0.72</td>\n",
       "      <td>0.11</td>\n",
       "      <td>-0.04</td>\n",
       "      <td>0.10</td>\n",
       "      <td>7.42</td>\n",
       "      <td>-999.00</td>\n",
       "      <td>6.00</td>\n",
       "    </tr>\n",
       "    <tr>\n",
       "      <th>25%</th>\n",
       "      <td>9.43</td>\n",
       "      <td>0.85</td>\n",
       "      <td>0.91</td>\n",
       "      <td>0.91</td>\n",
       "      <td>2.09</td>\n",
       "      <td>47.63</td>\n",
       "      <td>0.24</td>\n",
       "      <td>3.41</td>\n",
       "      <td>87.83</td>\n",
       "      <td>32.40</td>\n",
       "      <td>8.50</td>\n",
       "    </tr>\n",
       "    <tr>\n",
       "      <th>50%</th>\n",
       "      <td>12.56</td>\n",
       "      <td>1.40</td>\n",
       "      <td>1.44</td>\n",
       "      <td>1.44</td>\n",
       "      <td>2.32</td>\n",
       "      <td>68.37</td>\n",
       "      <td>0.33</td>\n",
       "      <td>4.31</td>\n",
       "      <td>109.59</td>\n",
       "      <td>55.39</td>\n",
       "      <td>12.25</td>\n",
       "    </tr>\n",
       "    <tr>\n",
       "      <th>75%</th>\n",
       "      <td>16.71</td>\n",
       "      <td>3.10</td>\n",
       "      <td>2.68</td>\n",
       "      <td>2.56</td>\n",
       "      <td>2.49</td>\n",
       "      <td>89.04</td>\n",
       "      <td>0.42</td>\n",
       "      <td>5.97</td>\n",
       "      <td>140.77</td>\n",
       "      <td>83.39</td>\n",
       "      <td>12.25</td>\n",
       "    </tr>\n",
       "    <tr>\n",
       "      <th>max</th>\n",
       "      <td>28.28</td>\n",
       "      <td>2193.90</td>\n",
       "      <td>1988.62</td>\n",
       "      <td>1999.89</td>\n",
       "      <td>3.46</td>\n",
       "      <td>1076.96</td>\n",
       "      <td>1.00</td>\n",
       "      <td>383.13</td>\n",
       "      <td>320.48</td>\n",
       "      <td>526.55</td>\n",
       "      <td>26.00</td>\n",
       "    </tr>\n",
       "  </tbody>\n",
       "</table>\n",
       "</div>"
      ],
      "text/plain": [
       "            CALI      RSHA       RMED       RDEP       RHOB         GR  \\\n",
       "count 1082634.00 630650.00 1131518.00 1159496.00 1009242.00 1170511.00   \n",
       "mean       13.19     10.69       4.99      10.69       2.28      70.91   \n",
       "std         3.80    100.64      54.67     113.95       0.25      34.23   \n",
       "min         2.34      0.00      -0.01       0.03       0.72       0.11   \n",
       "25%         9.43      0.85       0.91       0.91       2.09      47.63   \n",
       "50%        12.56      1.40       1.44       1.44       2.32      68.37   \n",
       "75%        16.71      3.10       2.68       2.56       2.49      89.04   \n",
       "max        28.28   2193.90    1988.62    1999.89       3.46    1076.96   \n",
       "\n",
       "           NPHI       PEF        DTC        SP        BS  \n",
       "count 765409.00 671692.00 1089648.00 864247.00 682657.00  \n",
       "mean       0.33      6.32     113.36     60.03     11.93  \n",
       "std        0.13     10.96      29.99     76.57      3.33  \n",
       "min       -0.04      0.10       7.42   -999.00      6.00  \n",
       "25%        0.24      3.41      87.83     32.40      8.50  \n",
       "50%        0.33      4.31     109.59     55.39     12.25  \n",
       "75%        0.42      5.97     140.77     83.39     12.25  \n",
       "max        1.00    383.13     320.48    526.55     26.00  "
      ]
     },
     "execution_count": 25,
     "metadata": {},
     "output_type": "execute_result"
    }
   ],
   "source": [
    "pd.set_option('display.float_format', lambda x: '%.2f' % x)\n",
    "data[['CALI', 'RSHA', 'RMED', 'RDEP', 'RHOB', 'GR', 'NPHI', 'PEF', 'DTC', 'SP', 'BS']].describe()"
   ]
  },
  {
   "cell_type": "code",
   "execution_count": 26,
   "metadata": {},
   "outputs": [
    {
     "data": {
      "text/html": [
       "<div>\n",
       "<style scoped>\n",
       "    .dataframe tbody tr th:only-of-type {\n",
       "        vertical-align: middle;\n",
       "    }\n",
       "\n",
       "    .dataframe tbody tr th {\n",
       "        vertical-align: top;\n",
       "    }\n",
       "\n",
       "    .dataframe thead th {\n",
       "        text-align: right;\n",
       "    }\n",
       "</style>\n",
       "<table border=\"1\" class=\"dataframe\">\n",
       "  <thead>\n",
       "    <tr style=\"text-align: right;\">\n",
       "      <th></th>\n",
       "      <th>SGR</th>\n",
       "      <th>DTC</th>\n",
       "      <th>ROP</th>\n",
       "      <th>DTS</th>\n",
       "      <th>DCAL</th>\n",
       "      <th>DRHO</th>\n",
       "      <th>RMIC</th>\n",
       "      <th>ROPA</th>\n",
       "      <th>RXO</th>\n",
       "    </tr>\n",
       "  </thead>\n",
       "  <tbody>\n",
       "    <tr>\n",
       "      <th>count</th>\n",
       "      <td>69353.00</td>\n",
       "      <td>1089648.00</td>\n",
       "      <td>535071.00</td>\n",
       "      <td>174613.00</td>\n",
       "      <td>298833.00</td>\n",
       "      <td>987857.00</td>\n",
       "      <td>176160.00</td>\n",
       "      <td>192325.00</td>\n",
       "      <td>327427.00</td>\n",
       "    </tr>\n",
       "    <tr>\n",
       "      <th>mean</th>\n",
       "      <td>64.90</td>\n",
       "      <td>113.36</td>\n",
       "      <td>137.37</td>\n",
       "      <td>204.66</td>\n",
       "      <td>1.22</td>\n",
       "      <td>0.01</td>\n",
       "      <td>7.80</td>\n",
       "      <td>23.51</td>\n",
       "      <td>-95.78</td>\n",
       "    </tr>\n",
       "    <tr>\n",
       "      <th>std</th>\n",
       "      <td>38.44</td>\n",
       "      <td>29.99</td>\n",
       "      <td>1539.38</td>\n",
       "      <td>71.07</td>\n",
       "      <td>54.37</td>\n",
       "      <td>7.48</td>\n",
       "      <td>89.74</td>\n",
       "      <td>22.63</td>\n",
       "      <td>348.98</td>\n",
       "    </tr>\n",
       "    <tr>\n",
       "      <th>min</th>\n",
       "      <td>-777.99</td>\n",
       "      <td>7.42</td>\n",
       "      <td>-0.12</td>\n",
       "      <td>69.16</td>\n",
       "      <td>-12.22</td>\n",
       "      <td>-7429.34</td>\n",
       "      <td>0.06</td>\n",
       "      <td>-999.25</td>\n",
       "      <td>-999.90</td>\n",
       "    </tr>\n",
       "    <tr>\n",
       "      <th>25%</th>\n",
       "      <td>42.96</td>\n",
       "      <td>87.83</td>\n",
       "      <td>5.63</td>\n",
       "      <td>155.94</td>\n",
       "      <td>0.15</td>\n",
       "      <td>-0.01</td>\n",
       "      <td>0.89</td>\n",
       "      <td>11.28</td>\n",
       "      <td>0.69</td>\n",
       "    </tr>\n",
       "    <tr>\n",
       "      <th>50%</th>\n",
       "      <td>69.56</td>\n",
       "      <td>109.59</td>\n",
       "      <td>17.80</td>\n",
       "      <td>188.20</td>\n",
       "      <td>0.56</td>\n",
       "      <td>0.00</td>\n",
       "      <td>1.97</td>\n",
       "      <td>20.13</td>\n",
       "      <td>1.37</td>\n",
       "    </tr>\n",
       "    <tr>\n",
       "      <th>75%</th>\n",
       "      <td>87.91</td>\n",
       "      <td>140.77</td>\n",
       "      <td>34.81</td>\n",
       "      <td>224.65</td>\n",
       "      <td>1.30</td>\n",
       "      <td>0.02</td>\n",
       "      <td>5.08</td>\n",
       "      <td>31.14</td>\n",
       "      <td>3.42</td>\n",
       "    </tr>\n",
       "    <tr>\n",
       "      <th>max</th>\n",
       "      <td>963.61</td>\n",
       "      <td>320.48</td>\n",
       "      <td>47015.12</td>\n",
       "      <td>676.58</td>\n",
       "      <td>10011.42</td>\n",
       "      <td>2.84</td>\n",
       "      <td>10000.00</td>\n",
       "      <td>742.80</td>\n",
       "      <td>35930.67</td>\n",
       "    </tr>\n",
       "  </tbody>\n",
       "</table>\n",
       "</div>"
      ],
      "text/plain": [
       "           SGR        DTC       ROP       DTS      DCAL      DRHO      RMIC  \\\n",
       "count 69353.00 1089648.00 535071.00 174613.00 298833.00 987857.00 176160.00   \n",
       "mean     64.90     113.36    137.37    204.66      1.22      0.01      7.80   \n",
       "std      38.44      29.99   1539.38     71.07     54.37      7.48     89.74   \n",
       "min    -777.99       7.42     -0.12     69.16    -12.22  -7429.34      0.06   \n",
       "25%      42.96      87.83      5.63    155.94      0.15     -0.01      0.89   \n",
       "50%      69.56     109.59     17.80    188.20      0.56      0.00      1.97   \n",
       "75%      87.91     140.77     34.81    224.65      1.30      0.02      5.08   \n",
       "max     963.61     320.48  47015.12    676.58  10011.42      2.84  10000.00   \n",
       "\n",
       "           ROPA       RXO  \n",
       "count 192325.00 327427.00  \n",
       "mean      23.51    -95.78  \n",
       "std       22.63    348.98  \n",
       "min     -999.25   -999.90  \n",
       "25%       11.28      0.69  \n",
       "50%       20.13      1.37  \n",
       "75%       31.14      3.42  \n",
       "max      742.80  35930.67  "
      ]
     },
     "execution_count": 26,
     "metadata": {},
     "output_type": "execute_result"
    }
   ],
   "source": [
    "data[['SGR','DTC','ROP','DTS','DCAL','DRHO','RMIC','ROPA','RXO']].describe()"
   ]
  },
  {
   "cell_type": "markdown",
   "metadata": {},
   "source": [
    "### 5. Make Duplicate Data Copy\n",
    "\n",
    "We are just going to grab a copy of the original dataset so we do not inadvertently mess up it up."
   ]
  },
  {
   "cell_type": "code",
   "execution_count": 27,
   "metadata": {},
   "outputs": [],
   "source": [
    "data1 = data.copy()"
   ]
  },
  {
   "cell_type": "markdown",
   "metadata": {},
   "source": [
    "### 6. Looking at Lithology "
   ]
  },
  {
   "cell_type": "markdown",
   "metadata": {},
   "source": [
    "The following limits will be used to better capture the valid values of each variable that are being examined.\n",
    "- Resistivity must be 0 or higher, and will not exceed over 2000 for RSHA, RMED, and RDEP\n",
    "- Gamma Ray will not exceed over 200 for GR\n",
    "- Rate of penetration ROP cannot be less than 0"
   ]
  },
  {
   "cell_type": "markdown",
   "metadata": {},
   "source": [
    "Some resources on these numbers:\n",
    "\n",
    "https://www.eoas.ubc.ca/ubcgif/iag/foundations/properties/resistivity.htm\n",
    "\n",
    "https://wiki.aapg.org/Quick-look_lithology_from_logs"
   ]
  },
  {
   "cell_type": "markdown",
   "metadata": {},
   "source": [
    "#### 6.1 Outlier Treatment\n",
    "\n",
    "Given the above limits, some of the outliers that do not conform with the limits will be turned to NaN and then those values will be treated again later."
   ]
  },
  {
   "cell_type": "markdown",
   "metadata": {},
   "source": [
    "(This is just another link for myself https://kanoki.org/2019/07/17/pandas-how-to-replace-values-based-on-conditions/)"
   ]
  },
  {
   "cell_type": "markdown",
   "metadata": {},
   "source": [
    "We are going to create a function to help us treat the outliers that do not conform to the restrictions. This will use the operator module in Python as well."
   ]
  },
  {
   "cell_type": "code",
   "execution_count": 28,
   "metadata": {},
   "outputs": [],
   "source": [
    "def outlier_removal(df, op, limit, replace):\n",
    "    temp_name = df.name\n",
    "    print('Before outlier removal for',df.name)\n",
    "    print(df.name,'Min',min(df[df.notnull()]))\n",
    "    print(df.name,'Max',max(df[df.notnull()]))\n",
    "    outliers = [x for x in df if op(x,limit)]\n",
    "    print('Number of',df.name,'outliers:',len(outliers),'\\n')\n",
    "    \n",
    "    df = np.where((op(df,limit)), replace, df)\n",
    "    df = pd.Series(df)\n",
    "    print('After outlier removal for',temp_name)\n",
    "    print(temp_name,'Min',min(df[df.notnull()]))\n",
    "    print(temp_name,'Max',max(df[df.notnull()]))\n",
    "    \n",
    "    return df"
   ]
  },
  {
   "cell_type": "code",
   "execution_count": 29,
   "metadata": {},
   "outputs": [
    {
     "name": "stdout",
     "output_type": "stream",
     "text": [
      "Before outlier removal for RMED\n",
      "RMED Min -0.008418695\n",
      "RMED Max 1988.6163329999997\n",
      "Number of RMED outliers: 7 \n",
      "\n",
      "After outlier removal for RMED\n",
      "RMED Min 0.039903767400000005\n",
      "RMED Max 1988.6163329999997\n"
     ]
    }
   ],
   "source": [
    "# Changed any values lower than 0 on RMED to 0\n",
    "\n",
    "data1['RMED'] = outlier_removal(data1['RMED'], operator.le, 0, np.nan)"
   ]
  },
  {
   "cell_type": "code",
   "execution_count": 30,
   "metadata": {},
   "outputs": [
    {
     "name": "stdout",
     "output_type": "stream",
     "text": [
      "Before outlier removal for ROP\n",
      "ROP Min -0.11797700800000001\n",
      "ROP Max 47015.125\n",
      "Number of ROP outliers: 65 \n",
      "\n",
      "After outlier removal for ROP\n",
      "ROP Min 0.0023031914999999997\n",
      "ROP Max 47015.125\n"
     ]
    }
   ],
   "source": [
    "# Changed any values from ROP that were less than 0 to 0\n",
    "\n",
    "data1['ROP'] = outlier_removal(data1['ROP'], operator.le, 0, np.nan)"
   ]
  },
  {
   "cell_type": "code",
   "execution_count": 31,
   "metadata": {},
   "outputs": [
    {
     "name": "stdout",
     "output_type": "stream",
     "text": [
      "Before outlier removal for RSHA\n",
      "RSHA Min 0.0001\n",
      "RSHA Max 2193.904541\n",
      "Number of RSHA outliers: 69 \n",
      "\n",
      "After outlier removal for RSHA\n",
      "RSHA Min 0.0001\n",
      "RSHA Max 2000.0\n"
     ]
    }
   ],
   "source": [
    "# Changed any values above 2000 on RSHA to 2000\n",
    "\n",
    "data1['RSHA'] = outlier_removal(data1['RSHA'], operator.gt, 2000, 2000)"
   ]
  },
  {
   "cell_type": "code",
   "execution_count": 32,
   "metadata": {},
   "outputs": [
    {
     "name": "stdout",
     "output_type": "stream",
     "text": [
      "Before outlier removal for GR\n",
      "GR Min 0.1092843339\n",
      "GR Max 1076.9638672\n",
      "Number of GR outliers: 6427 \n",
      "\n",
      "After outlier removal for GR\n",
      "GR Min 0.1092843339\n",
      "GR Max 200.0\n"
     ]
    }
   ],
   "source": [
    "data1['GR'] = outlier_removal(data1['GR'], operator.gt, 200, 200)"
   ]
  },
  {
   "cell_type": "markdown",
   "metadata": {},
   "source": [
    "#### 6.2 Log Transforming\n",
    "\n",
    "Some of the data looked like it better fit within a log scale.\n",
    "\n",
    "Note: I tried using the CALI variable too but it gave me a worse result so in the end it was not log transformed."
   ]
  },
  {
   "cell_type": "code",
   "execution_count": 33,
   "metadata": {},
   "outputs": [],
   "source": [
    "## Some of the primary data fits better using the log mean.\n",
    "\n",
    "for column in data1[['RSHA', 'RMED', 'RDEP', 'GR', 'PEF']]:\n",
    "    data1[column] = np.log(data1[column])"
   ]
  },
  {
   "cell_type": "code",
   "execution_count": 34,
   "metadata": {},
   "outputs": [
    {
     "name": "stdout",
     "output_type": "stream",
     "text": [
      "-6.073459509190659\n",
      "10.758224637433582\n"
     ]
    }
   ],
   "source": [
    "## Some of the secondary data fits better using the log mean.\n",
    "\n",
    "data1['ROP'] = np.log(data1['ROP'])\n",
    "print(min(data1['ROP']))\n",
    "print(max(data1['ROP']))\n",
    "#data['ROP'].head(10)"
   ]
  },
  {
   "cell_type": "markdown",
   "metadata": {},
   "source": [
    "#### 6.3 Power Transform\n",
    "\n",
    "I tried a power transformation on SP but it did not yield a better result."
   ]
  },
  {
   "cell_type": "markdown",
   "metadata": {},
   "source": [
    "https://www.listendata.com/2015/09/regression-transform-negative-values.html\n",
    "\n",
    "https://scikit-learn.org/stable/modules/generated/sklearn.preprocessing.power_transform.html\n",
    "\n",
    "https://machinelearningmastery.com/power-transforms-with-scikit-learn/"
   ]
  },
  {
   "cell_type": "code",
   "execution_count": 35,
   "metadata": {},
   "outputs": [],
   "source": [
    "# display(data['SP'])\n",
    "# print(min(data['SP']))\n",
    "# print(max(data['SP']))\n",
    "\n",
    "# data['SP'].head(10)\n",
    "# data['SP'].hist(bins=50)\n",
    "# plt.show()\n",
    "\n",
    "# # reshape data to have rows and columns\n",
    "\n",
    "# temptemp = data['SP'].to_numpy()\n",
    "# display(temptemp)\n",
    "# temptemp = temptemp.reshape((len(temptemp),1))\n",
    "\n",
    "# display(temptemp)\n",
    "# temptemp = power_transform(temptemp, method='yeo-johnson')\n",
    "\n",
    "# data['SP'] = temptemp\n",
    "# print(min(data['SP']))\n",
    "# print(max(data['SP']))\n",
    "# data['SP'].hist(bins=50)\n",
    "# plt.show()"
   ]
  },
  {
   "cell_type": "markdown",
   "metadata": {},
   "source": [
    "#### 6.5 The LITHOLOGY column"
   ]
  },
  {
   "cell_type": "markdown",
   "metadata": {},
   "source": [
    "The LITHOLOGY column contains the interpretation. Each number corresponds to a lithology class, given by the following list:"
   ]
  },
  {
   "cell_type": "code",
   "execution_count": 36,
   "metadata": {},
   "outputs": [],
   "source": [
    "lithology_keys = {30000: 'Sandstone',\n",
    "                 65030: 'Sandstone/Shale',\n",
    "                 65000: 'Shale',\n",
    "                 80000: 'Marl',\n",
    "                 74000: 'Dolomite',\n",
    "                 70000: 'Limestone',\n",
    "                 70032: 'Chalk',\n",
    "                 88000: 'Halite',\n",
    "                 86000: 'Anhydrite',\n",
    "                 99000: 'Tuff',\n",
    "                 90000: 'Coal',\n",
    "                 93000: 'Basement'}"
   ]
  },
  {
   "cell_type": "code",
   "execution_count": 37,
   "metadata": {},
   "outputs": [
    {
     "data": {
      "text/plain": [
       "array([65000, 30000, 65030, 70000, 99000, 80000, 86000, 74000, 70032,\n",
       "       90000, 88000, 93000], dtype=int64)"
      ]
     },
     "execution_count": 37,
     "metadata": {},
     "output_type": "execute_result"
    }
   ],
   "source": [
    "data1['FORCE_2020_LITHOFACIES_LITHOLOGY'].unique()"
   ]
  },
  {
   "cell_type": "markdown",
   "metadata": {},
   "source": [
    "Lithologies are not equally likely. This is reflected in this dataset."
   ]
  },
  {
   "cell_type": "code",
   "execution_count": 38,
   "metadata": {},
   "outputs": [],
   "source": [
    "# counts = data['FORCE_2020_LITHOFACIES_LITHOLOGY'].value_counts()\n",
    "# names = []\n",
    "# percentage = []\n",
    "# N = data['FORCE_2020_LITHOFACIES_LITHOLOGY'].shape[0]\n",
    "# for item in counts.iteritems():\n",
    "#     names.append(lithology_keys[item[0]])\n",
    "#     percentage.append(float(item[1])/N*100)\n",
    "# fig, ax = plt.subplots(1, 1, figsize=(14, 7))\n",
    "# ax.bar(x=np.arange(len(names)), height=percentage)\n",
    "# ax.set_xticklabels(names, rotation=45)\n",
    "# ax.set_xticks(np.arange(len(names)))\n",
    "# ax.set_ylabel('Lithology presence (\\%)')"
   ]
  },
  {
   "cell_type": "markdown",
   "metadata": {},
   "source": [
    "##### We should convert lithology labels to numbers 0-11 before training"
   ]
  },
  {
   "cell_type": "code",
   "execution_count": 39,
   "metadata": {},
   "outputs": [],
   "source": [
    "y = data1['FORCE_2020_LITHOFACIES_LITHOLOGY']"
   ]
  },
  {
   "cell_type": "code",
   "execution_count": 40,
   "metadata": {},
   "outputs": [],
   "source": [
    "lithology_numbers = {30000: 0,\n",
    "                 65030: 1,\n",
    "                 65000: 2,\n",
    "                 80000: 3,\n",
    "                 74000: 4,\n",
    "                 70000: 5,\n",
    "                 70032: 6,\n",
    "                 88000: 7,\n",
    "                 86000: 8,\n",
    "                 99000: 9,\n",
    "                 90000: 10,\n",
    "                 93000: 11}"
   ]
  },
  {
   "cell_type": "code",
   "execution_count": 41,
   "metadata": {},
   "outputs": [],
   "source": [
    "y = y.map(lithology_numbers)"
   ]
  },
  {
   "cell_type": "markdown",
   "metadata": {},
   "source": [
    "#### 6.4 Encoding\n",
    "\n",
    "We are going to take the group and formations into account when we run our machine learning model. This was not done in the starter notebook so I thought it would be a good idea to incorporate it."
   ]
  },
  {
   "cell_type": "markdown",
   "metadata": {},
   "source": [
    "https://towardsdatascience.com/understanding-feature-engineering-part-2-categorical-data-f54324193e63"
   ]
  },
  {
   "cell_type": "code",
   "execution_count": 42,
   "metadata": {},
   "outputs": [
    {
     "data": {
      "text/plain": [
       "array(['NORDLAND GP.', 'HORDALAND GP.', 'ROGALAND GP.', 'SHETLAND GP.',\n",
       "       'CROMER KNOLL GP.', 'VIKING GP.', 'VESTLAND GP.', 'ZECHSTEIN GP.',\n",
       "       'HEGRE GP.', 'ROTLIEGENDES GP.', 'TYNE GP.', 'BOKNFJORD GP.',\n",
       "       'DUNLIN GP.', 'BAAT GP.', nan], dtype=object)"
      ]
     },
     "execution_count": 42,
     "metadata": {},
     "output_type": "execute_result"
    }
   ],
   "source": [
    "group = data1['GROUP'].unique()\n",
    "group"
   ]
  },
  {
   "cell_type": "code",
   "execution_count": 43,
   "metadata": {},
   "outputs": [
    {
     "data": {
      "text/plain": [
       "array([nan, 'Utsira Fm.', 'Balder Fm.', 'Sele Fm.', 'Lista Fm.',\n",
       "       'Heimdal Fm.', 'Tor Fm.', 'Hod Fm.', 'Blodoeks Fm.', 'Svarte Fm.',\n",
       "       'Roedby Fm.', 'Sola Fm.', 'Aasgard Fm.', 'Draupne Fm.',\n",
       "       'Heather Fm.', 'Hugin Fm.', 'Smith Bank Fm.', 'Frigg Fm.',\n",
       "       'Skagerrak Fm.', 'Ekofisk Fm.', 'Kupferschiefer Fm.', 'Skade Fm.',\n",
       "       'Grid Fm.', 'Vaale Fm.', 'Sleipner Fm.', 'Hidra Fm.', 'Tuxen Fm.',\n",
       "       'Mandal Fm.', 'Ula Fm.', 'Bryne Fm.', 'Tau Fm.', 'Sandnes Fm.',\n",
       "       'Intra Draupne Fm. Sst.', 'Statfjord Fm.', 'Skade Mb.', 'BASEMENT',\n",
       "       'Ran Sst Mb.', 'Flekkefjord Fm.', 'Sauda Fm.', 'Egersund Fm.',\n",
       "       'Intra Balder Fm. Sst.', 'Hermod Mb.', 'Ty Fm.', 'Hardraade Fm.',\n",
       "       'Kyrre Fm.', 'Tryggvason Fm.', 'Drake Fm.', 'Cook Fm.',\n",
       "       'Amundsen Fm.', 'Grid Mb.', 'Ty Mb.', 'Jorsalfare Fm.',\n",
       "       'Burton Fm.', 'Mime Fm.', 'Intra Heather Fm. Sst.', 'Tarbert Fm.',\n",
       "       'Ness Fm.', 'Etive Fm.', 'Rannoch Fm.', 'Broom Fm.', 'Lunde Fm.',\n",
       "       'Oseberg Fm.', 'Sognefjord Fm.', 'Fensfjord Fm.', 'Krossfjord Fm.',\n",
       "       'Johansen Fm.', 'Eiriksson Mb.', 'Raude Mb.', 'Agat Fm.',\n",
       "       'Farsund Fm.'], dtype=object)"
      ]
     },
     "execution_count": 43,
     "metadata": {},
     "output_type": "execute_result"
    }
   ],
   "source": [
    "formation = data1['FORMATION'].unique()\n",
    "formation"
   ]
  },
  {
   "cell_type": "code",
   "execution_count": 44,
   "metadata": {},
   "outputs": [],
   "source": [
    "formle = LabelEncoder()\n",
    "formation_labels = pd.DataFrame(formle.fit_transform(data1[~data1['FORMATION'].isnull()]['FORMATION'].astype(str)))\n",
    "x_form = data1[~data1['FORMATION'].isnull()]['GR'].to_numpy().reshape(-1, 1)\n",
    "y_form = formation_labels.to_numpy().ravel().astype('int')\n",
    "\n",
    "rc1 = RidgeClassifier(tol=1e-2, solver=\"sag\")\n",
    "rc1.fit(x_form, y_form)\n",
    "form1 = data1.FORMATION\n",
    "form_predict = rc1.predict(data1[data1['FORMATION'].isnull()]['GR'].to_numpy().reshape(-1, 1))\n",
    "form1[form1.isnull()] = formle.inverse_transform(form_predict)\n",
    "formation_labels = pd.DataFrame(formle.fit_transform(data1['FORMATION'].astype(str)))"
   ]
  },
  {
   "cell_type": "code",
   "execution_count": 45,
   "metadata": {},
   "outputs": [
    {
     "data": {
      "text/plain": [
       "array([36, 67])"
      ]
     },
     "execution_count": 45,
     "metadata": {},
     "output_type": "execute_result"
    }
   ],
   "source": [
    "np.unique(form_predict)"
   ]
  },
  {
   "cell_type": "code",
   "execution_count": 46,
   "metadata": {},
   "outputs": [
    {
     "data": {
      "text/plain": [
       "{0: 'Aasgard Fm.',\n",
       " 1: 'Agat Fm.',\n",
       " 2: 'Amundsen Fm.',\n",
       " 3: 'BASEMENT',\n",
       " 4: 'Balder Fm.',\n",
       " 5: 'Blodoeks Fm.',\n",
       " 6: 'Broom Fm.',\n",
       " 7: 'Bryne Fm.',\n",
       " 8: 'Burton Fm.',\n",
       " 9: 'Cook Fm.',\n",
       " 10: 'Drake Fm.',\n",
       " 11: 'Draupne Fm.',\n",
       " 12: 'Egersund Fm.',\n",
       " 13: 'Eiriksson Mb.',\n",
       " 14: 'Ekofisk Fm.',\n",
       " 15: 'Etive Fm.',\n",
       " 16: 'Farsund Fm.',\n",
       " 17: 'Fensfjord Fm.',\n",
       " 18: 'Flekkefjord Fm.',\n",
       " 19: 'Frigg Fm.',\n",
       " 20: 'Grid Fm.',\n",
       " 21: 'Grid Mb.',\n",
       " 22: 'Hardraade Fm.',\n",
       " 23: 'Heather Fm.',\n",
       " 24: 'Heimdal Fm.',\n",
       " 25: 'Hermod Mb.',\n",
       " 26: 'Hidra Fm.',\n",
       " 27: 'Hod Fm.',\n",
       " 28: 'Hugin Fm.',\n",
       " 29: 'Intra Balder Fm. Sst.',\n",
       " 30: 'Intra Draupne Fm. Sst.',\n",
       " 31: 'Intra Heather Fm. Sst.',\n",
       " 32: 'Johansen Fm.',\n",
       " 33: 'Jorsalfare Fm.',\n",
       " 34: 'Krossfjord Fm.',\n",
       " 35: 'Kupferschiefer Fm.',\n",
       " 36: 'Kyrre Fm.',\n",
       " 37: 'Lista Fm.',\n",
       " 38: 'Lunde Fm.',\n",
       " 39: 'Mandal Fm.',\n",
       " 40: 'Mime Fm.',\n",
       " 41: 'Ness Fm.',\n",
       " 42: 'Oseberg Fm.',\n",
       " 43: 'Ran Sst Mb.',\n",
       " 44: 'Rannoch Fm.',\n",
       " 45: 'Raude Mb.',\n",
       " 46: 'Roedby Fm.',\n",
       " 47: 'Sandnes Fm.',\n",
       " 48: 'Sauda Fm.',\n",
       " 49: 'Sele Fm.',\n",
       " 50: 'Skade Fm.',\n",
       " 51: 'Skade Mb.',\n",
       " 52: 'Skagerrak Fm.',\n",
       " 53: 'Sleipner Fm.',\n",
       " 54: 'Smith Bank Fm.',\n",
       " 55: 'Sognefjord Fm.',\n",
       " 56: 'Sola Fm.',\n",
       " 57: 'Statfjord Fm.',\n",
       " 58: 'Svarte Fm.',\n",
       " 59: 'Tarbert Fm.',\n",
       " 60: 'Tau Fm.',\n",
       " 61: 'Tor Fm.',\n",
       " 62: 'Tryggvason Fm.',\n",
       " 63: 'Tuxen Fm.',\n",
       " 64: 'Ty Fm.',\n",
       " 65: 'Ty Mb.',\n",
       " 66: 'Ula Fm.',\n",
       " 67: 'Utsira Fm.',\n",
       " 68: 'Vaale Fm.'}"
      ]
     },
     "execution_count": 46,
     "metadata": {},
     "output_type": "execute_result"
    }
   ],
   "source": [
    "formation_mappings = {index: label for index, label in \n",
    "                  enumerate(formle.classes_)}\n",
    "formation_mappings"
   ]
  },
  {
   "cell_type": "code",
   "execution_count": 47,
   "metadata": {},
   "outputs": [],
   "source": [
    "gle = LabelEncoder()\n",
    "group_labels = pd.DataFrame(gle.fit_transform(data1[~data1['GROUP'].isnull()]['GROUP'].astype(str)))\n",
    "x_group = data1[~data1['GROUP'].isnull()]['GR'].to_numpy().reshape(-1, 1)\n",
    "y_group = group_labels.to_numpy().ravel().astype('int')\n",
    "\n",
    "rc2 = RidgeClassifier(tol=1e-2, solver=\"sag\")\n",
    "rc2.fit(x_group, y_group)\n",
    "group1 = data1.GROUP\n",
    "group_predict = rc2.predict(data1[data1['GROUP'].isnull()]['GR'].to_numpy().reshape(-1, 1))\n",
    "group1[group1.isnull()] = gle.inverse_transform(group_predict)\n",
    "group_labels = pd.DataFrame(gle.fit_transform(data1['GROUP'].astype(str)))"
   ]
  },
  {
   "cell_type": "code",
   "execution_count": 48,
   "metadata": {},
   "outputs": [
    {
     "data": {
      "text/plain": [
       "array([5, 9])"
      ]
     },
     "execution_count": 48,
     "metadata": {},
     "output_type": "execute_result"
    }
   ],
   "source": [
    "np.unique(group_predict)"
   ]
  },
  {
   "cell_type": "code",
   "execution_count": 49,
   "metadata": {},
   "outputs": [
    {
     "data": {
      "text/plain": [
       "{0: 'BAAT GP.',\n",
       " 1: 'BOKNFJORD GP.',\n",
       " 2: 'CROMER KNOLL GP.',\n",
       " 3: 'DUNLIN GP.',\n",
       " 4: 'HEGRE GP.',\n",
       " 5: 'HORDALAND GP.',\n",
       " 6: 'NORDLAND GP.',\n",
       " 7: 'ROGALAND GP.',\n",
       " 8: 'ROTLIEGENDES GP.',\n",
       " 9: 'SHETLAND GP.',\n",
       " 10: 'TYNE GP.',\n",
       " 11: 'VESTLAND GP.',\n",
       " 12: 'VIKING GP.',\n",
       " 13: 'ZECHSTEIN GP.'}"
      ]
     },
     "execution_count": 49,
     "metadata": {},
     "output_type": "execute_result"
    }
   ],
   "source": [
    "group_mappings = {index: label for index, label in \n",
    "                  enumerate(gle.classes_)}\n",
    "group_mappings"
   ]
  },
  {
   "cell_type": "code",
   "execution_count": 50,
   "metadata": {},
   "outputs": [],
   "source": [
    "data1['GROUP_LABELS'] = group_labels"
   ]
  },
  {
   "cell_type": "code",
   "execution_count": 51,
   "metadata": {},
   "outputs": [],
   "source": [
    "data1['FORMATION_LABELS'] = formation_labels"
   ]
  },
  {
   "cell_type": "markdown",
   "metadata": {},
   "source": [
    "### 7. Preparing data for training"
   ]
  },
  {
   "cell_type": "markdown",
   "metadata": {},
   "source": [
    "Before we drop the data, we should find the mean of the missing nans rather than apply a mean throughout the entire dataset."
   ]
  },
  {
   "cell_type": "code",
   "execution_count": 52,
   "metadata": {},
   "outputs": [],
   "source": [
    "X = data1.drop(columns=['FORCE_2020_LITHOFACIES_LITHOLOGY', 'FORCE_2020_LITHOFACIES_CONFIDENCE'])"
   ]
  },
  {
   "cell_type": "code",
   "execution_count": 53,
   "metadata": {},
   "outputs": [
    {
     "data": {
      "text/plain": [
       "Index(['WELL', 'DEPTH_MD', 'X_LOC', 'Y_LOC', 'Z_LOC', 'GROUP', 'FORMATION',\n",
       "       'CALI', 'RSHA', 'RMED', 'RDEP', 'RHOB', 'GR', 'SGR', 'NPHI', 'PEF',\n",
       "       'DTC', 'SP', 'BS', 'ROP', 'DTS', 'DCAL', 'DRHO', 'MUDWEIGHT', 'RMIC',\n",
       "       'ROPA', 'RXO', 'GROUP_LABELS', 'FORMATION_LABELS'],\n",
       "      dtype='object')"
      ]
     },
     "execution_count": 53,
     "metadata": {},
     "output_type": "execute_result"
    }
   ],
   "source": [
    "X.columns"
   ]
  },
  {
   "cell_type": "code",
   "execution_count": 54,
   "metadata": {},
   "outputs": [],
   "source": [
    "# X.isna().any()"
   ]
  },
  {
   "cell_type": "markdown",
   "metadata": {},
   "source": [
    "#### 7.1 Imputing\n",
    "\n",
    "In the code below, I tried to fix my code so that it could use an Iterative Imputer per unique well in order to find a better value to fill NaNs than 0. However, in running the code, the score actually got worse. I have left this here for my own knowledge."
   ]
  },
  {
   "cell_type": "markdown",
   "metadata": {},
   "source": [
    "I found a good site that helped me with imputers\n",
    "https://andymdc31.github.io/missing_data_and_using_sklearns_iterativeimputer"
   ]
  },
  {
   "cell_type": "code",
   "execution_count": 55,
   "metadata": {},
   "outputs": [],
   "source": [
    "# def iterimputerfix(ref_df):\n",
    "#     temp_df_1 = pd.DataFrame()\n",
    "#     for well in ref_df['WELL'].unique():\n",
    "#         X = data1[data1['WELL'] == well]\n",
    "#         for column in X:\n",
    "#             if X[column].count() == 0:\n",
    "#                 X[column].fillna(0, inplace=True)\n",
    "#         temp_df_1 = temp_df_1.append(X, ignore_index=True)\n",
    "#     return temp_df_1"
   ]
  },
  {
   "cell_type": "code",
   "execution_count": 56,
   "metadata": {},
   "outputs": [],
   "source": [
    "# X = iterimputerfix(X)"
   ]
  },
  {
   "cell_type": "code",
   "execution_count": 57,
   "metadata": {},
   "outputs": [],
   "source": [
    "# def well_nan_remove(ref_df):\n",
    "#     \"\"\"Impute each well rather than for the entire dataset.\n",
    "    \n",
    "#     Args:\n",
    "#         ref_df (int): This is the well log dataset\n",
    "    \n",
    "#     Returns:\n",
    "#         temp_df_1 (dataframe): The temporary dataframe made for this function\n",
    "#     \"\"\"\n",
    "#     global X\n",
    "#     temp_df_1 = pd.DataFrame()\n",
    "#     for well in ref_df['WELL'].unique():\n",
    "#         temp_X = X[X['WELL'] == well]\n",
    "#         temp_X = temp_X.drop(columns=['WELL', 'FORCE_2020_LITHOFACIES_LITHOLOGY', 'FORCE_2020_LITHOFACIES_CONFIDENCE', 'GROUP', 'FORMATION'])\n",
    "#         #display(temp_X)\n",
    "#         imputer = IterativeImputer(estimator=linear_model.BayesianRidge(), n_nearest_features=None, imputation_order='ascending', random_state=42)\n",
    "#         imputer.fit(temp_X)\n",
    "#         temp_imputer = imputer.transform(temp_X)\n",
    "#         #temp_imputer = pd.DataFrame(temp_imputer)\n",
    "#         temp_imputer = pd.DataFrame(temp_imputer, columns=temp_X.columns)\n",
    "#         temp_df_1 = temp_df_1.append(temp_imputer, ignore_index=True)\n",
    "#         #display(temp_df_1)\n",
    "#     return temp_df_1\n",
    "\n",
    "# USE CTRL + / to comment/uncomment and entire section"
   ]
  },
  {
   "cell_type": "code",
   "execution_count": 58,
   "metadata": {},
   "outputs": [],
   "source": [
    "# X = well_nan_remove(X)"
   ]
  },
  {
   "cell_type": "code",
   "execution_count": 59,
   "metadata": {},
   "outputs": [],
   "source": [
    "# imputer = IterativeImputer(estimator=BayesianRidge(), n_nearest_features=None, imputation_order='ascending', random_state=42)\n",
    "# imputer.fit(X['GROUP_LABELS'].to_numpy().reshape(-1, 1))\n",
    "# imputed = imputer.transform(X['GROUP_LABELS'].to_numpy().reshape(-1,1))\n",
    "# X['GROUP_LABELS'] = imputed\n",
    "# X['GROUP_LABELS']"
   ]
  },
  {
   "cell_type": "markdown",
   "metadata": {},
   "source": [
    "As mentioned above, replacing NaN values with zero resulted in a better score than using imputing or using a mean average."
   ]
  },
  {
   "cell_type": "code",
   "execution_count": 60,
   "metadata": {},
   "outputs": [],
   "source": [
    "X.fillna(0, inplace=True)"
   ]
  },
  {
   "cell_type": "markdown",
   "metadata": {},
   "source": [
    "##### Lithologies are not equally likely. Probably smart to take this into account by computing class weights"
   ]
  },
  {
   "cell_type": "code",
   "execution_count": 61,
   "metadata": {},
   "outputs": [],
   "source": [
    "#np.bincount(y)"
   ]
  },
  {
   "cell_type": "markdown",
   "metadata": {},
   "source": [
    "#### 7.2 Shuffle the data\n",
    "\n",
    "So I tried to shuffle the data per well and that did not yield a better result"
   ]
  },
  {
   "cell_type": "code",
   "execution_count": 62,
   "metadata": {},
   "outputs": [],
   "source": [
    "# def shuffle_data(ref_df):\n",
    "#     global data1\n",
    "#     global lithology_numbers\n",
    "#     temp_df_1 = pd.DataFrame()\n",
    "#     temp_y = pd.Series()\n",
    "#     for well in ref_df['WELL'].unique():\n",
    "#         X = ref_df[ref_df['WELL'] == well]\n",
    "#         y = data1[data1['WELL'] == well]['FORCE_2020_LITHOFACIES_LITHOLOGY']\n",
    "#         X = X.drop(columns=['WELL'])\n",
    "#         y = y.map(lithology_numbers)\n",
    "#         X, y = shuffle(X, y, random_state=42)\n",
    "#         temp_df_1 = temp_df_1.append(X, ignore_index=False)\n",
    "#         temp_y = temp_y.append(y, ignore_index=False)\n",
    "#     return temp_df_1, temp_y"
   ]
  },
  {
   "cell_type": "markdown",
   "metadata": {},
   "source": [
    "Instead I did the general shuffling of data."
   ]
  },
  {
   "cell_type": "code",
   "execution_count": 63,
   "metadata": {},
   "outputs": [],
   "source": [
    "X, y = shuffle(X, y, random_state=42)"
   ]
  },
  {
   "cell_type": "code",
   "execution_count": 64,
   "metadata": {},
   "outputs": [
    {
     "data": {
      "text/html": [
       "<div>\n",
       "<style scoped>\n",
       "    .dataframe tbody tr th:only-of-type {\n",
       "        vertical-align: middle;\n",
       "    }\n",
       "\n",
       "    .dataframe tbody tr th {\n",
       "        vertical-align: top;\n",
       "    }\n",
       "\n",
       "    .dataframe thead th {\n",
       "        text-align: right;\n",
       "    }\n",
       "</style>\n",
       "<table border=\"1\" class=\"dataframe\">\n",
       "  <thead>\n",
       "    <tr style=\"text-align: right;\">\n",
       "      <th></th>\n",
       "      <th>WELL</th>\n",
       "      <th>DEPTH_MD</th>\n",
       "      <th>X_LOC</th>\n",
       "      <th>Y_LOC</th>\n",
       "      <th>Z_LOC</th>\n",
       "      <th>GROUP</th>\n",
       "      <th>FORMATION</th>\n",
       "      <th>CALI</th>\n",
       "      <th>RSHA</th>\n",
       "      <th>RMED</th>\n",
       "      <th>RDEP</th>\n",
       "      <th>RHOB</th>\n",
       "      <th>GR</th>\n",
       "      <th>SGR</th>\n",
       "      <th>NPHI</th>\n",
       "      <th>PEF</th>\n",
       "      <th>DTC</th>\n",
       "      <th>SP</th>\n",
       "      <th>BS</th>\n",
       "      <th>ROP</th>\n",
       "      <th>DTS</th>\n",
       "      <th>DCAL</th>\n",
       "      <th>DRHO</th>\n",
       "      <th>MUDWEIGHT</th>\n",
       "      <th>RMIC</th>\n",
       "      <th>ROPA</th>\n",
       "      <th>RXO</th>\n",
       "      <th>GROUP_LABELS</th>\n",
       "      <th>FORMATION_LABELS</th>\n",
       "    </tr>\n",
       "  </thead>\n",
       "  <tbody>\n",
       "    <tr>\n",
       "      <th>30423</th>\n",
       "      <td>15/9-15</td>\n",
       "      <td>2343.30</td>\n",
       "      <td>436806.47</td>\n",
       "      <td>6463010.50</td>\n",
       "      <td>-2318.01</td>\n",
       "      <td>ROGALAND GP.</td>\n",
       "      <td>Lista Fm.</td>\n",
       "      <td>14.88</td>\n",
       "      <td>-0.26</td>\n",
       "      <td>-0.26</td>\n",
       "      <td>-0.41</td>\n",
       "      <td>2.21</td>\n",
       "      <td>4.20</td>\n",
       "      <td>0.00</td>\n",
       "      <td>0.40</td>\n",
       "      <td>1.11</td>\n",
       "      <td>121.58</td>\n",
       "      <td>88.21</td>\n",
       "      <td>12.25</td>\n",
       "      <td>2.55</td>\n",
       "      <td>0.00</td>\n",
       "      <td>2.63</td>\n",
       "      <td>0.12</td>\n",
       "      <td>0.14</td>\n",
       "      <td>0.00</td>\n",
       "      <td>0.00</td>\n",
       "      <td>0.57</td>\n",
       "      <td>7</td>\n",
       "      <td>37</td>\n",
       "    </tr>\n",
       "    <tr>\n",
       "      <th>1073159</th>\n",
       "      <td>35/3-7 S</td>\n",
       "      <td>3582.47</td>\n",
       "      <td>543919.75</td>\n",
       "      <td>6856653.50</td>\n",
       "      <td>-3477.86</td>\n",
       "      <td>CROMER KNOLL GP.</td>\n",
       "      <td>Roedby Fm.</td>\n",
       "      <td>8.65</td>\n",
       "      <td>0.00</td>\n",
       "      <td>1.72</td>\n",
       "      <td>1.61</td>\n",
       "      <td>2.65</td>\n",
       "      <td>4.54</td>\n",
       "      <td>0.00</td>\n",
       "      <td>0.17</td>\n",
       "      <td>1.62</td>\n",
       "      <td>63.60</td>\n",
       "      <td>0.00</td>\n",
       "      <td>8.50</td>\n",
       "      <td>2.36</td>\n",
       "      <td>150.21</td>\n",
       "      <td>0.00</td>\n",
       "      <td>-0.01</td>\n",
       "      <td>0.00</td>\n",
       "      <td>6.63</td>\n",
       "      <td>10.41</td>\n",
       "      <td>0.00</td>\n",
       "      <td>2</td>\n",
       "      <td>46</td>\n",
       "    </tr>\n",
       "    <tr>\n",
       "      <th>436368</th>\n",
       "      <td>25/9-1</td>\n",
       "      <td>734.81</td>\n",
       "      <td>483545.34</td>\n",
       "      <td>6590313.00</td>\n",
       "      <td>-709.76</td>\n",
       "      <td>NORDLAND GP.</td>\n",
       "      <td>Utsira Fm.</td>\n",
       "      <td>0.00</td>\n",
       "      <td>0.00</td>\n",
       "      <td>0.00</td>\n",
       "      <td>0.00</td>\n",
       "      <td>0.00</td>\n",
       "      <td>4.02</td>\n",
       "      <td>0.00</td>\n",
       "      <td>0.00</td>\n",
       "      <td>0.00</td>\n",
       "      <td>0.00</td>\n",
       "      <td>0.00</td>\n",
       "      <td>17.50</td>\n",
       "      <td>4.69</td>\n",
       "      <td>0.00</td>\n",
       "      <td>0.00</td>\n",
       "      <td>0.00</td>\n",
       "      <td>0.00</td>\n",
       "      <td>0.00</td>\n",
       "      <td>0.00</td>\n",
       "      <td>0.00</td>\n",
       "      <td>6</td>\n",
       "      <td>67</td>\n",
       "    </tr>\n",
       "    <tr>\n",
       "      <th>290688</th>\n",
       "      <td>25/3-1</td>\n",
       "      <td>1075.97</td>\n",
       "      <td>487291.25</td>\n",
       "      <td>6643945.00</td>\n",
       "      <td>-1053.94</td>\n",
       "      <td>HORDALAND GP.</td>\n",
       "      <td>Utsira Fm.</td>\n",
       "      <td>17.65</td>\n",
       "      <td>0.00</td>\n",
       "      <td>-0.14</td>\n",
       "      <td>0.21</td>\n",
       "      <td>2.04</td>\n",
       "      <td>3.73</td>\n",
       "      <td>0.00</td>\n",
       "      <td>0.00</td>\n",
       "      <td>-0.26</td>\n",
       "      <td>148.78</td>\n",
       "      <td>21.60</td>\n",
       "      <td>17.50</td>\n",
       "      <td>2.08</td>\n",
       "      <td>0.00</td>\n",
       "      <td>0.22</td>\n",
       "      <td>0.05</td>\n",
       "      <td>0.96</td>\n",
       "      <td>0.00</td>\n",
       "      <td>0.00</td>\n",
       "      <td>0.00</td>\n",
       "      <td>5</td>\n",
       "      <td>67</td>\n",
       "    </tr>\n",
       "    <tr>\n",
       "      <th>1118085</th>\n",
       "      <td>35/9-10 S</td>\n",
       "      <td>3580.06</td>\n",
       "      <td>537897.75</td>\n",
       "      <td>6791142.50</td>\n",
       "      <td>-3069.18</td>\n",
       "      <td>BAAT GP.</td>\n",
       "      <td>Rannoch Fm.</td>\n",
       "      <td>8.57</td>\n",
       "      <td>0.00</td>\n",
       "      <td>2.03</td>\n",
       "      <td>2.09</td>\n",
       "      <td>2.57</td>\n",
       "      <td>4.84</td>\n",
       "      <td>0.00</td>\n",
       "      <td>0.26</td>\n",
       "      <td>1.29</td>\n",
       "      <td>77.51</td>\n",
       "      <td>0.00</td>\n",
       "      <td>8.50</td>\n",
       "      <td>3.46</td>\n",
       "      <td>140.67</td>\n",
       "      <td>0.00</td>\n",
       "      <td>0.04</td>\n",
       "      <td>0.00</td>\n",
       "      <td>0.00</td>\n",
       "      <td>0.00</td>\n",
       "      <td>0.00</td>\n",
       "      <td>0</td>\n",
       "      <td>44</td>\n",
       "    </tr>\n",
       "    <tr>\n",
       "      <th>...</th>\n",
       "      <td>...</td>\n",
       "      <td>...</td>\n",
       "      <td>...</td>\n",
       "      <td>...</td>\n",
       "      <td>...</td>\n",
       "      <td>...</td>\n",
       "      <td>...</td>\n",
       "      <td>...</td>\n",
       "      <td>...</td>\n",
       "      <td>...</td>\n",
       "      <td>...</td>\n",
       "      <td>...</td>\n",
       "      <td>...</td>\n",
       "      <td>...</td>\n",
       "      <td>...</td>\n",
       "      <td>...</td>\n",
       "      <td>...</td>\n",
       "      <td>...</td>\n",
       "      <td>...</td>\n",
       "      <td>...</td>\n",
       "      <td>...</td>\n",
       "      <td>...</td>\n",
       "      <td>...</td>\n",
       "      <td>...</td>\n",
       "      <td>...</td>\n",
       "      <td>...</td>\n",
       "      <td>...</td>\n",
       "      <td>...</td>\n",
       "      <td>...</td>\n",
       "    </tr>\n",
       "    <tr>\n",
       "      <th>110268</th>\n",
       "      <td>16/11-1 ST3</td>\n",
       "      <td>2619.55</td>\n",
       "      <td>0.00</td>\n",
       "      <td>0.00</td>\n",
       "      <td>0.00</td>\n",
       "      <td>ZECHSTEIN GP.</td>\n",
       "      <td>Smith Bank Fm.</td>\n",
       "      <td>12.44</td>\n",
       "      <td>0.00</td>\n",
       "      <td>0.00</td>\n",
       "      <td>0.00</td>\n",
       "      <td>0.00</td>\n",
       "      <td>1.81</td>\n",
       "      <td>0.00</td>\n",
       "      <td>0.00</td>\n",
       "      <td>0.00</td>\n",
       "      <td>68.53</td>\n",
       "      <td>0.00</td>\n",
       "      <td>12.25</td>\n",
       "      <td>0.87</td>\n",
       "      <td>0.00</td>\n",
       "      <td>0.00</td>\n",
       "      <td>0.00</td>\n",
       "      <td>1.43</td>\n",
       "      <td>0.00</td>\n",
       "      <td>0.00</td>\n",
       "      <td>0.00</td>\n",
       "      <td>13</td>\n",
       "      <td>54</td>\n",
       "    </tr>\n",
       "    <tr>\n",
       "      <th>259178</th>\n",
       "      <td>25/2-14</td>\n",
       "      <td>3032.06</td>\n",
       "      <td>476870.34</td>\n",
       "      <td>6625402.00</td>\n",
       "      <td>-3008.02</td>\n",
       "      <td>VIKING GP.</td>\n",
       "      <td>Draupne Fm.</td>\n",
       "      <td>12.15</td>\n",
       "      <td>0.66</td>\n",
       "      <td>0.27</td>\n",
       "      <td>0.29</td>\n",
       "      <td>2.34</td>\n",
       "      <td>5.18</td>\n",
       "      <td>0.00</td>\n",
       "      <td>0.67</td>\n",
       "      <td>1.46</td>\n",
       "      <td>121.56</td>\n",
       "      <td>58.38</td>\n",
       "      <td>12.25</td>\n",
       "      <td>0.00</td>\n",
       "      <td>0.00</td>\n",
       "      <td>-0.10</td>\n",
       "      <td>0.04</td>\n",
       "      <td>0.00</td>\n",
       "      <td>0.00</td>\n",
       "      <td>0.00</td>\n",
       "      <td>0.00</td>\n",
       "      <td>12</td>\n",
       "      <td>11</td>\n",
       "    </tr>\n",
       "    <tr>\n",
       "      <th>131932</th>\n",
       "      <td>16/2-16</td>\n",
       "      <td>2015.64</td>\n",
       "      <td>476768.28</td>\n",
       "      <td>6523588.50</td>\n",
       "      <td>-1989.27</td>\n",
       "      <td>HEGRE GP.</td>\n",
       "      <td>Skagerrak Fm.</td>\n",
       "      <td>8.53</td>\n",
       "      <td>0.00</td>\n",
       "      <td>0.49</td>\n",
       "      <td>0.48</td>\n",
       "      <td>2.47</td>\n",
       "      <td>4.39</td>\n",
       "      <td>0.00</td>\n",
       "      <td>0.23</td>\n",
       "      <td>1.22</td>\n",
       "      <td>89.30</td>\n",
       "      <td>0.00</td>\n",
       "      <td>8.50</td>\n",
       "      <td>2.20</td>\n",
       "      <td>172.16</td>\n",
       "      <td>0.00</td>\n",
       "      <td>-0.00</td>\n",
       "      <td>0.00</td>\n",
       "      <td>0.00</td>\n",
       "      <td>0.00</td>\n",
       "      <td>0.00</td>\n",
       "      <td>4</td>\n",
       "      <td>52</td>\n",
       "    </tr>\n",
       "    <tr>\n",
       "      <th>671155</th>\n",
       "      <td>31/5-4 S</td>\n",
       "      <td>1424.41</td>\n",
       "      <td>530753.69</td>\n",
       "      <td>6732068.00</td>\n",
       "      <td>-1380.43</td>\n",
       "      <td>ROGALAND GP.</td>\n",
       "      <td>Lista Fm.</td>\n",
       "      <td>0.00</td>\n",
       "      <td>0.00</td>\n",
       "      <td>0.00</td>\n",
       "      <td>-0.55</td>\n",
       "      <td>0.00</td>\n",
       "      <td>4.03</td>\n",
       "      <td>0.00</td>\n",
       "      <td>0.00</td>\n",
       "      <td>0.00</td>\n",
       "      <td>0.00</td>\n",
       "      <td>0.00</td>\n",
       "      <td>0.00</td>\n",
       "      <td>0.00</td>\n",
       "      <td>0.00</td>\n",
       "      <td>0.00</td>\n",
       "      <td>0.00</td>\n",
       "      <td>0.00</td>\n",
       "      <td>0.00</td>\n",
       "      <td>0.00</td>\n",
       "      <td>0.00</td>\n",
       "      <td>7</td>\n",
       "      <td>37</td>\n",
       "    </tr>\n",
       "    <tr>\n",
       "      <th>121958</th>\n",
       "      <td>16/2-11 A</td>\n",
       "      <td>2177.36</td>\n",
       "      <td>475597.31</td>\n",
       "      <td>6519111.00</td>\n",
       "      <td>-1885.01</td>\n",
       "      <td>CROMER KNOLL GP.</td>\n",
       "      <td>Aasgard Fm.</td>\n",
       "      <td>8.96</td>\n",
       "      <td>0.00</td>\n",
       "      <td>1.11</td>\n",
       "      <td>1.09</td>\n",
       "      <td>2.49</td>\n",
       "      <td>4.03</td>\n",
       "      <td>0.00</td>\n",
       "      <td>0.23</td>\n",
       "      <td>1.62</td>\n",
       "      <td>93.62</td>\n",
       "      <td>0.00</td>\n",
       "      <td>8.50</td>\n",
       "      <td>2.44</td>\n",
       "      <td>192.30</td>\n",
       "      <td>0.00</td>\n",
       "      <td>-0.01</td>\n",
       "      <td>0.00</td>\n",
       "      <td>3.08</td>\n",
       "      <td>5.07</td>\n",
       "      <td>0.00</td>\n",
       "      <td>2</td>\n",
       "      <td>0</td>\n",
       "    </tr>\n",
       "  </tbody>\n",
       "</table>\n",
       "<p>1170511 rows × 29 columns</p>\n",
       "</div>"
      ],
      "text/plain": [
       "                WELL  DEPTH_MD     X_LOC      Y_LOC    Z_LOC  \\\n",
       "30423        15/9-15   2343.30 436806.47 6463010.50 -2318.01   \n",
       "1073159     35/3-7 S   3582.47 543919.75 6856653.50 -3477.86   \n",
       "436368        25/9-1    734.81 483545.34 6590313.00  -709.76   \n",
       "290688        25/3-1   1075.97 487291.25 6643945.00 -1053.94   \n",
       "1118085    35/9-10 S   3580.06 537897.75 6791142.50 -3069.18   \n",
       "...              ...       ...       ...        ...      ...   \n",
       "110268   16/11-1 ST3   2619.55      0.00       0.00     0.00   \n",
       "259178       25/2-14   3032.06 476870.34 6625402.00 -3008.02   \n",
       "131932       16/2-16   2015.64 476768.28 6523588.50 -1989.27   \n",
       "671155      31/5-4 S   1424.41 530753.69 6732068.00 -1380.43   \n",
       "121958     16/2-11 A   2177.36 475597.31 6519111.00 -1885.01   \n",
       "\n",
       "                    GROUP       FORMATION  CALI  RSHA  RMED  RDEP  RHOB   GR  \\\n",
       "30423        ROGALAND GP.       Lista Fm. 14.88 -0.26 -0.26 -0.41  2.21 4.20   \n",
       "1073159  CROMER KNOLL GP.      Roedby Fm.  8.65  0.00  1.72  1.61  2.65 4.54   \n",
       "436368       NORDLAND GP.      Utsira Fm.  0.00  0.00  0.00  0.00  0.00 4.02   \n",
       "290688      HORDALAND GP.      Utsira Fm. 17.65  0.00 -0.14  0.21  2.04 3.73   \n",
       "1118085          BAAT GP.     Rannoch Fm.  8.57  0.00  2.03  2.09  2.57 4.84   \n",
       "...                   ...             ...   ...   ...   ...   ...   ...  ...   \n",
       "110268      ZECHSTEIN GP.  Smith Bank Fm. 12.44  0.00  0.00  0.00  0.00 1.81   \n",
       "259178         VIKING GP.     Draupne Fm. 12.15  0.66  0.27  0.29  2.34 5.18   \n",
       "131932          HEGRE GP.   Skagerrak Fm.  8.53  0.00  0.49  0.48  2.47 4.39   \n",
       "671155       ROGALAND GP.       Lista Fm.  0.00  0.00  0.00 -0.55  0.00 4.03   \n",
       "121958   CROMER KNOLL GP.     Aasgard Fm.  8.96  0.00  1.11  1.09  2.49 4.03   \n",
       "\n",
       "         SGR  NPHI   PEF    DTC    SP    BS  ROP    DTS  DCAL  DRHO  \\\n",
       "30423   0.00  0.40  1.11 121.58 88.21 12.25 2.55   0.00  2.63  0.12   \n",
       "1073159 0.00  0.17  1.62  63.60  0.00  8.50 2.36 150.21  0.00 -0.01   \n",
       "436368  0.00  0.00  0.00   0.00  0.00 17.50 4.69   0.00  0.00  0.00   \n",
       "290688  0.00  0.00 -0.26 148.78 21.60 17.50 2.08   0.00  0.22  0.05   \n",
       "1118085 0.00  0.26  1.29  77.51  0.00  8.50 3.46 140.67  0.00  0.04   \n",
       "...      ...   ...   ...    ...   ...   ...  ...    ...   ...   ...   \n",
       "110268  0.00  0.00  0.00  68.53  0.00 12.25 0.87   0.00  0.00  0.00   \n",
       "259178  0.00  0.67  1.46 121.56 58.38 12.25 0.00   0.00 -0.10  0.04   \n",
       "131932  0.00  0.23  1.22  89.30  0.00  8.50 2.20 172.16  0.00 -0.00   \n",
       "671155  0.00  0.00  0.00   0.00  0.00  0.00 0.00   0.00  0.00  0.00   \n",
       "121958  0.00  0.23  1.62  93.62  0.00  8.50 2.44 192.30  0.00 -0.01   \n",
       "\n",
       "         MUDWEIGHT  RMIC  ROPA  RXO  GROUP_LABELS  FORMATION_LABELS  \n",
       "30423         0.14  0.00  0.00 0.57             7                37  \n",
       "1073159       0.00  6.63 10.41 0.00             2                46  \n",
       "436368        0.00  0.00  0.00 0.00             6                67  \n",
       "290688        0.96  0.00  0.00 0.00             5                67  \n",
       "1118085       0.00  0.00  0.00 0.00             0                44  \n",
       "...            ...   ...   ...  ...           ...               ...  \n",
       "110268        1.43  0.00  0.00 0.00            13                54  \n",
       "259178        0.00  0.00  0.00 0.00            12                11  \n",
       "131932        0.00  0.00  0.00 0.00             4                52  \n",
       "671155        0.00  0.00  0.00 0.00             7                37  \n",
       "121958        0.00  3.08  5.07 0.00             2                 0  \n",
       "\n",
       "[1170511 rows x 29 columns]"
      ]
     },
     "execution_count": 64,
     "metadata": {},
     "output_type": "execute_result"
    }
   ],
   "source": [
    "X"
   ]
  },
  {
   "cell_type": "markdown",
   "metadata": {},
   "source": [
    "#### Select only the columns you want to use"
   ]
  },
  {
   "cell_type": "code",
   "execution_count": 65,
   "metadata": {},
   "outputs": [
    {
     "data": {
      "text/plain": [
       "Index(['WELL', 'DEPTH_MD', 'X_LOC', 'Y_LOC', 'Z_LOC', 'GROUP', 'FORMATION',\n",
       "       'CALI', 'RSHA', 'RMED', 'RDEP', 'RHOB', 'GR', 'SGR', 'NPHI', 'PEF',\n",
       "       'DTC', 'SP', 'BS', 'ROP', 'DTS', 'DCAL', 'DRHO', 'MUDWEIGHT', 'RMIC',\n",
       "       'ROPA', 'RXO', 'GROUP_LABELS', 'FORMATION_LABELS'],\n",
       "      dtype='object')"
      ]
     },
     "execution_count": 65,
     "metadata": {},
     "output_type": "execute_result"
    }
   ],
   "source": [
    "X.columns"
   ]
  },
  {
   "cell_type": "markdown",
   "metadata": {},
   "source": [
    "### 8. Final Cleanup"
   ]
  },
  {
   "cell_type": "markdown",
   "metadata": {},
   "source": [
    "#### Reselect only the columns you want to use after doing some feature engineering\n",
    "\n",
    "For this, I also used ROP since it did show some importance relative to all the other variables."
   ]
  },
  {
   "cell_type": "code",
   "execution_count": 67,
   "metadata": {},
   "outputs": [],
   "source": [
    "#X = X[['X_LOC', 'Y_LOC', 'Z_LOC', 'DEPTH_MD', 'CALI', 'RSHA', 'RMED', 'RDEP', 'RHOB', 'GR', 'NPHI', 'PEF', 'DTC', 'SP', 'BS', 'GROUP_LABELS', 'FORMATION_LABELS']]\n",
    "X = X[['X_LOC', 'Y_LOC', 'Z_LOC', 'DEPTH_MD', 'CALI', 'RSHA', 'RMED', 'RDEP', 'RHOB', 'GR', 'NPHI', 'PEF', 'DTC', 'SP', 'BS', 'GROUP_LABELS', 'FORMATION_LABELS', 'ROP']]\n",
    "\n",
    "# DID USE ROP!\n",
    "# Did not use SGR, RMIC, ROPA, RXO, DRHO, DCAL, DTS"
   ]
  },
  {
   "cell_type": "markdown",
   "metadata": {},
   "source": [
    "##### Scale the features"
   ]
  },
  {
   "cell_type": "code",
   "execution_count": 68,
   "metadata": {},
   "outputs": [],
   "source": [
    "scaler = StandardScaler()"
   ]
  },
  {
   "cell_type": "code",
   "execution_count": 69,
   "metadata": {},
   "outputs": [
    {
     "data": {
      "text/plain": [
       "Index(['X_LOC', 'Y_LOC', 'Z_LOC', 'DEPTH_MD', 'CALI', 'RSHA', 'RMED', 'RDEP',\n",
       "       'RHOB', 'GR', 'NPHI', 'PEF', 'DTC', 'SP', 'BS', 'GROUP_LABELS',\n",
       "       'FORMATION_LABELS', 'ROP'],\n",
       "      dtype='object')"
      ]
     },
     "execution_count": 69,
     "metadata": {},
     "output_type": "execute_result"
    }
   ],
   "source": [
    "X.columns"
   ]
  },
  {
   "cell_type": "code",
   "execution_count": 70,
   "metadata": {},
   "outputs": [],
   "source": [
    "X = scaler.fit_transform(X)"
   ]
  },
  {
   "cell_type": "markdown",
   "metadata": {},
   "source": [
    "##### Split into train and test data"
   ]
  },
  {
   "cell_type": "code",
   "execution_count": 71,
   "metadata": {},
   "outputs": [],
   "source": [
    "X_train, X_test, y_train, y_test = train_test_split(X, y, test_size=0.2, random_state=42)"
   ]
  },
  {
   "cell_type": "markdown",
   "metadata": {},
   "source": [
    "### 9. Applying the custom scoring function"
   ]
  },
  {
   "cell_type": "markdown",
   "metadata": {},
   "source": [
    "Apart from the missing log curves, **one of the key challenges of this machine learning competition is that you are being scored using a custom scoring function**. \n",
    "\n",
    "A prediction is scored using the penalty function\n",
    "$$ S = - \\frac{1}{N}\\sum_{i=0}^N A_{ \\hat{y}_i y_i} $$\n",
    "where $N$ is the number of samples, $y_i$ is prediction for sample $i$, $\\hat{y}_i$ is the true target for sample $i$, and $A$ is the penalty matrix given by the following\n",
    "\n",
    "In short, the value of the matrix A at row i and column j is the **penalty** given by guessing lithology number i when the correct label is lithology numner j. Notice that the diagonal consists of zeros, no penalty is given for correct predictions."
   ]
  },
  {
   "cell_type": "code",
   "execution_count": 72,
   "metadata": {},
   "outputs": [],
   "source": [
    "A = np.load('penalty_matrix.npy')"
   ]
  },
  {
   "cell_type": "code",
   "execution_count": 73,
   "metadata": {},
   "outputs": [
    {
     "data": {
      "text/plain": [
       "array([[0.   , 2.   , 3.5  , 3.   , 3.75 , 3.5  , 3.5  , 4.   , 4.   ,\n",
       "        2.5  , 3.875, 3.25 ],\n",
       "       [2.   , 0.   , 2.375, 2.75 , 4.   , 3.75 , 3.75 , 3.875, 4.   ,\n",
       "        3.   , 3.75 , 3.   ],\n",
       "       [3.5  , 2.375, 0.   , 2.   , 3.5  , 3.5  , 3.75 , 4.   , 4.   ,\n",
       "        2.75 , 3.25 , 3.   ],\n",
       "       [3.   , 2.75 , 2.   , 0.   , 2.5  , 2.   , 2.25 , 4.   , 4.   ,\n",
       "        3.375, 3.75 , 3.25 ],\n",
       "       [3.75 , 4.   , 3.5  , 2.5  , 0.   , 2.625, 2.875, 3.75 , 3.25 ,\n",
       "        3.   , 4.   , 3.625],\n",
       "       [3.5  , 3.75 , 3.5  , 2.   , 2.625, 0.   , 1.375, 4.   , 3.75 ,\n",
       "        3.5  , 4.   , 3.625],\n",
       "       [3.5  , 3.75 , 3.75 , 2.25 , 2.875, 1.375, 0.   , 4.   , 3.75 ,\n",
       "        3.125, 4.   , 3.75 ],\n",
       "       [4.   , 3.875, 4.   , 4.   , 3.75 , 4.   , 4.   , 0.   , 2.75 ,\n",
       "        3.75 , 3.75 , 4.   ],\n",
       "       [4.   , 4.   , 4.   , 4.   , 3.25 , 3.75 , 3.75 , 2.75 , 0.   ,\n",
       "        4.   , 4.   , 3.875],\n",
       "       [2.5  , 3.   , 2.75 , 3.375, 3.   , 3.5  , 3.125, 3.75 , 4.   ,\n",
       "        0.   , 2.5  , 3.25 ],\n",
       "       [3.875, 3.75 , 3.25 , 3.75 , 4.   , 4.   , 4.   , 3.75 , 4.   ,\n",
       "        2.5  , 0.   , 4.   ],\n",
       "       [3.25 , 3.   , 3.   , 3.25 , 3.625, 3.625, 3.75 , 4.   , 3.875,\n",
       "        3.25 , 4.   , 0.   ]])"
      ]
     },
     "execution_count": 73,
     "metadata": {},
     "output_type": "execute_result"
    }
   ],
   "source": [
    "A"
   ]
  },
  {
   "cell_type": "markdown",
   "metadata": {},
   "source": [
    "The scoring function can be implemented as follows. If used as a loss function in a neural network framwork, it is recommended to implement a more efficient function based on tensor products. "
   ]
  },
  {
   "cell_type": "code",
   "execution_count": 74,
   "metadata": {},
   "outputs": [],
   "source": [
    "def score(y_true, y_pred):\n",
    "    S = 0.0\n",
    "    y_true = y_true.astype(int)\n",
    "    y_pred = y_pred.astype(int)\n",
    "    for i in range(0, y_true.shape[0]):\n",
    "        S -= A[y_true[i], y_pred[i]]\n",
    "    return S/y_true.shape[0]"
   ]
  },
  {
   "cell_type": "markdown",
   "metadata": {},
   "source": [
    "**IMPORTANT: The implementation above assumes zero-indexed y_true and y_pred. Be careful not to mix zero-indexed and 1-indexed class labels.**"
   ]
  },
  {
   "cell_type": "markdown",
   "metadata": {},
   "source": [
    "Let us see what happens when we test the scoring function on some corner cases:"
   ]
  },
  {
   "cell_type": "markdown",
   "metadata": {},
   "source": [
    "##### Lazily guessing SHALE for everything gives an OK score due to the imbalance of the dataset"
   ]
  },
  {
   "cell_type": "code",
   "execution_count": 75,
   "metadata": {},
   "outputs": [
    {
     "data": {
      "text/plain": [
       "-1.154113253567874"
      ]
     },
     "execution_count": 75,
     "metadata": {},
     "output_type": "execute_result"
    }
   ],
   "source": [
    "score(y_test.values, np.ones(y_test.shape)*2)"
   ]
  },
  {
   "cell_type": "markdown",
   "metadata": {},
   "source": [
    "##### Doing the same for an uncommon class, like COAL, not so much.."
   ]
  },
  {
   "cell_type": "code",
   "execution_count": 76,
   "metadata": {},
   "outputs": [
    {
     "data": {
      "text/plain": [
       "-3.0950906225037698"
      ]
     },
     "execution_count": 76,
     "metadata": {},
     "output_type": "execute_result"
    }
   ],
   "source": [
    "score(y_test.values, np.ones(y_test.shape)*11)"
   ]
  },
  {
   "cell_type": "markdown",
   "metadata": {},
   "source": [
    "##### Of course getting it completely right gives the highest possible score, 0"
   ]
  },
  {
   "cell_type": "code",
   "execution_count": 77,
   "metadata": {},
   "outputs": [
    {
     "data": {
      "text/plain": [
       "0.0"
      ]
     },
     "execution_count": 77,
     "metadata": {},
     "output_type": "execute_result"
    }
   ],
   "source": [
    "score(y_test.values, y_test.values)"
   ]
  },
  {
   "cell_type": "markdown",
   "metadata": {},
   "source": [
    "### 10. Example prediction on open test dataset"
   ]
  },
  {
   "cell_type": "markdown",
   "metadata": {},
   "source": [
    "I used RandomForestClassifer as suggested as a starter to do this particular challenge. \n",
    "\n",
    "Some notes from the organizers were made about using Random Forest:\n",
    "\n",
    "*Apart from the inherent flaws of the random forest classifier, this example approach has a number of issues and simplifications. For example:*\n",
    "* *Data is not separated per well. Normalization and shuffling is done across the whole dataset.*\n",
    "##### JZ comment: I had tried to shuffle the data per well but it did not give a better result.\n",
    "* *The penatly matrix is not taken into account, it is treated as a normal classification problem.*\n",
    "##### JZ comment: For some reason my computer did not like using the penalty matrix as part of the scoring\n",
    "* *Missing logs are treated as zeros* \n",
    "##### JZ comment: Already discussed. Zeros yield a better result than imputing or filling in a mean (per well) for some reason\n",
    "* *Depth and formation tops not taken into account*\n",
    "##### JZ comment: Categorical group and formation have now been taken into account\n",
    "* *Same model is used for when you only have gamma ray logs as when you have the full set of logs*\n",
    "##### JZ comment: I did not know enough about lithologies to make changes based on this comment."
   ]
  },
  {
   "cell_type": "markdown",
   "metadata": {},
   "source": [
    "Here, I could have used a pipeline but I am still a beginner, so I've just done it step by step."
   ]
  },
  {
   "cell_type": "code",
   "execution_count": 78,
   "metadata": {
    "scrolled": true
   },
   "outputs": [],
   "source": [
    "model = RandomForestClassifier(random_state=42, class_weight='balanced')"
   ]
  },
  {
   "cell_type": "markdown",
   "metadata": {},
   "source": [
    "##### GridSearchCV"
   ]
  },
  {
   "cell_type": "code",
   "execution_count": 79,
   "metadata": {},
   "outputs": [],
   "source": [
    "param_grid = [\n",
    "{'n_estimators': [200]}\n",
    "]"
   ]
  },
  {
   "cell_type": "code",
   "execution_count": 80,
   "metadata": {},
   "outputs": [],
   "source": [
    "#model = GridSearchCV(model, param_grid, cv=3, scoring=make_scorer(score, greater_is_better=True), n_jobs=-1)\n",
    "model = GridSearchCV(model, param_grid, cv=3, scoring='neg_mean_squared_error', n_jobs=-1)"
   ]
  },
  {
   "cell_type": "code",
   "execution_count": 81,
   "metadata": {},
   "outputs": [
    {
     "name": "stdout",
     "output_type": "stream",
     "text": [
      "--- 2848.865264892578 seconds ---\n"
     ]
    }
   ],
   "source": [
    "# Timing of training\n",
    "start_time = time.time()\n",
    "\n",
    "# Actual training line\n",
    "model.fit(X_train, y_train)\n",
    "\n",
    "print(\"--- %s seconds ---\" % (time.time() - start_time))"
   ]
  },
  {
   "cell_type": "markdown",
   "metadata": {},
   "source": [
    "#### Test model"
   ]
  },
  {
   "cell_type": "code",
   "execution_count": 82,
   "metadata": {},
   "outputs": [],
   "source": [
    "#y_pred_test = model.predict(X_test)\n",
    "\n",
    "y_pred_test = model.best_estimator_.predict(X_test)"
   ]
  },
  {
   "cell_type": "code",
   "execution_count": 83,
   "metadata": {},
   "outputs": [],
   "source": [
    "#model.best_params_"
   ]
  },
  {
   "cell_type": "code",
   "execution_count": 84,
   "metadata": {},
   "outputs": [
    {
     "data": {
      "text/plain": [
       "-0.1014083544422754"
      ]
     },
     "execution_count": 84,
     "metadata": {},
     "output_type": "execute_result"
    }
   ],
   "source": [
    "score(y_test.values, y_pred_test)"
   ]
  },
  {
   "cell_type": "markdown",
   "metadata": {},
   "source": [
    "### Testing Blind Data"
   ]
  },
  {
   "cell_type": "code",
   "execution_count": 85,
   "metadata": {},
   "outputs": [],
   "source": [
    "open_test_features = pd.read_csv(r'test.csv', sep=';')"
   ]
  },
  {
   "cell_type": "code",
   "execution_count": 86,
   "metadata": {},
   "outputs": [
    {
     "data": {
      "text/html": [
       "<div>\n",
       "<style scoped>\n",
       "    .dataframe tbody tr th:only-of-type {\n",
       "        vertical-align: middle;\n",
       "    }\n",
       "\n",
       "    .dataframe tbody tr th {\n",
       "        vertical-align: top;\n",
       "    }\n",
       "\n",
       "    .dataframe thead th {\n",
       "        text-align: right;\n",
       "    }\n",
       "</style>\n",
       "<table border=\"1\" class=\"dataframe\">\n",
       "  <thead>\n",
       "    <tr style=\"text-align: right;\">\n",
       "      <th></th>\n",
       "      <th>WELL</th>\n",
       "      <th>DEPTH_MD</th>\n",
       "      <th>X_LOC</th>\n",
       "      <th>Y_LOC</th>\n",
       "      <th>Z_LOC</th>\n",
       "      <th>GROUP</th>\n",
       "      <th>FORMATION</th>\n",
       "      <th>CALI</th>\n",
       "      <th>RSHA</th>\n",
       "      <th>RMED</th>\n",
       "      <th>RDEP</th>\n",
       "      <th>RHOB</th>\n",
       "      <th>GR</th>\n",
       "      <th>SGR</th>\n",
       "      <th>NPHI</th>\n",
       "      <th>PEF</th>\n",
       "      <th>DTC</th>\n",
       "      <th>SP</th>\n",
       "      <th>BS</th>\n",
       "      <th>ROP</th>\n",
       "      <th>DTS</th>\n",
       "      <th>DCAL</th>\n",
       "      <th>DRHO</th>\n",
       "      <th>MUDWEIGHT</th>\n",
       "      <th>RMIC</th>\n",
       "      <th>ROPA</th>\n",
       "      <th>RXO</th>\n",
       "    </tr>\n",
       "  </thead>\n",
       "  <tbody>\n",
       "    <tr>\n",
       "      <th>0</th>\n",
       "      <td>15/9-14</td>\n",
       "      <td>480.63</td>\n",
       "      <td>423244.50</td>\n",
       "      <td>6461862.50</td>\n",
       "      <td>-455.62</td>\n",
       "      <td>NORDLAND GP.</td>\n",
       "      <td>NaN</td>\n",
       "      <td>19.20</td>\n",
       "      <td>nan</td>\n",
       "      <td>1.61</td>\n",
       "      <td>1.51</td>\n",
       "      <td>2.17</td>\n",
       "      <td>72.08</td>\n",
       "      <td>nan</td>\n",
       "      <td>0.55</td>\n",
       "      <td>55.82</td>\n",
       "      <td>174.35</td>\n",
       "      <td>35.53</td>\n",
       "      <td>nan</td>\n",
       "      <td>96.46</td>\n",
       "      <td>nan</td>\n",
       "      <td>nan</td>\n",
       "      <td>-0.54</td>\n",
       "      <td>0.13</td>\n",
       "      <td>nan</td>\n",
       "      <td>nan</td>\n",
       "      <td>nan</td>\n",
       "    </tr>\n",
       "    <tr>\n",
       "      <th>1</th>\n",
       "      <td>15/9-14</td>\n",
       "      <td>480.78</td>\n",
       "      <td>423244.50</td>\n",
       "      <td>6461862.50</td>\n",
       "      <td>-455.78</td>\n",
       "      <td>NORDLAND GP.</td>\n",
       "      <td>NaN</td>\n",
       "      <td>19.20</td>\n",
       "      <td>nan</td>\n",
       "      <td>1.57</td>\n",
       "      <td>1.48</td>\n",
       "      <td>2.17</td>\n",
       "      <td>72.15</td>\n",
       "      <td>nan</td>\n",
       "      <td>0.55</td>\n",
       "      <td>41.86</td>\n",
       "      <td>176.11</td>\n",
       "      <td>36.16</td>\n",
       "      <td>nan</td>\n",
       "      <td>96.45</td>\n",
       "      <td>nan</td>\n",
       "      <td>nan</td>\n",
       "      <td>-0.54</td>\n",
       "      <td>0.13</td>\n",
       "      <td>nan</td>\n",
       "      <td>nan</td>\n",
       "      <td>nan</td>\n",
       "    </tr>\n",
       "    <tr>\n",
       "      <th>2</th>\n",
       "      <td>15/9-14</td>\n",
       "      <td>480.93</td>\n",
       "      <td>423244.50</td>\n",
       "      <td>6461862.50</td>\n",
       "      <td>-455.93</td>\n",
       "      <td>NORDLAND GP.</td>\n",
       "      <td>NaN</td>\n",
       "      <td>19.20</td>\n",
       "      <td>nan</td>\n",
       "      <td>1.44</td>\n",
       "      <td>1.47</td>\n",
       "      <td>2.16</td>\n",
       "      <td>75.07</td>\n",
       "      <td>nan</td>\n",
       "      <td>0.55</td>\n",
       "      <td>38.59</td>\n",
       "      <td>177.66</td>\n",
       "      <td>36.87</td>\n",
       "      <td>nan</td>\n",
       "      <td>96.45</td>\n",
       "      <td>nan</td>\n",
       "      <td>nan</td>\n",
       "      <td>-0.54</td>\n",
       "      <td>0.13</td>\n",
       "      <td>nan</td>\n",
       "      <td>nan</td>\n",
       "      <td>nan</td>\n",
       "    </tr>\n",
       "    <tr>\n",
       "      <th>3</th>\n",
       "      <td>15/9-14</td>\n",
       "      <td>481.08</td>\n",
       "      <td>423244.50</td>\n",
       "      <td>6461862.50</td>\n",
       "      <td>-456.08</td>\n",
       "      <td>NORDLAND GP.</td>\n",
       "      <td>NaN</td>\n",
       "      <td>19.20</td>\n",
       "      <td>nan</td>\n",
       "      <td>1.28</td>\n",
       "      <td>1.47</td>\n",
       "      <td>2.15</td>\n",
       "      <td>80.74</td>\n",
       "      <td>nan</td>\n",
       "      <td>0.55</td>\n",
       "      <td>41.42</td>\n",
       "      <td>177.44</td>\n",
       "      <td>37.30</td>\n",
       "      <td>nan</td>\n",
       "      <td>161.17</td>\n",
       "      <td>nan</td>\n",
       "      <td>nan</td>\n",
       "      <td>-0.54</td>\n",
       "      <td>0.13</td>\n",
       "      <td>nan</td>\n",
       "      <td>nan</td>\n",
       "      <td>nan</td>\n",
       "    </tr>\n",
       "    <tr>\n",
       "      <th>4</th>\n",
       "      <td>15/9-14</td>\n",
       "      <td>481.24</td>\n",
       "      <td>423244.53</td>\n",
       "      <td>6461862.50</td>\n",
       "      <td>-456.23</td>\n",
       "      <td>NORDLAND GP.</td>\n",
       "      <td>NaN</td>\n",
       "      <td>19.20</td>\n",
       "      <td>nan</td>\n",
       "      <td>1.20</td>\n",
       "      <td>1.47</td>\n",
       "      <td>2.14</td>\n",
       "      <td>81.67</td>\n",
       "      <td>nan</td>\n",
       "      <td>0.57</td>\n",
       "      <td>49.47</td>\n",
       "      <td>176.80</td>\n",
       "      <td>37.86</td>\n",
       "      <td>nan</td>\n",
       "      <td>172.49</td>\n",
       "      <td>nan</td>\n",
       "      <td>nan</td>\n",
       "      <td>-0.54</td>\n",
       "      <td>0.13</td>\n",
       "      <td>nan</td>\n",
       "      <td>nan</td>\n",
       "      <td>nan</td>\n",
       "    </tr>\n",
       "  </tbody>\n",
       "</table>\n",
       "</div>"
      ],
      "text/plain": [
       "      WELL  DEPTH_MD     X_LOC      Y_LOC   Z_LOC         GROUP FORMATION  \\\n",
       "0  15/9-14    480.63 423244.50 6461862.50 -455.62  NORDLAND GP.       NaN   \n",
       "1  15/9-14    480.78 423244.50 6461862.50 -455.78  NORDLAND GP.       NaN   \n",
       "2  15/9-14    480.93 423244.50 6461862.50 -455.93  NORDLAND GP.       NaN   \n",
       "3  15/9-14    481.08 423244.50 6461862.50 -456.08  NORDLAND GP.       NaN   \n",
       "4  15/9-14    481.24 423244.53 6461862.50 -456.23  NORDLAND GP.       NaN   \n",
       "\n",
       "   CALI  RSHA  RMED  RDEP  RHOB    GR  SGR  NPHI   PEF    DTC    SP  BS  \\\n",
       "0 19.20   nan  1.61  1.51  2.17 72.08  nan  0.55 55.82 174.35 35.53 nan   \n",
       "1 19.20   nan  1.57  1.48  2.17 72.15  nan  0.55 41.86 176.11 36.16 nan   \n",
       "2 19.20   nan  1.44  1.47  2.16 75.07  nan  0.55 38.59 177.66 36.87 nan   \n",
       "3 19.20   nan  1.28  1.47  2.15 80.74  nan  0.55 41.42 177.44 37.30 nan   \n",
       "4 19.20   nan  1.20  1.47  2.14 81.67  nan  0.57 49.47 176.80 37.86 nan   \n",
       "\n",
       "     ROP  DTS  DCAL  DRHO  MUDWEIGHT  RMIC  ROPA  RXO  \n",
       "0  96.46  nan   nan -0.54       0.13   nan   nan  nan  \n",
       "1  96.45  nan   nan -0.54       0.13   nan   nan  nan  \n",
       "2  96.45  nan   nan -0.54       0.13   nan   nan  nan  \n",
       "3 161.17  nan   nan -0.54       0.13   nan   nan  nan  \n",
       "4 172.49  nan   nan -0.54       0.13   nan   nan  nan  "
      ]
     },
     "execution_count": 86,
     "metadata": {},
     "output_type": "execute_result"
    }
   ],
   "source": [
    "open_test_features.head()"
   ]
  },
  {
   "cell_type": "code",
   "execution_count": 87,
   "metadata": {},
   "outputs": [],
   "source": [
    "test_wells = open_test_features['WELL'].unique().tolist()"
   ]
  },
  {
   "cell_type": "code",
   "execution_count": 88,
   "metadata": {},
   "outputs": [
    {
     "data": {
      "text/plain": [
       "['15/9-14',\n",
       " '25/10-10',\n",
       " '25/11-24',\n",
       " '25/5-3',\n",
       " '29/3-1',\n",
       " '34/10-16 R',\n",
       " '34/3-3 A',\n",
       " '34/6-1 S',\n",
       " '35/6-2 S',\n",
       " '35/9-8']"
      ]
     },
     "execution_count": 88,
     "metadata": {},
     "output_type": "execute_result"
    }
   ],
   "source": [
    "test_wells"
   ]
  },
  {
   "cell_type": "code",
   "execution_count": 89,
   "metadata": {},
   "outputs": [
    {
     "data": {
      "image/png": "[encoded data removed]",
      "text/plain": [
       "<Figure size 1440x720 with 1 Axes>"
      ]
     },
     "metadata": {
      "needs_background": "light"
     },
     "output_type": "display_data"
    }
   ],
   "source": [
    "pd.melt(open_test_features[['CALI', 'RSHA', 'RMED', 'RDEP', 'RHOB', 'GR', 'NPHI', 'PEF', 'DTC', 'SP', 'BS']]).boxplot(by ='variable', column =['value'], \n",
    "                                                                                                        grid = False, figsize=(20,10), \n",
    "                                                                                                        showfliers=True) \n",
    "plt.show()"
   ]
  },
  {
   "cell_type": "code",
   "execution_count": 90,
   "metadata": {},
   "outputs": [
    {
     "data": {
      "text/plain": [
       "array([nan, 'Utsira Fm.', 'Balder Fm.', 'Sele Fm.', 'Lista Fm.',\n",
       "       'Heimdal Fm.', 'Ty Fm.', 'Ekofisk Fm.', 'Tor Fm.', 'Hod Fm.',\n",
       "       'Blodoeks Fm.', 'Svarte Fm.', 'Roedby Fm.', 'Sola Fm.',\n",
       "       'Aasgard Fm.', 'Draupne Fm.', 'Heather Fm.', 'Hugin Fm.',\n",
       "       'Sleipner Fm.', 'Skagerrak Fm.', 'Smith Bank Fm.', 'Skade Fm.',\n",
       "       'Grid Fm.', 'Intra Balder Fm. Sst.', 'Statfjord Fm.', 'Vaale Fm.',\n",
       "       'Hardraade Fm.', 'Drake Fm.', 'Burton Fm.', 'Jorsalfare Fm.',\n",
       "       'Kyrre Fm.', 'Tryggvason Fm.', 'Tarbert Fm.', 'Ness Fm.',\n",
       "       'Etive Fm.', 'Rannoch Fm.', 'Cook Fm.', 'Amundsen Fm.',\n",
       "       'Lunde Fm.', 'Mime Fm.', 'Agat Fm.', 'Intra Heather Fm. Sst.'],\n",
       "      dtype=object)"
      ]
     },
     "execution_count": 90,
     "metadata": {},
     "output_type": "execute_result"
    }
   ],
   "source": [
    "test_formation = open_test_features['FORMATION'].unique()\n",
    "test_formation"
   ]
  },
  {
   "cell_type": "code",
   "execution_count": 91,
   "metadata": {},
   "outputs": [
    {
     "data": {
      "text/plain": [
       "array(['NORDLAND GP.', 'HORDALAND GP.', 'ROGALAND GP.', 'SHETLAND GP.',\n",
       "       'CROMER KNOLL GP.', 'VIKING GP.', 'VESTLAND GP.', 'ZECHSTEIN GP.',\n",
       "       'DUNLIN GP.', 'BAAT GP.', 'HEGRE GP.'], dtype=object)"
      ]
     },
     "execution_count": 91,
     "metadata": {},
     "output_type": "execute_result"
    }
   ],
   "source": [
    "test_group = open_test_features['GROUP'].unique()\n",
    "test_group"
   ]
  },
  {
   "cell_type": "code",
   "execution_count": 92,
   "metadata": {},
   "outputs": [],
   "source": [
    "# form_test_le = LabelEncoder()\n",
    "# formation_test_labels = pd.DataFrame(form_test_le.fit_transform(open_test_features[~open_test_features['FORMATION'].isnull()]['FORMATION'].astype(str)))\n",
    "# x_test_form = y[~data1['FORMATION'].isnull()].to_numpy().reshape(-1, 1)\n",
    "# y_form = formation_labels.to_numpy().ravel().astype('int')\n",
    "\n",
    "# rc = RidgeClassifier(tol=1e-2, solver=\"sag\")\n",
    "# rc.fit(x_form, y_form)\n",
    "\n",
    "form_test1 = open_test_features.FORMATION\n",
    "form_test_predict = rc1.predict(open_test_features[open_test_features['FORMATION'].isnull()]['GR'].to_numpy().reshape(-1, 1))\n",
    "form_test1[form_test1.isnull()] = formle.inverse_transform(form_test_predict)"
   ]
  },
  {
   "cell_type": "code",
   "execution_count": 93,
   "metadata": {},
   "outputs": [
    {
     "data": {
      "text/plain": [
       "array([23])"
      ]
     },
     "execution_count": 93,
     "metadata": {},
     "output_type": "execute_result"
    }
   ],
   "source": [
    "np.unique(form_test_predict)"
   ]
  },
  {
   "cell_type": "code",
   "execution_count": 94,
   "metadata": {},
   "outputs": [],
   "source": [
    "test_formation = {value : key for (key, value) in formation_mappings.items()}"
   ]
  },
  {
   "cell_type": "code",
   "execution_count": 95,
   "metadata": {},
   "outputs": [
    {
     "data": {
      "text/plain": [
       "{'Aasgard Fm.': 0,\n",
       " 'Agat Fm.': 1,\n",
       " 'Amundsen Fm.': 2,\n",
       " 'BASEMENT': 3,\n",
       " 'Balder Fm.': 4,\n",
       " 'Blodoeks Fm.': 5,\n",
       " 'Broom Fm.': 6,\n",
       " 'Bryne Fm.': 7,\n",
       " 'Burton Fm.': 8,\n",
       " 'Cook Fm.': 9,\n",
       " 'Drake Fm.': 10,\n",
       " 'Draupne Fm.': 11,\n",
       " 'Egersund Fm.': 12,\n",
       " 'Eiriksson Mb.': 13,\n",
       " 'Ekofisk Fm.': 14,\n",
       " 'Etive Fm.': 15,\n",
       " 'Farsund Fm.': 16,\n",
       " 'Fensfjord Fm.': 17,\n",
       " 'Flekkefjord Fm.': 18,\n",
       " 'Frigg Fm.': 19,\n",
       " 'Grid Fm.': 20,\n",
       " 'Grid Mb.': 21,\n",
       " 'Hardraade Fm.': 22,\n",
       " 'Heather Fm.': 23,\n",
       " 'Heimdal Fm.': 24,\n",
       " 'Hermod Mb.': 25,\n",
       " 'Hidra Fm.': 26,\n",
       " 'Hod Fm.': 27,\n",
       " 'Hugin Fm.': 28,\n",
       " 'Intra Balder Fm. Sst.': 29,\n",
       " 'Intra Draupne Fm. Sst.': 30,\n",
       " 'Intra Heather Fm. Sst.': 31,\n",
       " 'Johansen Fm.': 32,\n",
       " 'Jorsalfare Fm.': 33,\n",
       " 'Krossfjord Fm.': 34,\n",
       " 'Kupferschiefer Fm.': 35,\n",
       " 'Kyrre Fm.': 36,\n",
       " 'Lista Fm.': 37,\n",
       " 'Lunde Fm.': 38,\n",
       " 'Mandal Fm.': 39,\n",
       " 'Mime Fm.': 40,\n",
       " 'Ness Fm.': 41,\n",
       " 'Oseberg Fm.': 42,\n",
       " 'Ran Sst Mb.': 43,\n",
       " 'Rannoch Fm.': 44,\n",
       " 'Raude Mb.': 45,\n",
       " 'Roedby Fm.': 46,\n",
       " 'Sandnes Fm.': 47,\n",
       " 'Sauda Fm.': 48,\n",
       " 'Sele Fm.': 49,\n",
       " 'Skade Fm.': 50,\n",
       " 'Skade Mb.': 51,\n",
       " 'Skagerrak Fm.': 52,\n",
       " 'Sleipner Fm.': 53,\n",
       " 'Smith Bank Fm.': 54,\n",
       " 'Sognefjord Fm.': 55,\n",
       " 'Sola Fm.': 56,\n",
       " 'Statfjord Fm.': 57,\n",
       " 'Svarte Fm.': 58,\n",
       " 'Tarbert Fm.': 59,\n",
       " 'Tau Fm.': 60,\n",
       " 'Tor Fm.': 61,\n",
       " 'Tryggvason Fm.': 62,\n",
       " 'Tuxen Fm.': 63,\n",
       " 'Ty Fm.': 64,\n",
       " 'Ty Mb.': 65,\n",
       " 'Ula Fm.': 66,\n",
       " 'Utsira Fm.': 67,\n",
       " 'Vaale Fm.': 68}"
      ]
     },
     "execution_count": 95,
     "metadata": {},
     "output_type": "execute_result"
    }
   ],
   "source": [
    "test_formation"
   ]
  },
  {
   "cell_type": "code",
   "execution_count": 96,
   "metadata": {},
   "outputs": [],
   "source": [
    "test_group = {value : key for (key, value) in group_mappings.items()}"
   ]
  },
  {
   "cell_type": "code",
   "execution_count": 97,
   "metadata": {},
   "outputs": [
    {
     "data": {
      "text/plain": [
       "{'BAAT GP.': 0,\n",
       " 'BOKNFJORD GP.': 1,\n",
       " 'CROMER KNOLL GP.': 2,\n",
       " 'DUNLIN GP.': 3,\n",
       " 'HEGRE GP.': 4,\n",
       " 'HORDALAND GP.': 5,\n",
       " 'NORDLAND GP.': 6,\n",
       " 'ROGALAND GP.': 7,\n",
       " 'ROTLIEGENDES GP.': 8,\n",
       " 'SHETLAND GP.': 9,\n",
       " 'TYNE GP.': 10,\n",
       " 'VESTLAND GP.': 11,\n",
       " 'VIKING GP.': 12,\n",
       " 'ZECHSTEIN GP.': 13}"
      ]
     },
     "execution_count": 97,
     "metadata": {},
     "output_type": "execute_result"
    }
   ],
   "source": [
    "test_group"
   ]
  },
  {
   "cell_type": "code",
   "execution_count": 98,
   "metadata": {},
   "outputs": [],
   "source": [
    "open_test_features['GROUP_LABELS'] = open_test_features['GROUP'].astype(str).map(test_group)"
   ]
  },
  {
   "cell_type": "code",
   "execution_count": 99,
   "metadata": {},
   "outputs": [],
   "source": [
    "open_test_features['FORMATION_LABELS'] = open_test_features['FORMATION'].astype(str).map(test_formation)"
   ]
  },
  {
   "cell_type": "code",
   "execution_count": 100,
   "metadata": {},
   "outputs": [
    {
     "data": {
      "text/plain": [
       "0"
      ]
     },
     "execution_count": 100,
     "metadata": {},
     "output_type": "execute_result"
    }
   ],
   "source": [
    "open_test_features['GROUP'].isna().sum()"
   ]
  },
  {
   "cell_type": "code",
   "execution_count": 101,
   "metadata": {},
   "outputs": [
    {
     "data": {
      "text/plain": [
       "0"
      ]
     },
     "execution_count": 101,
     "metadata": {},
     "output_type": "execute_result"
    }
   ],
   "source": [
    "open_test_features['FORMATION'].isna().sum()"
   ]
  },
  {
   "cell_type": "code",
   "execution_count": 102,
   "metadata": {},
   "outputs": [
    {
     "data": {
      "text/plain": [
       "0"
      ]
     },
     "execution_count": 102,
     "metadata": {},
     "output_type": "execute_result"
    }
   ],
   "source": [
    "open_test_features['FORMATION_LABELS'].isna().sum()"
   ]
  },
  {
   "cell_type": "code",
   "execution_count": 103,
   "metadata": {},
   "outputs": [
    {
     "data": {
      "text/plain": [
       "WELL                     0\n",
       "DEPTH_MD                 0\n",
       "X_LOC                   59\n",
       "Y_LOC                   59\n",
       "Z_LOC                   59\n",
       "GROUP                    0\n",
       "FORMATION                0\n",
       "CALI                  5645\n",
       "RSHA                 97689\n",
       "RMED                   587\n",
       "RDEP                    59\n",
       "RHOB                 16960\n",
       "GR                       0\n",
       "SGR                 136786\n",
       "NPHI                 32743\n",
       "PEF                  23283\n",
       "DTC                    823\n",
       "SP                   70159\n",
       "BS                   69822\n",
       "ROP                  68470\n",
       "DTS                  93566\n",
       "DCAL                123271\n",
       "DRHO                 25230\n",
       "MUDWEIGHT           116517\n",
       "RMIC                125470\n",
       "ROPA                 80996\n",
       "RXO                 106938\n",
       "GROUP_LABELS             0\n",
       "FORMATION_LABELS         0\n",
       "dtype: int64"
      ]
     },
     "execution_count": 103,
     "metadata": {},
     "output_type": "execute_result"
    }
   ],
   "source": [
    "open_test_features.isna().sum()"
   ]
  },
  {
   "cell_type": "code",
   "execution_count": 104,
   "metadata": {},
   "outputs": [
    {
     "data": {
      "text/html": [
       "<div>\n",
       "<style scoped>\n",
       "    .dataframe tbody tr th:only-of-type {\n",
       "        vertical-align: middle;\n",
       "    }\n",
       "\n",
       "    .dataframe tbody tr th {\n",
       "        vertical-align: top;\n",
       "    }\n",
       "\n",
       "    .dataframe thead th {\n",
       "        text-align: right;\n",
       "    }\n",
       "</style>\n",
       "<table border=\"1\" class=\"dataframe\">\n",
       "  <thead>\n",
       "    <tr style=\"text-align: right;\">\n",
       "      <th></th>\n",
       "      <th>WELL</th>\n",
       "      <th>DEPTH_MD</th>\n",
       "      <th>X_LOC</th>\n",
       "      <th>Y_LOC</th>\n",
       "      <th>Z_LOC</th>\n",
       "      <th>GROUP</th>\n",
       "      <th>FORMATION</th>\n",
       "      <th>CALI</th>\n",
       "      <th>RSHA</th>\n",
       "      <th>RMED</th>\n",
       "      <th>RDEP</th>\n",
       "      <th>RHOB</th>\n",
       "      <th>GR</th>\n",
       "      <th>SGR</th>\n",
       "      <th>NPHI</th>\n",
       "      <th>PEF</th>\n",
       "      <th>DTC</th>\n",
       "      <th>SP</th>\n",
       "      <th>BS</th>\n",
       "      <th>ROP</th>\n",
       "      <th>DTS</th>\n",
       "      <th>DCAL</th>\n",
       "      <th>DRHO</th>\n",
       "      <th>MUDWEIGHT</th>\n",
       "      <th>RMIC</th>\n",
       "      <th>ROPA</th>\n",
       "      <th>RXO</th>\n",
       "      <th>GROUP_LABELS</th>\n",
       "      <th>FORMATION_LABELS</th>\n",
       "    </tr>\n",
       "  </thead>\n",
       "  <tbody>\n",
       "    <tr>\n",
       "      <th>112114</th>\n",
       "      <td>34/3-3 A</td>\n",
       "      <td>4930.96</td>\n",
       "      <td>486173.75</td>\n",
       "      <td>6853265.00</td>\n",
       "      <td>-3893.57</td>\n",
       "      <td>DUNLIN GP.</td>\n",
       "      <td>Cook Fm.</td>\n",
       "      <td>8.66</td>\n",
       "      <td>nan</td>\n",
       "      <td>0.85</td>\n",
       "      <td>0.84</td>\n",
       "      <td>2.21</td>\n",
       "      <td>47.35</td>\n",
       "      <td>nan</td>\n",
       "      <td>0.33</td>\n",
       "      <td>7.04</td>\n",
       "      <td>82.94</td>\n",
       "      <td>nan</td>\n",
       "      <td>8.50</td>\n",
       "      <td>22.32</td>\n",
       "      <td>167.14</td>\n",
       "      <td>nan</td>\n",
       "      <td>0.00</td>\n",
       "      <td>nan</td>\n",
       "      <td>nan</td>\n",
       "      <td>22.98</td>\n",
       "      <td>nan</td>\n",
       "      <td>3</td>\n",
       "      <td>9</td>\n",
       "    </tr>\n",
       "    <tr>\n",
       "      <th>19895</th>\n",
       "      <td>15/9-14</td>\n",
       "      <td>3506.04</td>\n",
       "      <td>423279.16</td>\n",
       "      <td>6461834.50</td>\n",
       "      <td>-3479.55</td>\n",
       "      <td>VESTLAND GP.</td>\n",
       "      <td>Skagerrak Fm.</td>\n",
       "      <td>8.38</td>\n",
       "      <td>1.23</td>\n",
       "      <td>0.59</td>\n",
       "      <td>0.48</td>\n",
       "      <td>2.29</td>\n",
       "      <td>33.87</td>\n",
       "      <td>nan</td>\n",
       "      <td>0.25</td>\n",
       "      <td>nan</td>\n",
       "      <td>90.12</td>\n",
       "      <td>34.07</td>\n",
       "      <td>nan</td>\n",
       "      <td>14.83</td>\n",
       "      <td>nan</td>\n",
       "      <td>nan</td>\n",
       "      <td>-0.02</td>\n",
       "      <td>0.17</td>\n",
       "      <td>nan</td>\n",
       "      <td>nan</td>\n",
       "      <td>1.18</td>\n",
       "      <td>11</td>\n",
       "      <td>52</td>\n",
       "    </tr>\n",
       "    <tr>\n",
       "      <th>77705</th>\n",
       "      <td>34/10-16 R</td>\n",
       "      <td>1499.84</td>\n",
       "      <td>455758.00</td>\n",
       "      <td>6773611.50</td>\n",
       "      <td>-1477.83</td>\n",
       "      <td>HORDALAND GP.</td>\n",
       "      <td>Utsira Fm.</td>\n",
       "      <td>16.48</td>\n",
       "      <td>1.41</td>\n",
       "      <td>0.74</td>\n",
       "      <td>0.75</td>\n",
       "      <td>2.08</td>\n",
       "      <td>19.28</td>\n",
       "      <td>nan</td>\n",
       "      <td>nan</td>\n",
       "      <td>12.89</td>\n",
       "      <td>122.12</td>\n",
       "      <td>56.43</td>\n",
       "      <td>nan</td>\n",
       "      <td>nan</td>\n",
       "      <td>nan</td>\n",
       "      <td>nan</td>\n",
       "      <td>0.01</td>\n",
       "      <td>nan</td>\n",
       "      <td>nan</td>\n",
       "      <td>nan</td>\n",
       "      <td>1.41</td>\n",
       "      <td>5</td>\n",
       "      <td>67</td>\n",
       "    </tr>\n",
       "    <tr>\n",
       "      <th>43279</th>\n",
       "      <td>25/5-3</td>\n",
       "      <td>2595.09</td>\n",
       "      <td>479092.97</td>\n",
       "      <td>6605456.50</td>\n",
       "      <td>-2572.95</td>\n",
       "      <td>DUNLIN GP.</td>\n",
       "      <td>Burton Fm.</td>\n",
       "      <td>8.60</td>\n",
       "      <td>nan</td>\n",
       "      <td>3.86</td>\n",
       "      <td>3.00</td>\n",
       "      <td>2.54</td>\n",
       "      <td>92.58</td>\n",
       "      <td>nan</td>\n",
       "      <td>0.33</td>\n",
       "      <td>4.27</td>\n",
       "      <td>89.24</td>\n",
       "      <td>1.82</td>\n",
       "      <td>8.50</td>\n",
       "      <td>nan</td>\n",
       "      <td>nan</td>\n",
       "      <td>nan</td>\n",
       "      <td>0.01</td>\n",
       "      <td>nan</td>\n",
       "      <td>nan</td>\n",
       "      <td>nan</td>\n",
       "      <td>nan</td>\n",
       "      <td>3</td>\n",
       "      <td>8</td>\n",
       "    </tr>\n",
       "    <tr>\n",
       "      <th>34838</th>\n",
       "      <td>25/5-3</td>\n",
       "      <td>1312.06</td>\n",
       "      <td>479084.41</td>\n",
       "      <td>6605460.00</td>\n",
       "      <td>-1289.99</td>\n",
       "      <td>HORDALAND GP.</td>\n",
       "      <td>Skade Fm.</td>\n",
       "      <td>13.14</td>\n",
       "      <td>nan</td>\n",
       "      <td>1.49</td>\n",
       "      <td>1.54</td>\n",
       "      <td>2.11</td>\n",
       "      <td>65.25</td>\n",
       "      <td>nan</td>\n",
       "      <td>nan</td>\n",
       "      <td>4.11</td>\n",
       "      <td>142.66</td>\n",
       "      <td>-2.67</td>\n",
       "      <td>12.25</td>\n",
       "      <td>nan</td>\n",
       "      <td>nan</td>\n",
       "      <td>nan</td>\n",
       "      <td>0.00</td>\n",
       "      <td>nan</td>\n",
       "      <td>nan</td>\n",
       "      <td>nan</td>\n",
       "      <td>nan</td>\n",
       "      <td>5</td>\n",
       "      <td>50</td>\n",
       "    </tr>\n",
       "    <tr>\n",
       "      <th>82921</th>\n",
       "      <td>34/10-16 R</td>\n",
       "      <td>2292.67</td>\n",
       "      <td>455758.59</td>\n",
       "      <td>6773613.00</td>\n",
       "      <td>-2270.62</td>\n",
       "      <td>SHETLAND GP.</td>\n",
       "      <td>Jorsalfare Fm.</td>\n",
       "      <td>14.26</td>\n",
       "      <td>1.76</td>\n",
       "      <td>1.29</td>\n",
       "      <td>1.25</td>\n",
       "      <td>2.34</td>\n",
       "      <td>62.01</td>\n",
       "      <td>nan</td>\n",
       "      <td>0.38</td>\n",
       "      <td>2.93</td>\n",
       "      <td>113.06</td>\n",
       "      <td>75.44</td>\n",
       "      <td>nan</td>\n",
       "      <td>nan</td>\n",
       "      <td>nan</td>\n",
       "      <td>nan</td>\n",
       "      <td>0.01</td>\n",
       "      <td>nan</td>\n",
       "      <td>nan</td>\n",
       "      <td>nan</td>\n",
       "      <td>1.76</td>\n",
       "      <td>9</td>\n",
       "      <td>33</td>\n",
       "    </tr>\n",
       "    <tr>\n",
       "      <th>136182</th>\n",
       "      <td>35/9-8</td>\n",
       "      <td>3094.13</td>\n",
       "      <td>536229.38</td>\n",
       "      <td>6794883.50</td>\n",
       "      <td>-3069.69</td>\n",
       "      <td>VIKING GP.</td>\n",
       "      <td>Heather Fm.</td>\n",
       "      <td>8.53</td>\n",
       "      <td>nan</td>\n",
       "      <td>5.47</td>\n",
       "      <td>5.68</td>\n",
       "      <td>2.60</td>\n",
       "      <td>121.09</td>\n",
       "      <td>nan</td>\n",
       "      <td>0.33</td>\n",
       "      <td>3.27</td>\n",
       "      <td>80.85</td>\n",
       "      <td>nan</td>\n",
       "      <td>8.50</td>\n",
       "      <td>18.21</td>\n",
       "      <td>153.35</td>\n",
       "      <td>nan</td>\n",
       "      <td>-0.01</td>\n",
       "      <td>nan</td>\n",
       "      <td>5.03</td>\n",
       "      <td>16.09</td>\n",
       "      <td>nan</td>\n",
       "      <td>12</td>\n",
       "      <td>23</td>\n",
       "    </tr>\n",
       "    <tr>\n",
       "      <th>19715</th>\n",
       "      <td>15/9-14</td>\n",
       "      <td>3478.68</td>\n",
       "      <td>423277.72</td>\n",
       "      <td>6461835.00</td>\n",
       "      <td>-3452.23</td>\n",
       "      <td>VESTLAND GP.</td>\n",
       "      <td>Skagerrak Fm.</td>\n",
       "      <td>8.46</td>\n",
       "      <td>3.26</td>\n",
       "      <td>1.39</td>\n",
       "      <td>0.94</td>\n",
       "      <td>2.32</td>\n",
       "      <td>29.17</td>\n",
       "      <td>nan</td>\n",
       "      <td>0.22</td>\n",
       "      <td>nan</td>\n",
       "      <td>76.03</td>\n",
       "      <td>37.66</td>\n",
       "      <td>nan</td>\n",
       "      <td>7.39</td>\n",
       "      <td>nan</td>\n",
       "      <td>nan</td>\n",
       "      <td>-0.04</td>\n",
       "      <td>0.17</td>\n",
       "      <td>nan</td>\n",
       "      <td>nan</td>\n",
       "      <td>3.73</td>\n",
       "      <td>11</td>\n",
       "      <td>52</td>\n",
       "    </tr>\n",
       "    <tr>\n",
       "      <th>6157</th>\n",
       "      <td>15/9-14</td>\n",
       "      <td>1417.86</td>\n",
       "      <td>423243.25</td>\n",
       "      <td>6461867.00</td>\n",
       "      <td>-1392.81</td>\n",
       "      <td>HORDALAND GP.</td>\n",
       "      <td>Utsira Fm.</td>\n",
       "      <td>15.14</td>\n",
       "      <td>nan</td>\n",
       "      <td>1.16</td>\n",
       "      <td>1.20</td>\n",
       "      <td>2.00</td>\n",
       "      <td>64.62</td>\n",
       "      <td>nan</td>\n",
       "      <td>0.47</td>\n",
       "      <td>2.06</td>\n",
       "      <td>142.99</td>\n",
       "      <td>24.08</td>\n",
       "      <td>nan</td>\n",
       "      <td>14.66</td>\n",
       "      <td>nan</td>\n",
       "      <td>nan</td>\n",
       "      <td>0.02</td>\n",
       "      <td>0.14</td>\n",
       "      <td>nan</td>\n",
       "      <td>nan</td>\n",
       "      <td>nan</td>\n",
       "      <td>5</td>\n",
       "      <td>67</td>\n",
       "    </tr>\n",
       "    <tr>\n",
       "      <th>134627</th>\n",
       "      <td>35/9-8</td>\n",
       "      <td>2857.77</td>\n",
       "      <td>536234.19</td>\n",
       "      <td>6794888.50</td>\n",
       "      <td>-2833.45</td>\n",
       "      <td>VIKING GP.</td>\n",
       "      <td>Intra Heather Fm. Sst.</td>\n",
       "      <td>8.53</td>\n",
       "      <td>nan</td>\n",
       "      <td>1.58</td>\n",
       "      <td>1.83</td>\n",
       "      <td>2.30</td>\n",
       "      <td>69.67</td>\n",
       "      <td>nan</td>\n",
       "      <td>0.21</td>\n",
       "      <td>3.23</td>\n",
       "      <td>82.85</td>\n",
       "      <td>nan</td>\n",
       "      <td>8.50</td>\n",
       "      <td>nan</td>\n",
       "      <td>154.77</td>\n",
       "      <td>nan</td>\n",
       "      <td>0.00</td>\n",
       "      <td>nan</td>\n",
       "      <td>0.56</td>\n",
       "      <td>9.00</td>\n",
       "      <td>nan</td>\n",
       "      <td>12</td>\n",
       "      <td>31</td>\n",
       "    </tr>\n",
       "  </tbody>\n",
       "</table>\n",
       "</div>"
      ],
      "text/plain": [
       "              WELL  DEPTH_MD     X_LOC      Y_LOC    Z_LOC          GROUP  \\\n",
       "112114    34/3-3 A   4930.96 486173.75 6853265.00 -3893.57     DUNLIN GP.   \n",
       "19895      15/9-14   3506.04 423279.16 6461834.50 -3479.55   VESTLAND GP.   \n",
       "77705   34/10-16 R   1499.84 455758.00 6773611.50 -1477.83  HORDALAND GP.   \n",
       "43279       25/5-3   2595.09 479092.97 6605456.50 -2572.95     DUNLIN GP.   \n",
       "34838       25/5-3   1312.06 479084.41 6605460.00 -1289.99  HORDALAND GP.   \n",
       "82921   34/10-16 R   2292.67 455758.59 6773613.00 -2270.62   SHETLAND GP.   \n",
       "136182      35/9-8   3094.13 536229.38 6794883.50 -3069.69     VIKING GP.   \n",
       "19715      15/9-14   3478.68 423277.72 6461835.00 -3452.23   VESTLAND GP.   \n",
       "6157       15/9-14   1417.86 423243.25 6461867.00 -1392.81  HORDALAND GP.   \n",
       "134627      35/9-8   2857.77 536234.19 6794888.50 -2833.45     VIKING GP.   \n",
       "\n",
       "                     FORMATION  CALI  RSHA  RMED  RDEP  RHOB     GR  SGR  \\\n",
       "112114                Cook Fm.  8.66   nan  0.85  0.84  2.21  47.35  nan   \n",
       "19895            Skagerrak Fm.  8.38  1.23  0.59  0.48  2.29  33.87  nan   \n",
       "77705               Utsira Fm. 16.48  1.41  0.74  0.75  2.08  19.28  nan   \n",
       "43279               Burton Fm.  8.60   nan  3.86  3.00  2.54  92.58  nan   \n",
       "34838                Skade Fm. 13.14   nan  1.49  1.54  2.11  65.25  nan   \n",
       "82921           Jorsalfare Fm. 14.26  1.76  1.29  1.25  2.34  62.01  nan   \n",
       "136182             Heather Fm.  8.53   nan  5.47  5.68  2.60 121.09  nan   \n",
       "19715            Skagerrak Fm.  8.46  3.26  1.39  0.94  2.32  29.17  nan   \n",
       "6157                Utsira Fm. 15.14   nan  1.16  1.20  2.00  64.62  nan   \n",
       "134627  Intra Heather Fm. Sst.  8.53   nan  1.58  1.83  2.30  69.67  nan   \n",
       "\n",
       "        NPHI   PEF    DTC    SP    BS   ROP    DTS  DCAL  DRHO  MUDWEIGHT  \\\n",
       "112114  0.33  7.04  82.94   nan  8.50 22.32 167.14   nan  0.00        nan   \n",
       "19895   0.25   nan  90.12 34.07   nan 14.83    nan   nan -0.02       0.17   \n",
       "77705    nan 12.89 122.12 56.43   nan   nan    nan   nan  0.01        nan   \n",
       "43279   0.33  4.27  89.24  1.82  8.50   nan    nan   nan  0.01        nan   \n",
       "34838    nan  4.11 142.66 -2.67 12.25   nan    nan   nan  0.00        nan   \n",
       "82921   0.38  2.93 113.06 75.44   nan   nan    nan   nan  0.01        nan   \n",
       "136182  0.33  3.27  80.85   nan  8.50 18.21 153.35   nan -0.01        nan   \n",
       "19715   0.22   nan  76.03 37.66   nan  7.39    nan   nan -0.04       0.17   \n",
       "6157    0.47  2.06 142.99 24.08   nan 14.66    nan   nan  0.02       0.14   \n",
       "134627  0.21  3.23  82.85   nan  8.50   nan 154.77   nan  0.00        nan   \n",
       "\n",
       "        RMIC  ROPA  RXO  GROUP_LABELS  FORMATION_LABELS  \n",
       "112114   nan 22.98  nan             3                 9  \n",
       "19895    nan   nan 1.18            11                52  \n",
       "77705    nan   nan 1.41             5                67  \n",
       "43279    nan   nan  nan             3                 8  \n",
       "34838    nan   nan  nan             5                50  \n",
       "82921    nan   nan 1.76             9                33  \n",
       "136182  5.03 16.09  nan            12                23  \n",
       "19715    nan   nan 3.73            11                52  \n",
       "6157     nan   nan  nan             5                67  \n",
       "134627  0.56  9.00  nan            12                31  "
      ]
     },
     "execution_count": 104,
     "metadata": {},
     "output_type": "execute_result"
    }
   ],
   "source": [
    "open_test_features.sample(10)"
   ]
  },
  {
   "cell_type": "code",
   "execution_count": 105,
   "metadata": {},
   "outputs": [
    {
     "data": {
      "text/plain": [
       "array([2, 2, 2, ..., 0, 0, 0], dtype=int64)"
      ]
     },
     "metadata": {},
     "output_type": "display_data"
    },
    {
     "data": {
      "text/plain": [
       "array([65000, 65000, 65000, ..., 30000, 30000, 30000])"
      ]
     },
     "metadata": {},
     "output_type": "display_data"
    }
   ],
   "source": [
    "open_test_features['RMED'] = np.where((open_test_features.RMED <= 0), np.nan, open_test_features.RMED)\n",
    "open_test_features['RMED'] = np.where((open_test_features.RMED > 2000), 2000, open_test_features.RMED)\n",
    "\n",
    "open_test_features['RSHA'] = np.where((open_test_features.RSHA <= 0), np.nan, open_test_features.RSHA)\n",
    "open_test_features['RSHA'] = np.where((open_test_features.RSHA > 2000), np.nan, open_test_features.RSHA)\n",
    "\n",
    "open_test_features['RDEP'] = np.where((open_test_features.RDEP <= 0), np.nan, open_test_features.RDEP)\n",
    "open_test_features['RDEP'] = np.where((open_test_features.RDEP > 2000), np.nan, open_test_features.RDEP)\n",
    "\n",
    "open_test_features['GR'] = np.where((open_test_features.GR > 200), 200, open_test_features.GR)\n",
    "\n",
    "## Fix outlier issue for ROP\n",
    "\n",
    "m4 = open_test_features[open_test_features['ROP'] < 0]\n",
    "open_test_features['ROP'] = np.where((open_test_features.ROP <= 0), np.nan, open_test_features.ROP)\n",
    "\n",
    "## Some of the data fits better using the log mean.\n",
    "for column in open_test_features[['RSHA', 'RMED', 'RDEP', 'GR', 'PEF']]:\n",
    "    open_test_features[column] = np.log(open_test_features[column])\n",
    "\n",
    "# Log scale for ROP\n",
    "\n",
    "open_test_features['ROP'] = np.log(open_test_features['ROP'])\n",
    "\n",
    "open_test_features.fillna(0, inplace=True)\n",
    "open_test_features = open_test_features[['X_LOC', 'Y_LOC', 'Z_LOC', 'DEPTH_MD', 'CALI', 'RSHA', 'RMED', 'RDEP', 'RHOB', 'GR', 'NPHI', 'PEF', 'DTC', 'SP', 'BS', 'GROUP_LABELS', 'FORMATION_LABELS', 'ROP']]\n",
    "open_test_features = scaler.transform(open_test_features)\n",
    "test_prediction = model.predict(open_test_features)\n",
    "display(test_prediction)\n",
    "category_to_lithology = {y:x for x,y in lithology_numbers.items()}\n",
    "test_prediction_for_submission = np.vectorize(category_to_lithology.get)(test_prediction)\n",
    "display(test_prediction_for_submission)\n",
    "np.savetxt('test_predictions_10_26_2020.csv', test_prediction_for_submission, header='lithology', comments='', fmt='%i')"
   ]
  },
  {
   "cell_type": "markdown",
   "metadata": {},
   "source": [
    "### Submitting code for final scoring\n",
    "Commentes below from organizer for submitting final code:\n",
    "\n",
    "*At the end of the competition, the highest performing teams are invited to submit code for blind scoring on a hidden test dataset. The winner will be the team with the best score on the hidden test dataset, not the weekly leaderboard. In order to do this, you must submit the following in a zip-file:*\n",
    "* *Code to do the inference*\n",
    "* *Any persisted data in the form of pre-trained model or models, scalers, and more*\n",
    "* *Information about your environment*\n",
    "\n",
    "*There are many ways of doing this. In the example above, the code to do the inference would be the `Model` class in a python-file, the persisted data would be the files `model.pkl` and `scaler.pkl`.* \n",
    "\n",
    "*Your python environment needs to be replicable by the judges of the competition. There are many ways of doing this. Examples include dumping pip package versions to a file*"
   ]
  },
  {
   "cell_type": "code",
   "execution_count": 106,
   "metadata": {},
   "outputs": [],
   "source": [
    "!pip freeze > requirements_10_26_2020.txt"
   ]
  },
  {
   "cell_type": "markdown",
   "metadata": {},
   "source": [
    "If you are using Anaconda, then you can export an envionment file as follows"
   ]
  },
  {
   "cell_type": "code",
   "execution_count": 107,
   "metadata": {},
   "outputs": [],
   "source": [
    "!conda env export > environment_10_26_2020.yml"
   ]
  },
  {
   "cell_type": "markdown",
   "metadata": {},
   "source": [
    "Other options include `Docker`, `pipenv` and many more."
   ]
  }
 ],
 "metadata": {
  "kernelspec": {
   "display_name": "Python 3",
   "language": "python",
   "name": "python3"
  },
  "language_info": {
   "codemirror_mode": {
    "name": "ipython",
    "version": 3
   },
   "file_extension": ".py",
   "mimetype": "text/x-python",
   "name": "python",
   "nbconvert_exporter": "python",
   "pygments_lexer": "ipython3",
   "version": "3.7.6"
  }
 },
 "nbformat": 4,
 "nbformat_minor": 4
}
