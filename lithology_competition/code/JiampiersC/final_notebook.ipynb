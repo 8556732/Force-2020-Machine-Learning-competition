{
 "cells": [
  {
   "cell_type": "code",
   "execution_count": 1,
   "metadata": {},
   "outputs": [],
   "source": [
    "import numpy as np\n",
    "import pandas as pd\n",
    "import pickle\n",
    "import math"
   ]
  },
  {
   "cell_type": "code",
   "execution_count": 6,
   "metadata": {},
   "outputs": [],
   "source": [
    "class Model(object):\n",
    "    def __init__(self, df):\n",
    "        self.df = df\n",
    "        # Load columns from train set\n",
    "        self.x_columns = pickle.load( open(r'columns.pkl', \"rb\"))\n",
    "        # Load median of features from train set\n",
    "        self.dfmedian = pickle.load( open(r'df_median.pkl', \"rb\"))\n",
    "        \n",
    "        # make feauture engineering\n",
    "        X = self.feature_engineering(df)\n",
    "        \n",
    "        # make pre-processing\n",
    "        self.X = self._preprocess(X)\n",
    "        \n",
    "        \n",
    "    def feature_engineering(self, df):\n",
    "\n",
    "        # Calculate gamma ray index (IGR)\n",
    "        list_igr = ''\n",
    "        for well in df['WELL'].unique():\n",
    "            df_aux = df[df['WELL'] == well]\n",
    "            GR_max = df_aux['GR'].max()\n",
    "            GR_min = df_aux['GR'].min()\n",
    "            df_aux['IGR'] = df_aux['GR'].apply(lambda x: (x-GR_min)/(GR_max-GR_min))\n",
    "            if list_igr == '':\n",
    "                list_igr = df_aux['IGR'].values\n",
    "            else:\n",
    "                list_igr = np.concatenate([list_igr,df_aux['IGR'].values])\n",
    "\n",
    "        df['IGR'] = list_igr    \n",
    "\n",
    "\n",
    "        # Calculate the medium porosity (PHIA)\n",
    "        data = df.copy()\n",
    "        data = data[['RHOB', 'NPHI']]\n",
    "\n",
    "        def phia(rhob,nphi):\n",
    "            if not(str(rhob).isalpha()) and not(str(nphi).isalpha()):\n",
    "                return math.sqrt(((rhob*rhob)+(nphi*nphi))/2)\n",
    "            else:\n",
    "                return np.nan\n",
    "\n",
    "        data['PHIA'] = data.apply(lambda row: phia(row[0],row[1]),axis=1)\n",
    "        df['PHIA'] = data['PHIA']\n",
    "\n",
    "\n",
    "        # Calculate total organic carbon (TOC)\n",
    "        data = df.copy()\n",
    "        data = data[['RHOB']]\n",
    "\n",
    "        data['TOC'] = data.apply(lambda x: ((154.497/x) - 57.261))\n",
    "        df['TOC'] = data['TOC']\n",
    "\n",
    "\n",
    "        #Calculate apparent matrix grain density (RHOMMA)\n",
    "        data = df.copy()\n",
    "        data = data[['RHOB', 'PHIA']]\n",
    "\n",
    "        def rhomma(rhob,phia):\n",
    "            if not(str(rhob).isalpha()) and not(str(phia).isalpha()):\n",
    "                return ((rhob*phia)/(1-phia))\n",
    "            else:\n",
    "                return np.nan\n",
    "\n",
    "        data['RHOMMA'] = data.apply(lambda row: rhomma(row[0],row[1]),axis=1)\n",
    "        df['RHOMMA'] = data['RHOMMA']\n",
    "\n",
    "\n",
    "        # Ratio GR/RHOB\n",
    "        data = df.copy()\n",
    "        data = data[['GR', 'RHOB']]\n",
    "\n",
    "        def ratiogr(gr,rhob):\n",
    "            if not(str(gr).isalpha()) and not(str(rhob).isalpha()):\n",
    "                return (gr/rhob)\n",
    "            else:\n",
    "                return np.nan\n",
    "\n",
    "        data['GR/RHOB'] = data.apply(lambda row: ratiogr(row[0],row[1]),axis=1)\n",
    "        df['GR_RHOB'] = data['GR/RHOB']\n",
    "\n",
    "\n",
    "        # Ratio PE/RHOB\n",
    "        data = df.copy()\n",
    "        data = data[['PEF', 'RHOB']]\n",
    "\n",
    "        def ratiopef(pef,rhob):\n",
    "            if not(str(pef).isalpha()) and not(str(rhob).isalpha()):\n",
    "                return (pef/rhob)\n",
    "            else:\n",
    "                return np.nan\n",
    "        data['PEF/RHOB'] = data.apply(lambda row: ratiogr(row[0],row[1]),axis=1)\n",
    "        df['PEF_RHOB'] = data['PEF/RHOB']\n",
    "\n",
    "        return df\n",
    "        \n",
    "        \n",
    "    def _preprocess(self, df):\n",
    "        \n",
    "        # select features\n",
    "        df = df[['DEPTH_MD', 'FORMATION', 'CALI', 'RSHA', 'RMED', 'RDEP', 'RHOB', 'GR', 'NPHI', 'PEF', 'DTC', 'SP', 'BS',\n",
    "                 'DRHO','X_LOC','Y_LOC',\n",
    "                 'IGR','PHIA','TOC','GR_RHOB','PEF_RHOB','RHOMMA' ]]\n",
    "        \n",
    "        # handle missing values\n",
    "        df.FORMATION = df.FORMATION.fillna('Utsira Fm.')\n",
    "        df.BS = df.BS.fillna(12.250001).values\n",
    "        df.fillna(self.dfmedian, inplace=True)\n",
    "        \n",
    "        # one-hot encoding for categorical features\n",
    "        df = pd.get_dummies(df, columns=['FORMATION'], drop_first=True)\n",
    "        \n",
    "        # sort features\n",
    "        df_aux = pd.DataFrame(columns=self.x_columns, data=np.zeros((df.shape[0], len(self.x_columns))))\n",
    "        for col in df_aux.columns:\n",
    "            if col in df.columns:\n",
    "                df_aux[col] = df[col].values\n",
    "\n",
    "        return df_aux\n",
    "        \n",
    "    def predict(self, postproc=True):\n",
    "        \n",
    "        yt = np.zeros((self.X.shape[0], 12))\n",
    "\n",
    "        for ii in range(5): # change\n",
    "            clf = pickle.load(open('model' + str(ii) + '.pkl', 'rb'))\n",
    "            yt += clf.predict_proba(self.X)\n",
    "            print(\"Model: \", ii)\n",
    "            \n",
    "        lithology_numbers = {30000: 0, 65030: 1, 65000: 2, 80000: 3, 74000: 4, 70000: 5, 70032: 6, 88000: 7, 86000: 8,\n",
    "                 99000: 9, 90000: 10, 93000: 11}\n",
    "            \n",
    "        test_prediction = np.argmax(yt, axis=-1)\n",
    "        category_to_lithology = {y:x for x,y in lithology_numbers.items()}\n",
    "        test_prediction_for_submission = np.vectorize(category_to_lithology.get)(test_prediction)\n",
    "        \n",
    "        if postproc:\n",
    "            test_prediction_for_submission = self._postprocess(test_prediction_for_submission)\n",
    "        \n",
    "        return test_prediction_for_submission\n",
    "    \n",
    "    def _postprocess(self, test_prediction, wdw=20):\n",
    "        \n",
    "        print(\"post-processing...\")\n",
    "        \n",
    "        def Update(values):\n",
    "            old = values[0]\n",
    "            for i in range(len(values)):\n",
    "                if i == len(values)-1:\n",
    "                    if (values[i] != old):\n",
    "                        values[i] = old\n",
    "                    break\n",
    "                if (old == values[i+1]) and (values[i] != old):\n",
    "                    values[i] = old\n",
    "                old = values[i]\n",
    "            return values\n",
    "\n",
    "        df_test = self.df\n",
    "        df_test['Facies'] = test_prediction\n",
    "\n",
    "        for we in df_test['WELL'].unique():\n",
    "            a = df_test[df_test['WELL']==we]['Facies'].value_counts()\n",
    "            max_value =a.index[0].astype('int64')\n",
    "            a = a[a < wdw].index\n",
    "            for a_ in a :\n",
    "                v = df_test[(df_test['WELL']==we)]['Facies'].values\n",
    "                v[v==a_] = max_value\n",
    "                df_test.loc[df_test['WELL']==we,'Facies'] = v\n",
    "\n",
    "            values = df_test[df_test['WELL']==we]['Facies'].values    \n",
    "            values = Update(values)\n",
    "            df_test.loc[df_test['WELL']==we,'Facies'] = values\n",
    "            \n",
    "        return df_test['Facies'].values"
   ]
  },
  {
   "cell_type": "code",
   "execution_count": 7,
   "metadata": {},
   "outputs": [],
   "source": [
    "open_test_features = pd.read_csv('test.csv', sep=';')"
   ]
  },
  {
   "cell_type": "code",
   "execution_count": 8,
   "metadata": {},
   "outputs": [
    {
     "name": "stderr",
     "output_type": "stream",
     "text": [
      "/usr/local/lib/python3.6/dist-packages/ipykernel_launcher.py:24: SettingWithCopyWarning: \n",
      "A value is trying to be set on a copy of a slice from a DataFrame.\n",
      "Try using .loc[row_indexer,col_indexer] = value instead\n",
      "\n",
      "See the caveats in the documentation: http://pandas.pydata.org/pandas-docs/stable/indexing.html#indexing-view-versus-copy\n",
      "/usr/local/lib/python3.6/dist-packages/ipykernel_launcher.py:25: FutureWarning: elementwise comparison failed; returning scalar instead, but in the future will perform elementwise comparison\n"
     ]
    }
   ],
   "source": [
    "model2 = Model(open_test_features)"
   ]
  },
  {
   "cell_type": "code",
   "execution_count": 9,
   "metadata": {},
   "outputs": [
    {
     "name": "stdout",
     "output_type": "stream",
     "text": [
      "Model:  0\n",
      "Model:  1\n",
      "Model:  2\n",
      "Model:  3\n",
      "Model:  4\n"
     ]
    },
    {
     "data": {
      "text/plain": [
       "array([65000, 65000, 65000, ..., 30000, 30000, 30000])"
      ]
     },
     "execution_count": 9,
     "metadata": {},
     "output_type": "execute_result"
    }
   ],
   "source": [
    "y_pr = model2.predict(postproc=False)\n",
    "y_pr"
   ]
  },
  {
   "cell_type": "code",
   "execution_count": 10,
   "metadata": {},
   "outputs": [
    {
     "name": "stdout",
     "output_type": "stream",
     "text": [
      "post-processing...\n"
     ]
    }
   ],
   "source": [
    "y_pr_pp20 = model2._postprocess(y_pr, 20)"
   ]
  },
  {
   "cell_type": "code",
   "execution_count": null,
   "metadata": {},
   "outputs": [],
   "source": [
    "np.savetxt('sub.csv', y_pr_pp20, header='lithology', comments='', fmt='%i')"
   ]
  },
  {
   "cell_type": "raw",
   "metadata": {},
   "source": [
    "!pip freeze > requirements.txt"
   ]
  }
 ],
 "metadata": {
  "kernelspec": {
   "display_name": "Python 3",
   "language": "python",
   "name": "python3"
  },
  "language_info": {
   "codemirror_mode": {
    "name": "ipython",
    "version": 3
   },
   "file_extension": ".py",
   "mimetype": "text/x-python",
   "name": "python",
   "nbconvert_exporter": "python",
   "pygments_lexer": "ipython3",
   "version": "3.6.9"
  }
 },
 "nbformat": 4,
 "nbformat_minor": 4
}
